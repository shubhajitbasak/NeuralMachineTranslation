{
 "cells": [
  {
   "cell_type": "markdown",
   "metadata": {
    "colab_type": "text",
    "id": "BYQt0nUEbAgN"
   },
   "source": [
    "# Neural Machine Translation\n",
    "\n",
    "In this task we develop a neural machine translation (NMT) system to translate text from one language to another. For this, one need to chose the data to train the models, perform data processing and train a sequence2sequence neural model.\n"
   ]
  },
  {
   "cell_type": "markdown",
   "metadata": {
    "colab_type": "text",
    "id": "dN3Xr63q1YeC"
   },
   "source": [
    "#### Author : Shubhajit Basak"
   ]
  },
  {
   "cell_type": "markdown",
   "metadata": {
    "colab_type": "text",
    "id": "iYIeebfnyNDX"
   },
   "source": [
    "**Import the required packages :**"
   ]
  },
  {
   "cell_type": "code",
   "execution_count": 1,
   "metadata": {
    "colab": {
     "base_uri": "https://localhost:8080/",
     "height": 51
    },
    "colab_type": "code",
    "id": "qu_ekiiihsBS",
    "outputId": "71ba7414-a977-4f14-a295-0991fa7ec639"
   },
   "outputs": [
    {
     "name": "stdout",
     "output_type": "stream",
     "text": [
      "[nltk_data] Downloading package punkt to /root/nltk_data...\n",
      "[nltk_data]   Unzipping tokenizers/punkt.zip.\n"
     ]
    }
   ],
   "source": [
    "import sys\n",
    "import os\n",
    "import pandas as pd\n",
    "import numpy as np\n",
    "\n",
    "from sklearn.model_selection import train_test_split\n",
    "\n",
    "import nltk\n",
    "nltk.download('punkt') # Uncomment if running from Google Colab\n",
    "from nltk.translate.bleu_score import corpus_bleu\n"
   ]
  },
  {
   "cell_type": "code",
   "execution_count": 2,
   "metadata": {
    "colab": {
     "base_uri": "https://localhost:8080/",
     "height": 34
    },
    "colab_type": "code",
    "id": "r7XVY3x1v9IF",
    "outputId": "c430a9eb-9fda-43a8-f2b3-36be2c26f502"
   },
   "outputs": [
    {
     "name": "stderr",
     "output_type": "stream",
     "text": [
      "Using TensorFlow backend.\n"
     ]
    }
   ],
   "source": [
    "from keras.layers import Input, LSTM, Embedding, Dense\n",
    "from keras.models import Model"
   ]
  },
  {
   "cell_type": "markdown",
   "metadata": {
    "colab_type": "text",
    "id": "d33hukl0w-Nh"
   },
   "source": [
    "## Section 1- Data Collection and Preprocessing \n"
   ]
  },
  {
   "cell_type": "markdown",
   "metadata": {
    "colab_type": "text",
    "id": "uAFJXKQaeN-d"
   },
   "source": [
    "There are few datasets to train an NMT system available from Tatoeba Project (http://www.manythings.org/anki/) or OPUS project (http://opus.nlpl.eu/).\n",
    "\n",
    "*  Download a langauge pair (preferably European language) and **extract** the file(s) and upload it to colab\n",
    "*  Create a list of lines by splitting the text file at every occurance of '\\n'\n",
    "*  Print number of sentences\n",
    "*  Limit the amount of senteces to 10,000 lines (but more than 5,000 lines)\n",
    "*  Split the data into train and test [You can split validation set here or while training use kerase validation_split option]\n",
    "*  Print 100th sentence in original script[ not unicode] for source and target language\n"
   ]
  },
  {
   "cell_type": "markdown",
   "metadata": {
    "colab_type": "text",
    "id": "vkTPgZCiyfL-"
   },
   "source": [
    "**Note -** I am using 15000 records instead of 10000 records for better performance. I will split it to train and test after preprocessing the data at task 2 Otherwise we have to preprocess train and test separately and will create duplicate code."
   ]
  },
  {
   "cell_type": "code",
   "execution_count": 3,
   "metadata": {
    "colab": {
     "base_uri": "https://localhost:8080/",
     "height": 255
    },
    "colab_type": "code",
    "id": "9U9BaH3ozUGf",
    "outputId": "ff3fe608-443b-419e-b368-05d133794466"
   },
   "outputs": [
    {
     "name": "stdout",
     "output_type": "stream",
     "text": [
      "--2019-04-18 21:12:20--  http://www.manythings.org/anki/fra-eng.zip\n",
      "Resolving www.manythings.org (www.manythings.org)... 104.24.108.196, 104.24.109.196, 2606:4700:30::6818:6cc4, ...\n",
      "Connecting to www.manythings.org (www.manythings.org)|104.24.108.196|:80... connected.\n",
      "HTTP request sent, awaiting response... 200 OK\n",
      "Length: 3423204 (3.3M) [application/zip]\n",
      "Saving to: ‘fra-eng.zip’\n",
      "\n",
      "fra-eng.zip         100%[===================>]   3.26M  4.91MB/s    in 0.7s    \n",
      "\n",
      "2019-04-18 21:12:21 (4.91 MB/s) - ‘fra-eng.zip’ saved [3423204/3423204]\n",
      "\n",
      "Archive:  fra-eng.zip\n",
      "  inflating: _about.txt              \n",
      "  inflating: fra.txt                 \n"
     ]
    }
   ],
   "source": [
    "#your code goes here\n",
    "\n",
    "#------------- Uncomment Following if running from Colab ------------ #\n",
    "if not (os.path.isfile('./fra.txt')):\n",
    "  !wget http://www.manythings.org/anki/fra-eng.zip\n",
    "  !unzip fra-eng.zip\n",
    "\n",
    "#your code goes here\n",
    "filename = \"./fra.txt\"\n",
    "with open(filename , 'r') as f:\n",
    "    lines=f.read().split('\\n')\n",
    "\n",
    "lines = lines[0:15000]"
   ]
  },
  {
   "cell_type": "code",
   "execution_count": 4,
   "metadata": {
    "colab": {
     "base_uri": "https://localhost:8080/",
     "height": 51
    },
    "colab_type": "code",
    "id": "7NkJaeq8zg5H",
    "outputId": "814b1583-c855-4760-9618-f7a4677341ae"
   },
   "outputs": [
    {
     "name": "stdout",
     "output_type": "stream",
     "text": [
      "15000\n",
      "Come in.\tEntrez !\n"
     ]
    }
   ],
   "source": [
    "print(len(lines))\n",
    "print(lines[100])"
   ]
  },
  {
   "cell_type": "markdown",
   "metadata": {
    "colab_type": "text",
    "id": "x63IEWjUxkJj"
   },
   "source": [
    "**Task 2** \n",
    "\n",
    "* Add '\\t' to denote begining of sentence and '\\n'  or '<eos\\>' to denote end of the sentence to the each target line.\n",
    "* Preprocess (word tokenisation, lowecasing) the text."
   ]
  },
  {
   "cell_type": "code",
   "execution_count": 0,
   "metadata": {
    "colab": {},
    "colab_type": "code",
    "id": "pmNr8gnzfCeS"
   },
   "outputs": [],
   "source": [
    "# your code goes here\n",
    "input_texts = list()\n",
    "target_texts = list()\n",
    "input_characters = set()\n",
    "target_characters = set()\n"
   ]
  },
  {
   "cell_type": "markdown",
   "metadata": {
    "colab_type": "text",
    "id": "FkWVrtK-zhFA"
   },
   "source": [
    "Adding the start tag as 'sos_' and end tag as '_eos' after lowering the text"
   ]
  },
  {
   "cell_type": "code",
   "execution_count": 0,
   "metadata": {
    "colab": {},
    "colab_type": "code",
    "id": "y-wxzEYYktM2"
   },
   "outputs": [],
   "source": [
    "for line in lines:\n",
    "    input_text, target_text = line.split('\\t')\n",
    "    target_text = 'sos_ ' + target_text.lower() + ' _eos'\n",
    "    input_texts.append(input_text.lower())\n",
    "    target_texts.append(target_text)"
   ]
  },
  {
   "cell_type": "markdown",
   "metadata": {
    "colab_type": "text",
    "id": "JdZtbi4PzgEi"
   },
   "source": [
    "Tokenize the data and creating the Source and Target Vocabulary"
   ]
  },
  {
   "cell_type": "code",
   "execution_count": 0,
   "metadata": {
    "colab": {},
    "colab_type": "code",
    "id": "mX9qBHE7kuQ1"
   },
   "outputs": [],
   "source": [
    "# Source Vocabulary\n",
    "Source_vocabulary=set()\n",
    "source_length_list=[]\n",
    "for line in input_texts:\n",
    "    source_length_list.append(len(nltk.word_tokenize(line)))\n",
    "    for word in nltk.word_tokenize(line):\n",
    "        if word not in Source_vocabulary:\n",
    "            Source_vocabulary.add(word)\n",
    " \n",
    "\n",
    "# Target Vocabulary\n",
    "target_vocabulary=set()\n",
    "target_length_list=[]\n",
    "for line in target_texts:\n",
    "    target_length_list.append(len(nltk.word_tokenize(line)))\n",
    "    for word in nltk.word_tokenize(line):\n",
    "        if word not in target_vocabulary:\n",
    "            target_vocabulary.add(word)\n",
    "\n",
    "num_source_tokens = len(Source_vocabulary)\n",
    "num_target_tokens = len(target_vocabulary)\n",
    "\n",
    "max_source_seq_length = np.max(source_length_list)\n",
    "max_target_seq_length = np.max(target_length_list)"
   ]
  },
  {
   "cell_type": "markdown",
   "metadata": {
    "colab_type": "text",
    "id": "FAFEwJlJ0Faw"
   },
   "source": [
    "Split the data into train and test after preprocessing "
   ]
  },
  {
   "cell_type": "code",
   "execution_count": 0,
   "metadata": {
    "colab": {},
    "colab_type": "code",
    "id": "mgNvP9cMk9PR"
   },
   "outputs": [],
   "source": [
    "input_texts_train, input_texts_test, target_texts_train, target_texts_test = train_test_split(\n",
    "    input_texts,target_texts, test_size=0.33, random_state=42)"
   ]
  },
  {
   "cell_type": "code",
   "execution_count": 9,
   "metadata": {
    "colab": {
     "base_uri": "https://localhost:8080/",
     "height": 156
    },
    "colab_type": "code",
    "id": "x4-mCmoMxAd0",
    "outputId": "1c61e843-4ce5-4b3d-9780-4d4ac94f4007"
   },
   "outputs": [
    {
     "name": "stdout",
     "output_type": "stream",
     "text": [
      "Number of samples: 15000\n",
      "Number of unique source language tokens: 2883\n",
      "Number of unique target language tokens: 6056\n",
      "Max sequence length of source language: 7\n",
      "Max sequence length of target language: 14\n",
      "Source Vocabulary {'call', 'buried', 'insects', 'spinach', 'struck', 'country', 'lid', 'mistaken', 'reptiles', 'cuff', 'see', 'nailed', 'whining', 'wow', 'tied', 'weddings', '99', 'doctors', 'hassle', 'balls', 'anytime', \"n't\", 'divorce', 'packing', 'ruthless', 'helped', 'over', 'tower', 'patrol', 'congratulations', 'cost', 'moved', 'losing', 'neighbors', 'week', 'laughing', 'history', 'group', 'elected', 'store', 'ponchos', 'hobo', 'naked', 'sunday', \"''\", 'suddenly', 'minute', 'resist', 'complain', 'bomb', 'immediately', 'safer', 'boss', 'arrested', 'bored', 'nearly', 'threw', 'news', 'often', 'uninsured', 'surprise', 'complex', 'tools', 'optimistic', 'ethical', 'succeeded', 'trout', 'glad', 'brave', 'laughs', 'climb', 'furious', 'driving', 'painful', 'letter', 'bet', 'word', 'changes', 'accept', 'for', 'he', 'our', 'tight', 'interrupt', 'hear', 'puts', 'tempted', 'only', 'resourceful', 'finish', 'powerful', 'frantic', 'conservative', 'downloaded', 'felon', 'jittery', 'shopping', 'forgiven', 'bed', 'fall', 'wait', 'positive', 'end', 'busy', 'solution', 'ordered', 'ideas', 'turn', 'frat', 'dizzy', 'envy', 'moment', 'stories', 'were', 'vegetarian', 'rear', 'scares', 'engineer', 'want', 'beat', 'fit', 'kidding', 'yacht', 'fetch', 'comedies', 'teachers', 'safe', 'excuse', 'rocks', 'just', 'biologist', 'badly', 'violin', 'midnight', 'welder', 'admire', 'chair', 'hell', 'give', 'translate', 'walking', 'heroes', 'sass', 'faster', 'instinct', 'obeyed', 'washed', 'matters', 'retired', 'surgery', 'clerk', 'began', 'fishing', 'photogenic', 'brought', 'frowning', 'lives', 'mock', 'screaming', 'dark', 'christmas', 'down', 'amazed', 'excited', 'scared', 'toys', 'usually', 'libraries', 'feeling', 'found', 'hugged', 'worrying', 'occupied', 'cranky', 'quickly', 'whimpering', 'owl', 'law', 'human', 'checked', 'city', 'truck', 'partner', 'stuck', 'causes', 'smelled', 'disloyal', 'approve', 'weak', 'cold', 'food', 'ears', 'on', 'evidence', 'sink', 'cows', 'early', 'sober', 'suppose', 'stroke', 'thinking', 'buying', 'adventurous', 'humid', 'saint', 'hello', 'gets', 'prove', 'poking', 'baffled', 'gag', 'bike', 'bounce', 'admit', 'breakfast', 'travesty', 'am', 'counts', 'stir', 'showered', 'grumpy', 'pizza', 'strict', 'foot', 'strongly', 'an', 'remind', 'cars', 'intrigued', 'more', 'jelly', 'shoes', 'live', 'brazil', 'remodeling', 'ax', 'myth', 'embraced', 'protect', 'grown', 'single', 'despise', 'thud', 'ramble', 'charge', 'harmless', 'replaceable', 'rental', 'clocks', 'able', 'ironic', 'lonely', 'red', 'downstairs', 'come', 'italian', 'luck', 'jerk', ',', 'open-minded', 'strange', 'violence', 'band', '?', 'drawn', 'plants', 'hiring', 'easygoing', 'decision', 'replace', 'do', 'beauty', 'baby', 'resentful', 'heaven', 'flies', 'cooperate', 'betrayed', 'fasten', 'jazz', 'crushed', 'lazy', 'fault', 'yelling', 'slept', 'yet', 'sun', 'housesitting', 'takes', 'coffee', 'unfortunate', 'alone', 'blew', 'thief', 'insecure', 'dressed', 'clue', 'sounded', 'carefully', 'happened', 'happens', 'hungry', 'myself', 'remove', 'ladies', 'crafty', 'carp', 'idea', 'raccoon', 'allergies', 'insured', 'ok', 'pick', 'honored', 'revolting', 'oldest', 'focus', 'backward', 'predicted', 'hair', 'poor', 'whisky', 'recently', 'jealous', 'sorry', 'bossy', 'radio', 'precise', 'hideous', 'improbable', 'unconscious', 'hurt', 'blow', 'racket', 'played', 'soap', 'liars', 'born', 'forbid', 'drop', 'outraged', 'cookies', 'spanish', 'course', 'a', 'innocent', 'list', 'protest', 'homework', 'everyone', 'swimming', 'dried', 'freaking', 'italy', 'gentleman', 'tidy', 'we', 'alarm', 'bachelor', 'curt', 'credible', 'moon', 'london', 'looker', 'right', 'hunk', 'know', 'fake', 'rope', 'judge', 'fined', 'change', 'things', 'horses', 'already', 'so', 'voice', 'beside', 'relax', 'surgeon', 'asian', 'saying', 'tolerant', 'that', 'client', 'humble', 'tireless', 'baked', 'mad', 'tourist', 'starved', 'abandon', \"'re\", 'agrees', 'fever', 'hardworking', 'mistake', 'injured', 'gasps', 'show', 'pay', 'australia', 'adore', 'obey', 'poet', 'talked', 'yell', 'could', 'armed', 'doubts', 'soon', 'exit', 'gardening', 'humiliated', 'boy', 'unbiased', 'comfortable', 'understand', 'cook', 'painter', 'study', 'month', 'greedy', 'each', 'unlocked', 'wo', 'married', 'floor', 'forgotten', 'you', 'piano', 'waved', 'choice', 'plan', 'programmer', 'careful', 'outrank', 'sinking', 'korean', 'retiring', 'caught', 'no', 'dreams', 'writes', 'high', 'truthful', 'bookkeeper', 'through', 'orphan', 'artificial', 'huge', 'roof', 'rescued', 'timing', 'poker', 'sent', 'trying', 'poison', 'wine', 'loser', 'bill', 'cities', 'wasted', 'listens', 'me', 'freaked', 'remember', 'lifted', 'beyond', 'always', 'walks', 'gas', 'wheel', 'scold', 'author', 'curse', 'when', 'cautious', 'video', 'reality', 'succeed', 'saturday', 'moscow', 'vote', 'plane', 'weakling', 'changed', 'bank', 'let', 'mind', 'faithful', 'professor', 'window', 'escort', 'won', 'keep', 'shower', 'snack', 'secure', 'dating', 'outrage', 'way', 'lucky', 'match', 'extroverted', 'side', 'home', 'lines', 'knows', 'date', 'prices', 'bless', 'jump', 'wet', 'wears', 'winner', 'arrived', 'invisible', 'decorated', 'speechless', 'song', 'called', 'arm', 'unlikely', 'salmon', 'slacker', 'shrieked', 'mishap', 'set', 'divorced', 'pilot', 'place', 'behave', 'cracked', 'memorize', 'harder', 'hold', 'reliable', 'round', 'engine', '25', 'ink', 'trusted', 'sundays', 'uneasy', 'nodded', 'many', 'danger', 'grapes', 'notice', 'stairs', 'panicked', 'yen', 'doors', 'gifts', 'comment', 'at', 'prison', 'drinking', 'nice', 'pie', 'tragedy', 'personal', 'devil', 'guilty', 'animals', 'catch', 'begun', 'intrigues', 'net', 'biased', 'southpaw', 'theirs', 'hogwash', 'expecting', 'ditched', 'unbelievable', 'finished', 'japanese', 'liar', 'eight', 'romantic', 'out', 'thirsty', 'fairly', 'empty', 'into', 'stutters', 'stolen', 'startled', 'party', 'sound', 'problem', 'oysters', 'vibrating', 'trouble', 'carrots', 'stoned', 'tough', 'desk', 'puzzles', 'lawyers', 'sufficient', 'view', 'wish', 'adaptable', 'stuffed', 'alright', 'coin', 'stop', 'wind', 'retire', 'attacked', 'gold', 'fbi', '17', 'reads', 'crime', 'diary', 'improvised', 'sells', 'handle', 'hectic', 'tries', 'guess', 'dying', 'along', 'woman', 'bargain', 'helping', 'lying', 'hypocrisy', 'money', 'spain', 'falling', 'helpless', 'full', 'surfing', 'brief', 'eighteen', 'eyes', 'juggle', 'fate', 'hi', 'aches', 'declared', 'subtitles', 'love', 'says', 'sirens', \"'s\", 'lost', 'headache', 'chocolate', 'cheats', 'step', 'horse', 'man', 'what', 'vision', 'enemy', 'night', 'parties', 'pencil', 'pain', 'help', 'below', 'justice', 'parrot', 'fact', 'enter', 'paris', 'rad', 'patient', 'bullet', 'eating', 'action', 'the', 'noon', 'bite', 'mum', 'bag', 'fought', 'birthday', 'refreshed', 'proof', 'advice', 'suni', 'diet', 'tax', 'bills', 'wife', 'really', 'ran', 'trust', 'turned', 'short', 'loved', 'ignore', 'shall', 'delighted', 'have', 'pass', 'vanished', 'kleenex', 'frightened', 'famished', 'flat', 'writer', 'picnics', 'scammed', 'hazardous', 'unfair', 'town', 'hint', 'suicidal', 'boxes', 'russia', 'flaw', 'couple', 'lion', 'chubby', 'isolated', 'loss', 'well', 'brownies', 'play', 'exaggerates', 'embarrassing', 'accessible', 'crazy', 'drinks', 'being', 'hottie', 'parole', 'beach', 'picture', 'told', 'violent', 'army', 'dream', 'such', 'dozed', 'screamed', '18', 'pale', 'dentist', 'catholic', 'farce', 'brush', 'tires', 'calls', 'cloudy', 'comedian', 'would', 'quiet', 'cut', 'meat', 'useless', 'meals', 'paperwork', 'pneumonia', 'seat', 'heartbroken', 'freshman', 'smaller', 'tofu', 'garlic', 'pajamas', 'fire', 'monk', 'gate', 'ghost', 'babies', 'ruined', 'ratted', 'gunshots', 'foreigner', 'dishes', 'is', 'tipsy', '&', 'snowman', 'start', 'eat', 'egypt', 'shadow', 'best', 'sec', 'nearsighted', 'gray', 'row', 'legal', 'happening', 'lifeguard', 'obeys', 'romania', 'away', 'failed', 'baker', 'even', 'firefox', 'hardly', 'stayed', 'sweep', 'goal', 'drink', 'lied', 'reasons', 'smell', 'blown', 'third', 'sure', 'hammered', 'lack', 'defenseless', 'strong', 'forgive', 'viral', 'beans', 'cares', 'enjoyed', 'satisfied', 'clean', 'flow', 'disgust', 'great', 'sick', 'fun', 'bottom', 'panting', 'inside', 'or', 'insisted', 'zoo', 'chat', 'dope', 'tallest', 'psychic', 'decided', 'crook', 'freezing', 'soccer', 'explain', 'cancer', 'without', 'dazed', 'lead', 'almost', 'witness', 'dude', 'bonus', 'sold', 'brothers', 'cameraman', 'trip', 'bought', 'priest', 'hiccups', 'website', 'lock', 'evening', 'avoids', 'slowly', 'bald', 'breath', 'tooth', 'pretty', 'watching', 'accidents', 'realistic', 'historian', 'differ', 'ghosts', 'keeps', 'exercising', 'exaggerated', 'truly', 'are', 'ambitious', 'golfer', 'catching', 'business', 'manage', 'team', 'member', 'uncle', 'fixing', 'reschedule', 'amuse', 'polite', 'mug', 'widow', 'horrified', 'much', 'cheer', 'circle', 'chickened', 'addict', 'smiled', 'crude', 'doing', 'jeans', 'freak', 'crows', 'flattered', 'forgetful', 'koalas', 'dandruff', 'ate', 'sauce', 'unusual', 'shared', 'methodical', 'sincere', 'stinks', 'wings', 'ai', 'rules', 'experienced', 'unprepared', 'flip', 'maniac', 'disorganized', 'idiots', 'killing', 'tasted', 'compete', 'atm', 'sneaky', 'cooperating', 'expelled', 'orchids', 'mahjong', 'earned', 'sleepy', 'pal', 'forgave', 'grey', 'must', 'dishonest', 'up', 'loan', 'included', 'agent', 'dance', 'late', 'maps', 'drowned', 'fret', 'anybody', '2:30', 'kids', 'fan', 'sit', 'hives', 'shave', 'playing', 'stopped', 'stink', 'nuts', 'understands', 'key', 'bacon', 'she', 'car', 'present', 'rented', 'act', 'joking', 'peas', 'require', 'kissed', 'true', 'halloween', 'tea', 'bear', 'hesitated', 'knits', 'housewife', 'cop', 'nervous', 'slowpoke', 'bread', 'till', 'pardon', 'sunburned', 'sister', 'handled', 'serve', 'ask', 'juice', 'looking', 'pooped', 'drawer', 'haircut', 'contagious', 'leaves', 'persevering', 'stalling', 'resilient', 'try', 'purist', 'by', 'planned', 'music', 'sweating', 'harm', 'watchful', 'clock', 'taxes', 'aboard', 'mercy', 'between', 'blessed', 'means', 'understood', 'certain', 'vitamins', 'wealthy', 'his', 'afternoon', 'graduated', 'vengeance', 'large', 'muslim', 'powerless', 'creative', 'mayor', 'dial', 'humor', 'ought', 'rude', 'price', 'mail', 'apologized', 'ocean', 'argue', 'ignored', 'rich', 'buy', 'coward', 'closely', 'attentive', 'inhaled', 'odd', 'revenge', 'twin', 'any', 'lamp', 'little', '8', 'miserable', 'ship', 'dehydrated', 'feared', 'class', 'loosen', 'bore', 'answers', 'swiss', 'cool', 'rifle', 'used', 'imagined', 'fired', 'tennis', 'refused', 'once', 'caviar', 'nasty', 'attorney', 'went', 'prisoners', 'cpr', 'dieting', 'guts', 'built', 'muffins', 'stamp', 'take', 'table', 'messed', 'security', 'disappeared', 'boys', 'feels', 'deer', 'hers', 'dealt', 'braces', 'castles', 'leave', 'lunch', 'raffle', 'returned', 'melted', 'thank', 'overworked', 'oranges', 'ca', 'smells', 'yelled', 'chose', 'exercised', 'well-liked', 'poetry', 'salesman', 'then', 'blinked', 'sharks', 'treat', 'fluke', 'undamaged', 'gift', 'quit', 'mud', 'student', 'sounds', 'father', 'cured', 'chemistry', 'ironing', 'calling', 'eggplant', 'where', 'maid', 'science', 'soft', 'dvd', 'disaster', 'wins', 'tune', 'big', 'blessing', 'embarrassed', 'salad', 'shouted', 'old', 'retreat', 'smashed', 'autumn', 'bring', 'incredible', 'box', 'opera', 'ford', 'wake', 'met', 'fuse', 'beg', 'respects', 'die', 'obedient', 'agree', 'neutral', 'graceful', 'threatened', 'working', 'second', 'train', '8:30', 'insurance', 'wise', 'lawyer', 'golf', 'form', 'sync', 'sensible', 'burned', 'speaking', 'kyoto', 'mouth', 'deep', 'lose', 'hey', 'barbaric', 'visa', 'reading', 'athletic', 'cleaning', 'split', 'nature', 'helps', 'dinner', 'rational', 'thin', 'mine', 'natural', 'winter', 'reason', 'excused', 'runs', 'merciful', 'sexy', 'ride', 'dirt', 'adopted', 'bees', 'parody', 'quite', 'heap', 'grounded', 'light', 'inevitable', 'write', 'curious', 'flying', 'dj', 'jogging', 'oar', 'helpful', 'boil', 'brains', 'follow', 'important', 'petrified', 'friendly', 'break', 'envelopes', 'ignoring', 'actors', 'some', 'cheered', 'tv', 'smile', 'walk', 'sighed', 'cats', 'terrible', 'designed', 'deaf', 'fair', 'pour', 'miracle', 'dancing', 'wear', 'shrank', 'sailing', 'guys', 'remarried', 'morning', 'low', 'blocked', 'beware', 'caution', 'listened', 'arrogant', 'glasses', 'double', 'raining', 'relaxed', 'happy', 'ago', 'behind', 'straight', 'having', 'done', 'voices', 'cat', 'skate', 'bottoms', 'girls', 'duty', 'simple', 'joke', 'weapon', 'thumbs', 'newlyweds', 'cover', 'upstairs', 'drown', 'flabby', 'find', 'lips', 'pinched', 'hurts', 'frying', 'sunk', 'bunch', 'soul', 'belong', 'hug', 'sweat', 'believed', 'rest', 'wipe', 'fussy', 'gardeners', 'proud', 'insist', 'guy', 'asleep', 'china', 'undressing', 'worth', 'morons', 'gazed', 'confident', 'demented', 'half', 'camera', 'logical', 'rebel', 'lame', 'ranch', 'beautiful', 'hang', 'dumbfounded', 'futon', 'pigs', 'stand', 'garbage', 'miss', 'drag', 'computers', 'boat', 'was', 'outgoing', 'escape', 'motivated', 'dirty', 'litter', 'birds', 'barking', 'making', 'capsized', 'suffered', 'demonstrate', 'speak', 'absent', 'barefoot', 'voting', 'damp', 'card', 'street', 'gambling', 'phony', 'sticky', 'crashed', 'pun', 'shares', 'gawking', 'redundant', 'depressed', 'picasso', 'bilingual', 'chess', 'counting', 'overslept', 'respond', 'mocked', 'bigot', 'tricky', 'north', 'first', 'bath', 'soaked', 'lift', 'season', 'sashimi', 'guarantee', 'trips', 'farsighted', 'ache', 'alert', 'drive', 'naughty', 'cute', 'immune', 'shrugged', 'marry', 'wax', 'another', 'sickens', 'minister', 'urgent', 'mess', 'star', 'husband', 'made', 'cross', 'gullible', 'dyslexic', 'admired', 'grateful', 'sisters', 'hiding', 'sings', 'ached', \"'m\", 'serious', 'became', 'fed', 'fat', 'noticed', 'near', 'asap', 'hypnotism', 'fell', 'obvious', 'moody', 'easily', 'oven', 'appreciate', 'snowing', 'push', 'warned', 'azerbaijani', 'japan', 'roll', '50', 'black', 'mother', 'outwitted', 'nobody', 'apart', 'cup', 'son', 'allow', 'anxious', 'booked', '11', 'knit', 'tomatoes', 'apple', 'holiday', 'smoke', 'comes', 'protected', 'vacation', 'maybe', 'survive', 'followed', 'correct', 'later', 'to', 'bluffing', 'psyched', 'walked', 'far', 'too', 'westerns', 'cancel', 'masochist', 'blood', 'chances', 'sign', 'camels', 'squinted', 'him', 'waiting', 'and', 'water', 'shot', 'fascinated', 'scored', 'again', 'stay', 'american', 'camp', 'cab', 'inadequate', 'observant', 'quitting', 'impatient', 'games', 'totally', 'donut', 'color-blind', 'missed', 'years', 'shame', 'bogus', 'waited', 'refund', 'close', 'dislikes', 'remembered', 'awkward', 'toes', 'kid', 'nauseous', 'fortune', 'anyone', 'today', 'prejudiced', 'pitch', 'detective', 'sour', 'dogs', 'return', 'support', 'baseball', 'hip', 'acts', 'company', 'threat', 'thrilled', 'draw', '%', 'suntan', 'fainted', 'musician', 'tongue', 'melons', 'jesuit', 'nights', 'shake', 'arrange', 'bridge', 'illegal', 'option', 'merry', 'fool', 'white', 'confiscated', 'tie', 'gamble', 'famous', 'look', 'rubbish', 'fighting', 'delicately', 'may', 'recycle', 'heartburn', 'cared', 'handsome', 'hop', 'tease', 'both', 'temper', 'owe', 'mouse', 'owes', 'sympathetic', 'unmarried', 'bad', 'map', 'math', 'overdo', 'grow', 'heal', 'plans', 'tape', 'negotiate', 'tonight', 'faint', 'martini', 'waffles', 'smart', 'singing', 'staring', 'despair', 'boats', 'hoax', 'banana', 'hand', 'phone', '12:45', 'surrender', 'newcomers', 'blushed', 'popcorn', 'got', 'british', 'friends', 'secret', 'children', 'likeable', 'perfect', 'took', 'healthy', 'falls', 'swims', 'narrow', 'tailor', 'bar', 'tense', 'dismissed', 'college', 'milk', 'here', 'cried', 'monday', 'tycoon', 'very', 'amazing', 'broken', 'which', 'wolf', 'spring', 'debt', 'foolish', 'promised', 'recovered', 'rather', 'seal', 'wash', 'fiasco', 'successful', 'adores', 'hamster', 'sunsets', 'disturb', 'sushi', 'lip', 'same', 'van', 'scolded', 'moron', 'disgrace', 'wizard', 'there', 'welcome', 'finicky', 'arguing', 'bruise', 'paying', 'river', 'shocked', 'than', 'something', 'improvise', 'sweated', 'drank', 'overreacting', 'weighed', 'purpose', 'crying', 'meant', 'jokes', 'dedicated', 'criminal', 'lies', 'mice', 'deceive', 'life', 'them', 'cracking', 'sat', 'top', 'unsafe', 'opened', 'nose', 'cd', 'ball', 'pen', 'overweight', 'hurry', 'snoring', 'upset', 'karaoke', 'escaping', 'prude', 'pack', 'rock', 'ex-con', 'spell', 'coughing', 'taste', 'snap', 'joints', 'pony', 'they', 'grew', 'rip', 'unemployed', 'engaged', 'shoe', 'punched', 'with', 'tired', 'fresh', 'its', 'annoy', 'thrilling', 'refuse', 'nonsmoker', 'alarmed', 'farmer', 'annoys', 'read', 'assertive', 'travel', 'apples', 'risk', 'held', 'icky', 'church', 'idiot', 'bach', 'astronomy', 'summer', 'peace', 'annoying', 'say', 'impossible', 'snore', 'day', 'woke', 'contented', 'decline', 'elusive', 'yours', 'wrong', 'office', 'misunderstood', 'cough', 'diabetic', 'run', 'also', 'leak', 'zealots', 'new', 'recommend', 'wrote', 'bags', '110', 'thirty', 'seize', 'those', 'park', 'types', 'time', 'drugs', 'generous', 'fearless', 'painted', 'artist', 'blue', 'room', 'nurse', 'gloomy', 'spiders', 'geologist', 'diploma', 'forget', 'resigned', 'terrified', 'lend', 'cheating', 'part', 'fight', 'ring', 'staying', 'yawned', 'walls', 'veggies', 'framed', 'my', '30', 'twins', 'committed', 'screams', 'sharp', 'timid', 'oppose', 'swam', 'should', 'spies', 'truth', 'breather', 'crowds', 'forward', 'deserved', 'tricked', 'facts', 'intruding', 'damaged', 'killed', 'cutie', 'prepare', 'sitting', 'recover', 'afraid', 'surprises', 'learn', 'spontaneous', 'moves', 'plays', 'seemed', 'seated', 'carded', 'giving', 'henpecked', 'fox', 'leg', 'sang', 'crack', 'before', 'tummy', 'r', 'exercise', 'hard', 'visited', 'disregarded', 'desperate', 'drugged', 'afford', 'sea', 'spoon', 'borrow', 'flexible', 'shooting', 'cops', 'partners', 'clear', 'shutterbug', 'selfish', 'b', 'books', 'worn', 'trustworthy', 'promise', 'back', 'goes', 'paranoid', 'prepaid', 'ambidextrous', 'modest', 'croissant', 'slob', 'blind', 'as', 'fail', 'mentioned', 'gear', 'words', 'meal', 'next', 'guide', 'copy', 'shortcut', 'charming', 'deserve', 'doubtful', 'cheated', 'fantastic', 'surrendered', 'her', 'had', 'shouting', 'force', 'fold', 'model', 'frustrated', 'sand', 'vulgar', 'ashamed', 'speech', 'unambitious', 'survived', 'death', 'winners', 'suicide', 'draws', 'tigers', 'convicted', 'felt', 'plastered', 'oh', 'unwell', '10', 'amused', 'fad', 'trainee', 'roses', 'consult', 'absurd', 'canadian', 'yolks', 'bird', 'teacher', 'green', 'proceed', 'biking', 'hands', 'mysteries', 'newcomer', 'against', 'ugly', 'unrelated', 'blushing', 'spot', 'shaken', 'irrelevant', 'mean', 'novel', 'struggled', 'lie', 'inspiring', 'pity', 'six', 'whistle', 'funerals', 'lay', 'terrifying', 'adorable', 'risky', 'knew', 'steal', 'dancer', 'outlaw', 'disagreed', 'point', 'order', 'teeth', 'tom', 'dependable', 'fanatics', 'pregnant', 'bankrupt', \"'ll\", 'rested', 'else', 'trusts', 'answered', 'unhappy', 'risks', 'leaving', 'hit', 'talk', 'road', 'now', 'tall', 'remained', 'barbecue', 'rain', 'kept', 'rule', 'homeless', 'alibi', 'exciting', 'puppy', 'flinched', 'supply', 'tenacious', 'unharmed', 'coming', 'receipt', 'guest', 'house', 'beard', 'message', 'young', 'canceled', 'wonder', 'men', 'after', 'acceptable', 'works', 'cooks', 'hiking', 'kite', 'bummer', 'ridiculous', 'ham', 'barber', 'friend', 'special', 'cap', 'god', 'evil', 'filming', 'sue', 'this', 'sequel', 'purr', 'cooked', 'traveling', 'fix', 'drunk', 'not', 'awful', 'ticklish', 'managing', 'natto', 'astrology', 'attack', 'straighten', 'doable', 'destroy', 'budge', 'fixed', 'hole', 'type', 'expensive', 'active', 'honest', 'survivors', 'horrible', 'loves', 'dissatisfied', 'pattern', 'enemies', 'approves', 'happen', 'enjoy', 'fork', 'winning', 'missing', 'faking', 'rewrote', 'canadians', 'silent', 'blinds', 'stronger', 'defend', 'scooter', 'dare', '65', 'grenade', 'queen', 'foggy', 'interfere', 'teach', 'pork', 'treasure', 'police', 'use', 'celebrating', 'cookie', 'drew', 'loud', 'fruit', 'cooking', 'talented', 'neither', 'seizure', 'hyogo', 'grass', 'milan', 'does', 'awesome', 'begging', 'less', 'guests', 'name', 'movies', 'might', 'stabbed', 'digging', 'beef', 'paid', 'introverted', 'stood', 'guessed', 'interfering', 'stunned', 'racist', 'angel', 'surviving', 'door', 'bites', 'hungarian', 'noisy', 'sheep', 'illiterate', 'tahiti', 'tan', 'picky', 'cake', 'sneeze', 'job', 'interesting', 'pig', 'sophomore', 'body', 'join', 'check', 'nothing', 'good', 'pleased', 'chicken', 'empowered', 'year', 'ambush', 'frankly', 'corrected', 'incorrect', 'think', 'jobs', 'typical', 'terrific', 'slapped', 'pool', 'helmet', 'qualified', 'evident', \"'ve\", 'searching', 'zambia', 'warm', 'control', 'farm', 'resisting', 'yesterday', 'ill', 'pray', 'denied', 'leaks', 'envious', 'appeared', 'wire', 'sobbing', 'hero', 'page', 'tempt', '100', 'relief', 'hates', 'pull', 'rescheduled', 'scam', 'cultured', 'fine', 'paint', 'peculiar', 'plant', 'throw', 'coach', 'gambler', 'resigning', 'tokyo', 'jesus', 'wig', 'holidays', 'voted', 'taken', 'kill', 'hat', 'fear', 'every', 'earlier', 'doctor', 'choked', 'wants', 'rains', 'rush', 'volunteer', 'shook', 'line', 'snob', 'skip', 'snag', 'hopeless', 'expert', 'seafood', 'standards', 'restless', 'classes', 'skinny', 'greeted', 'exhaled', 'legs', 'similar', 'outdated', 'left-handed', 'reasonable', 'pop', 'rubbed', 'heart', 'fools', 'tomorrow', 'goodbye', 'saturn', 'interest', 'pilots', 'acrobat', 'easy', 'chinese', 'scarce', 'get', 'sugar', 'dislike', 'bicycle', 'wallet', 'deranged', 'candle', 'anything', 'fly', 'ambition', 'sleep', 'direct', 'gorgeous', 'times', 'punctual', 'fatal', 'share', 'moaned', 'gentlemen', 'bat', 'suit', 'dig', 'adjust', 'save', 'skeptical', 'umbrellas', 'knife', 'test', 'sons', 'french', 'flu', 'papers', 'confused', 'in', 'somebody', 'speaks', 'devastated', 'adults', 'seriously', 'sloshed', '223-1374', 'planning', 'turkey', 'quarreled', 'grouch', 'dog', 'gardener', 'iron', 'yes', 'left', 'air', 'outside', 'gun', 'care', 'bragging', 'abhor', 'guidance', 'lover', 'seen', 'volunteering', 'wept', 'file', 'dry', 'adult', 'beaten', 'astonished', 'has', 'closed', 'silly', 'eggs', 'resent', 'rent', 'adventure', 'disobeyed', 'few', 'swore', 'poems', 'starve', 'teased', 'rematch', 'hope', 'started', 'reply', 'homesick', 'attend', 'discreet', 'prize', 'matter', 'cheat', 'salt', 'put', 'of', 'plead', 'amusing', 'flowers', 'asked', 'soup', 'doubt', 'kind', 'stuff', '!', 'whiff', '``', 'reckless', 'hired', 'ready', 'quick', 'panic', 'weight', 'lemons', 'bitter', 'trapped', 'broke', 'while', 'football', 'space', 'heroic', 'prefer', 'standing', 'will', 'untrue', 'stealing', 'player', 'orders', 'interested', 'refreshing', 'bother', 'kicked', 'jumped', 'dies', 'art', 'elk', 'approved', 'dreaming', 'feel', 'tried', 'allowed', 'respectful', 'superb', 'carry', 'upstate', 'past', 'stared', 'hated', 'starving', 'celery', 'cure', 'hybrid', 'comedians', 'captured', 'ok.', 'rumor', 'sweets', 'sky', 'weekly', 'about', 'questions', 'sad', 'own', 'coke', 'gloat', 'firing', 'small', 'shovel', 'separated', 'number', 'nerve', 'off', 'hurried', 'calm', 'kobe', 'believe', 'ages', 'movie', 'hour', 'ammo', 'bright', 'ten', 'dead', 'looked', 'medic', 'plumber', 'assume', 'landed', 'caffeine', 'rice', 'reinstated', 'enticing', 'go', 'warn', 'distracted', 'whistled', 'attention', 'unarmed', 'eaten', 'teasing', 'memo', 'journal', 'running', 'disgusted', 'front', 'stubborn', 'finally', 'child', 'hatch', 'brother', 'realize', 'rug', 'ufo', 'laptop', 'off-duty', 'sweet', 'beats', 'callous', 'watch', 'supper', 'puzzle', 'release', 'genius', 'tastes', 'assist', 'escaped', 'wednesday', 'expect', 'smokes', 'cartoons', 'shy', 'insane', 'politics', 'hunting', 'concentrate', 'decide', 'swindled', 'dumped', 'amnesia', 'expected', 'snow', 'loaded', 'thanks', 'disappointed', 'unlucky', 'towel', 'been', 'dreamer', 'pagoda', 'surfer', 'reach', 'trains', 'heard', 'skiing', 'confessed', 'fish', 'loyal', 'volunteered', 'hate', 'who', 'agreed', 'acquired', 'people', 'studied', 'book', 'jello', 'long', 'testify', 'moving', 'feverish', 'boston', 'needs', 'protested', 'stank', 'open', 'larger', '5', 'experts', 'pro', 'immunity', 'freedom', 'english', 'fabulous', 'costs', 'slow', 'needed', 'clues', 'respect', 'laughed', 'never', 'caused', 'waste', 'head', 'ours', 'grumbling', 'flag', 'glue', 'egg', 'locked', 'wore', 'unlock', 'bleeding', 'touch', 'students', 'dice', 'blanket', 'favor', 'squabbling', 'cousins', 'died', 'lighten', 'free', 'kiss', 'okay', 'cds', 'skating', 'rub', 'seeing', 'learned', 'looks', 'gossip', 'prospect', '$', 'available', 'better', 'doll', 'everybody', 'swim', 'lobster', 'bottle', 'enough', 'relieved', 'lent', 'america', 'dilemma', 'sense', 'funny', 'cleaned', 'ski', 'october', 'riddle', 'notes', '7:30', 'thorough', 'sued', 'anyway', 'private', 'typist', 'attic', 'arabic', 'family', 'misleading', 'niece', 'cane', 'crash', 'hungover', 'weird', '.', 'canned', 'nearby', 'need', 'kidnapped', 'friday', 'safely', 'hung', 'involved', 'joy', 'bartender', 'eats', 'flunk', 'lasagna', 'genuine', 'prayed', 'mask', 'bus', 'goosebumps', 'women', 'chance', 'if', 'wonderful', 'rap', 'fill', 'raise', 'likes', 'fasting', 'tissue', 'contact', 'joker', 'count', 'shift', 'note', 'untalented', 'cry', 'aim', 'homeschooled', 'did', 'worked', 'scary', 'ice', 'heel', 'impressed', 'bores', 'contributed', 'war', 'detained', 'worried', 'blast', 'breathing', 'make', 'careless', 'creepy', 'coughed', 'bowed', 'pathetic', 'nerd', 'sleeping', 'clearly', 'studying', 'killer', 'unconvinced', 'welcomed', 'soundly', 'doomed', 'liked', 'writing', 'awake', 'invited', 'trap', 'different', 'ahead', 'actor', 'cheers', 'two', 'secrets', 'your', 'all', 'id', 'assaulted', 'lit', 'saw', 'surprised', 'wide', 'reformed', 'makes', 'classic', 'beer', 'saved', 'still', 'tenure', 'mama', 'queasy', 'someone', 'outdoors', 'screwed', 'sing', 'robot', 'pleasure', 'rang', 'crew', 'getting', 'pardoned', 'yawn', 'gone', 'deny', 'dump', 'itches', 'computer', 'pointed', 'senior', 'hammer', 'shut', 'airs', 'apologize', 'calmed', 'scream', 'cursed', 'relied', 'planted', 'burn', 'humming', 'dad', 'seldom', 'bedtime', 'meditating', 'yourself', 'quitter', 'naive', 'toothache', 'continue', 'real', 'resign', 'gpa', 'smiling', 'warmer', 'hay', 'sensitive', 'said', 'impulsive', 'grab', 'rabbits', 'dumb', 'content', 'snores', 'taller', 'rebuild', 'game', 'snowed', 'listen', 'brand', 'witch', 'addicted', 'laugh', 'drowning', 'shape', 'gave', 'stalled', 'cream', 'cringed', 'tree', 'feet', 'sale', 'spoke', 'bell', 'boring', 'how', 'listening', 'inviting', 'boxing', 'barked', 'object', 'regret', 'details', 'smoking', 'worse', 'wanted', 'arabs', 'coat', 'girl', 'us', 'passed', 'rid', 'honor', 'going', 'reborn', 'honey', 'normal', 'urge', 'forbidden', 'raw', 'cash', 'exist', 'dug', 'cruel', 'diabetes', 'move', 'quietly', 'lake', 'drill', 'aside', 'bulky', 'please', 'convinced', 'dropped', 'politely', 'acquitted', 'training', 'eye', 'together', 'bananas', 'last', 'touched', 'feed', 'flew', 'yellow', 'request', 'shock', 'runner', 'suits', 'came', 'rose', 'begin', 'talking', 'breathe', 'chuckled', 'captain', 'tell', 'keys', 'turtles', 'age', 'sell', 'phoned', 'their', 'concerned', 'stupid', 'fooled', 'send', 'cattle', 'borrowed', 'super', 'prepared', 'seems', 'impolite', 'hide', 'nap', 'poisonous', 'mom', 'mary', 'work', '19', 'puzzled', 'one', 'giddy', 'choose', 'himself', 'shoot', 'seem', 'taxi', 'nonsense', 'everything', 'whose', 'intelligent', 'obsolete', 'strike', 'it', 'cheap', 'stole', 'learns', 'i', 'shout', 'lot', 'hot', 'singer', 'lovely', 'around', 'twice', 'bled', 'meet', 'hiccup', 'deal', 'why', 'clever', 'letdown', 'cousin', 'beggar', 'drives', 'livid', 'these', \"'d\", 'hunt', 'glass', 'exhausted', 'gentle', 'sympathize', 'internet', 'angry', 'worry', 'offer', 'mortal', 'obese', 'win', 'bit', 'groans', 'tripped', 'alive', 'nail', 'blame', 'above', 'offended', 'effort', 'bark', 'school', 'repeat', 'sneezed', 'croatia', 'rights', 'baking', 'answer', 'paints', 'appreciated', 'forgot', 'mention', 'france', 'thought', 'yourselves', 'gross', 'candy', 'popular', 'can', 'sore', 'teaching', 'mondays', '3:30', 'spy', 'be', 'burnt', 'fast', 'possible', 'like', 'wounded', 'dumbstruck', 'likely', 'disagree', 'dangerous', 'bribed', 'toyota', 'from', 'noise', 'growled', 'talks', 'face', 'coma', 'scare', 'menace'}\n",
      "Target Vocabulary {'appelle-le', \"j'aperçus\", 'privé', '99', 'mange', 'puissant', 'soucier', 'videz', 'curieuse', 'musique', 'augmentez-le', 'tombe', 'inutiles', 'fie', 'plaira', 'minute', 'rester', 'tremper', 'hors', 'cloué', 'pouvez', 'ligne', 'lune', \"d'arrêter\", 'appelle-nous', 'commencez', 'bagues', 'chargerai', 'paix', 'allongés', 'promets', \"m'aimes\", 'vraiment', 'dis-le-moi', 'quérir', 'donne-les-lui', 'légal', 'enfourchez', 'ressentiment', 'ignorez-les', 'coréen', 'répondre', 'à', \"l'aise\", \"m'y\", 'aimions', 'protégé', 'trébuché', 'haï', 'illégal', 'surf', 'vite', 'blessée', 'préfère', 'trois', 'drogué', 'fit', 'corneilles', 'aucun', 'pardonnées', 'fenêtre', 'excursion', \"l'alarme\", 'dépêchez-vous', \"l'habitude\", 'compte', 'sert', 'conditionnelle', 'ramène-moi', \"d'être\", 'chopé', 'crevais', 'bruit', 'aussi', 'tomber', 'coca', 'devez', 'héroïne', 'précisément', 'plaindrais', 'ravie', 'mourrons', 'davantage', 'fracassé', 'introvertie', 'frire', \"l'art\", 'araignées', 'heureuse', 'ravissant', 'souriez', 'couvert', 'assoiffé', 'bénisse', 'soucient', 'printemps', 'complètement', 'débarrasse-toi', 'croque', 'tien', 'ceux-ci', 'simplement', 'coup', 'pleurer', 'longues', 'géniaux', 'échauffer', \"s'est-il\", 'pétoche', 'sauf', 'employé', \"c'en\", 'vomi', 'paralysé', 'raisons', 'emploie', 'devenus', 'manifesterai', 'démarrez', 'ouvre-le', 'raconte', 'jubilez', 'neuf', 'manger', \"l'australie\", 'vois', 'souvenais', 'rencontrai', 'pleuré', 'voyager', 'pitié', 'collé', 'vérifier', 'vienne', 'attaquée', \"l'astronomie\", 'sain', 'vexé', 'clémente', 'endormies', \"t'attraper\", 'manque', 'payer', 'similaires', 'simples', 'excursions', 'jambe', \"l'admirait\", \"d'estomac\", 'indignée', 'mots', 'gagnâmes', 'profondeur', 'grippe', \"s'excusa\", 'crédule', 'confiance', 'volé', \"m'inclinai\", 'allongées', 'esseulée', 'senti', \"t'asseoir\", 'las', 'jette', 'chacun', 'pensez-y', 'serons', 'ignorer', \"jusqu'ici\", 'affolé', 'jaunes', 'prévenir', \"n'interromps\", 'biscuit', 'bois-tu', 'rembourser', 'volontaire', 'boîtes', 'créatives', \"n'attendez\", 'exagéré', 'demander', 'expulsé', \"d'imbécile\", 'étudiant', 'souvenir', 'radio', \"d'identité\", 'excitant', 'pratiquez-vous', 'pyjama', 'revanche', 'laisse-le', \"n'espérez\", 'hongrois', \"j'honore\", 'a', 'noyé', 'suite', 'réécrit', 'suis-nous', 'jouis', \"m'a\", 'raisonnables', 'scellez', 'recommande', 'tatillons', 'méchante', \"j'adorerais\", 'toi-même', 'change', 'fichier', 'muté', 'relâche-le', 'vues', 'fus', 'moine', 'bonsoir', 'vanné', 'rompu', 'respecte', 'fiche-moi', 'portes', 'envieux', 'plaindre', 'puits', 'jésuite', 'manquait', 'larguer', \"l'apprécie\", 'maîtrisez-vous', 'pesé', 'partirent', 'retraite', 'fichez-moi', 'disposait', 'allé', 'eurent', 'divorcer', 'escroc', 'décidez', 'plan', 'tombola', 'tous', 'trichez', 'utilise', 'camouflez-le', 'selon', \"l'eau\", 'remarié', \"l'arrêter\", 'prêtez-moi', 'vieilles', 'payez-moi', 'renverse', \"c'est\", 'normaux', \"m'abstiens\", 'pleura', 'attaché', 'travaillerai', 'fusible', 'vis', 'difficile', 'suicidaire', 'laveur', 'fanatique', 'oublie-la', \"l'apprécia\", 'grincheuse', 'éméchée', 'tira', 'baissé', 'amoureux', 'nettoyer', 'couler', 'déjeunerai', 'suisse', 'pétrin', 'allez-vous', 'opération', 'débrouiller', 'aidez-moi', 'homard', 'abasourdi', 'faillite', 'aurais', 'impitoyables', 'devenu', 'couloir', \"t'a-t-il\", 'clémentes', 'étudies-tu', 'genre', 'menteur', \"jusqu'à\", 'abri', 'pourrions-nous', 'habillée', 'tourne', 'hypothèse', 'laissées', 'sournois', 'prévenu', 'chanteur', 'dort', 'fous-moi', 'yen', 'arnaquée', 'balle', 'ancien', 'craque', 'belle', \"n'avancent\", 'lunatique', 'téloche', 'retraitée', 'prêtes', 'facture', 'bruyante', \"l'étrangla\", 'nouveau', 'embrassés', 'recommencé', 'java', 'montez-le', 'sûres', \"d'écrire\", 'fumer', 'flan', 'garde', 'plaisante', 'portâmes', 'charmantes', 'chinois', 'stop', 'comprendra', 'vague', 'durer', 'accises', 'vin', 'enterrée', 'inquiète', 'donnent', 'principes', 'donne-le-leur', 'détendues', 'tenez', 'bénit', 'aubergines', 'fiancés', \"s'améliorera\", 'pâle', 'laisse-toi', 'croisés', 'tranquilles', 'jeune', 'cligné', 'lac', 'gourmande', 'souvenez-vous-en', 'emporter', 'filez', 'grouiller', 'grassouillet', 'louve', \"l'emportâmes\", 'poses', 'patient', 'combat', 'fume-t-il', 'essayez-le', 'arnaque', 'fois', 'survécûmes', 'avaient', 'voter', 'enlacées', 'devraient', 'talons', 'revigoré', 'blague', 'repas', 'augmente-le', 'déplaît', 'habillez-vous', 'étroit', 'devrions', 'maïeur', 'dîner', 'vérifierons', 'lion', 'cède', 'boulet', 'hissé', 'ennuyeuses', 'vanter', \"j'accepterais\", 'dollars', 'trouvées', 'êtes-vous', \"l'homme\", \"c'tait\", 'trépasser', 'paraît', 'décédé', \"d'issue\", 'agitée', 'ami', 'farce', 'nous', 'droits', 'mourions', 'alliez', 'fainéantes', 'offensé', 'chante-nous', 'suivie', 'acheter', 'sauvés', 'saoule', 'agacé', 'matinale', 'remis', 'mesquine', 'gèle', 'facilement', 'impulsif', 'vaut', 'rentrer', 'gaufres', 'fantôme', 'rougis', 'incarcéré', 'plainte', 'écouter', 'détient', 'enfreint', 'réfléchir', 'finissons', 'dorment-ils', 'rentré', 'vingt-cinq', 'têtus', 'causé', 'chaussure', 'aucune', 'serre', 'ment', 'connaissons', 'insouciant', 'faites-le-moi', 'fin', 'réjoui', 'préoccupe', 'brûlés', 'portail', 'cancer', 'ri', 'paie', 'arrogante', \"t'ennuyer\", 'escroquerie', 'fatigué', 'échappons', 'fumez-vous', 'flippé', 'catholiques', 'travers', 'chercher', 'savons', 'prend', \"n'ai-je\", 'rendons-nous', 'reviens', 'marche', \"j'écoute\", 'sombre', 'soûl', 'ferais-je', 'cœur', 'grossier', 'tenterons', 'mouchoir', \"l'aide\", 'capte', \"j'expliquerai\", 'périlleux', 'retenez', 'étranger', \"n'aie\", 'manquons', 'survivre', 'quittée', 'arrivera', 'pleurent-ils', 'préséance', 'mouche-toi', \"l'erreur\", 'embête', 'dégoûtée', 'retard', 'service', 'dactylographe', 'fini', 'bénite', 'finie', 'bureau', 'tienne', 'marchez', 'est-il', 'éveillés', 'failli', 'pourquoi', 'regard', 'répare', 'crue', 'disparu', 'paierai', 'tueur', 'fraîches', 'écrasés', 'voler', 'pathétique', 'sûrs', 'demeurez', 'souviens-en-toi', \"n'est\", 'temporisez', 'fiancée', 'confiants', 'préjugés', 'chaud', 'servez-vous', 'encore', 'boissons', 'requête', 'raté', 'astucieux', 'nagera', \"d'attendre\", 'navire', 'halloween', 'verrouillez', \"l'hypocrisie\", 'pardon', 'habillées', 'potage', 'étions', 'supplie', 'pleure', 'démarre', 'pareilles', 'sali', 'mourras', 'lundi', 'partons-nous', \"l'instant\", 'renard', 'pouvoir', 'kidnappée', 'hier', 'redresse-toi', 'manques', 'attrapez', 'nourriture', 'merveilleusement', 'romantique', 'habituellement', 'golfeur', 'tâches', 'endroit', 'courez', 'drogue', 'pété', 'objection', 'bientôt', 'avides', 'va', 'pensé', 'ordinateurs', 'envers', 'manquez', 'biser', 'pouvais', 'pardonnée', 'souhaité', 'cas', 'timide', 'comptons', 'web', 'obtenu', 'faire', 'dettes', 'égoïste', 'ménage', 'vu', 'voir', 'poissons', 'délicatement', 'sont', '8', 'même', 'diète', 'temporises', 'bizuth', 'reprises', 'canadienne', 'gratte', 'poil', 'caviar', 'essayé', 'va-t-il', \"conte-m'en\", \"l'extérieur\", 'gagneur', 'annulé', \"j'avais\", 'table', 'faites-le', \"m'attendais\", 'timides', 'parais', 'haut', 'sauve', 'suis', 'regarder', \"l'aime\", 'piégés', 'affolée', 'prochain', \"d'accord\", 'pardonne', 'fais', 'en-cas', 'dessine', 'bagarre', \"j'arriverai\", 'crâne', \"m'ennuient\", 'science', 'béni', 'marrer', 'soixante-cinq', \"d'aboyer\", 'célébrité', 'ford', \"d'amnésie\", 'marié', 'mes', 'train', 'plaît-il', 'monnaie', 'aiderons', 'bénie', 'golf', 'tueront', 'hâlée', 'fantômes', 'frère', 'tenace', 'réparai', 'pénétrer', 'capturez-le', 'ferai', 'capitaine', 'terme', 'flairé', 'mensonges', 'sois', 'amoureuse', 'étasuniennes', 'aimais-tu', 'détonations', 'sexy', 'honorée', 'regards', 'dj', 'venons', 'méritent', 'important', 'immunisée', 'venu', 'riches', 'désire', 'vers', 'fusil', 'partiez', 'gourmand', 'faisions', 'tombai', 'épris', 'français', \"l'étage\", 'connues', 'arrogant', 'cadeau', 'douteux', 'explosé', 'verres', 'désarmée', 'voyages', 'montrez-le-moi', 'russie', 'protéger', 'folles', 'hais', 'soulagé', \"l'affaire\", 'as-tu', 'fac', \"a-t'il\", 'gaspillage', 'munitions', \"t'embrasser\", 'désormais', 'difficiles', 'idée', 'armée', 'félicitations', 'passez', 'douce', 'ronfle', 'répondit', 'agacée', 'promenade', \"d'or\", 'compagnie', 'crédules', 'suivrons', 'serait', 'cru', 'imitation', 'après', 'chanceux', 'skier', 'arrière', 'policier', 'jumeaux', 'mesure', 'accordez-moi', 'dus', 'bigot', 'sinistres', 'pressez-vous', 'soir', 'café', 'là', 'miséricordieux', 'sashimi', \"d'arriver\", 'anciens', 'débarrassé', 'clairs', 'pleuvoir', 'erreur', 'tombé', 'urgent', 'aiderai', 'gagnera', 'monte', 'maman', 'chocolat', 'embarrassant', 'bougez', 'prirent', 'obéissantes', 'quelque', 'honteux', 'vaincu', 'espère', 'vibre', 'baraka', 'serinez', 'aperçu', 'citrons', 'clairement', 'ai-je', 'vieille', 'dépêché', 'juré', \"l'appartement\", \"n'admets\", 'casque', 'fatiguées', 'frais', 'pilotes', 'es', 'bain', \"l'ouvrirai\", 'arrivés', 'murs', 'jésus', 'colle', 'supporter', 'fallu', \"m'arnaque\", 'flattés', 'apprécié', 'plaignez', 'remettez-le', 'neufs', 'feras-tu', 'azeri', 'flaire', 'dessiné', 'retirez', 'râler', 'ronchonner', 'cinéma', 'occupées', 'justes', 'cuit', 'mon', 'cuisiner', 'va.', 'sauvée', 'frotté', 'surviennent', 'pathétiques', 'enfants', 'veillé', 'âgé', 'prie', 'étudier', 'poignardé', 'martini', 'pratiques-tu', 'épouserai', 'morceau', 'battus', 'connais-tu', 'ennemies', 'chatouilleux', 'douloureux', \"d'ambition\", 'autre', 'pis', 'secouée', 'aviez', 'cesser', 'élue', 'devinrent', 'nécessaire', 'secret', 'carabine', 'gagné', 'échapper', \"l'opéra\", 'donnez-nous', 'fermer', 'quitte', 'transpirer', 'amusé', 'logique', 'étendu', \"d'amis\", 'commande', 'engagée', \"m'entends\", 'historien', 'soudoyées', 'connue', 'cessions', 'nouveaux-venus', 'mettrai', 'parlons', 'assure', 'saurais', 'serais-je', 'helvète', 'noyée', 'abandonna', 'dormis', 'plantées', 'récemment', 'poliment', 'bananes', 'présenterai', 'rock', 'confiant', 'eûmes', 'piégées', 'charme', 'zambie', 'augmentation', 'volent', 'refuse', 'neuve', 'dérangez', \"m'ont\", 'mot', 'peur', 'attaquer', 'rougit', 'types', \"l'hiver\", 'buvez', 'arrêtions', \"m'amuse\", 'attaquerons', 'boulots', \"l'avez\", 'partenaires', 'fixe', 'précipiter', 'cessez', 'chante-moi', 'criminel', 'chanterai', 'couard', 'ordinateur', 'demandons-leur', 'photogénique', 'dents', 'plats', 'débile', 'mensonge', 'gèrerons', 'terre-à-terre', 'attardés', 'fautifs', 'connard', 'formons', 'mains', 'fait', 'laid', 'contribua', 'ruinée', 'énervé', 'ci-dessus', 'imaginé', 'arnaqué', 'rusées', 'travaillent', 'venez-en', 'propre', 'crack', \"l'essayer\", 'barbe', 'r', \"l'achèterais\", 'entêtée', 'pressé', 'fantastique', 'hâter', 'raton', 'vert', 'fonctionnait', 'seuls', 'b', 'appris', 'meut', 'pouvons', 'arrêtée', 'aille', 'but', 'vint', 'adorait', 'touchées', 'cruelles', 'téléchargée', 'cheval', 'mille', 'dépourvu', 'satisfait', 'bats-toi', 'gagnerions', 'chiot', 'manquant', 'soulever', 'fixa', 'résonner', 'ôte', 'santé', \"d'idées\", 'oh', 'incroyable', 'hui', 'véhicule', 'exact', 'céleri', 'génial', 'reconnaissant', 'voici', \"n'aime\", 'bougez-vous', 'prêts', 'envie', 'fourbu', 'cédé', \"l'entraîneur\", 'vieil', 'satisfaites', 'goûte', 'fais-la', 'chantes', 'apparut', 'adorable', 'balai', 'secoue', 'peuvent-ils', 'formez', 'malhonnête', 'fou', 'prête-moi', 'reine', \"l'ai-je\", \"m'attaque\", \"t'avons\", 'chouette', \"l'amour\", 'croisèrent', 'fuit', 'décidés', 'démarrée', 'pendule', 'désigné', 'accro', 'réjouie', \"l'appareil\", 'venus', 'pouvoirs', 'au-dessus', 'déjeuner', 'foutre', 'lents', 'vous-même', 'meure', 'dépêchée', 'dingue', 'vendu', 'suivi', 'manière', 'récits', 'lâchez', 'vendre', 'mourons', 'esprits', 'distrait', 'allons', 'comme', \"t'avais\", 'donner', 'alités', 'ressent-on', 'm', 'prépare', \"j'attends\", 'ventre', 'donne-lui', 'saisissez-moi', 'construite', 'mortel', \"l'argent\", 'distraite', 'acrobate', \"t'entends\", 'bruyants', 'donné', 'patin', 'police', 'sauta', 'arrêtez-les', 'faits', 'combien', 'trouve-moi', 'mangez-vous', 'sanglotait', 'sorcière', 'saisis-toi', \"s'arrêta\", 'ferme-la', 'mou', 'coûtera-t-il', 'récupérer', 'changeons', 'fermés', 'ci-dessous', \"m'évite\", 'fallait', 'confus', 'canadien', 'cheminé', 'enseignant', 'tout', 'séché', 'travaillez-vous', 'veulent', 'maîtrise-toi', 'extravertie', 'finir', \"j'éternue\", 'indice', 'tirait', 'vrai', 'envoya', 'spectacle', 'matinal', 'violon', 'détendue', 'offre', 'casser', 'démonte-moi', 'fortunée', 'régimes', 'tais-toi', 'cloîtrée', 'effrayées', 'buvons', 'contribué', 'ça', 'trouille', 'fermez', 'arrivé', 'tokyo', 'marrés', 'apporte-les-moi', \"d'elles\", \"n'arrive\", 'interdit', 'fortuné', 'sentie', 'ovni', \"s'envole\", 'autres', 'étudiants', 'marrantes', 'expert', 'patronne', 'appellez-moi', 'espèce', 'française', 'dessus', 'lumière', 'demi-tour', 'chevaux', 'tonnes', 'ponctuel', 'suis-je', 'partenaire', 'dirent', 'sauveteur', 'montre-la-lui', \"m'amusais\", 'regarde-le', 'aime', 'miel', 'rapidement', 'établi', 'essayez-en', 'miséricordieuse', 'dessous', 'bons', \"n'avais\", 'cria', 'fichent', 'discret', 'engagées', 'calmez-vous', 'bibliothèques', \"s'ennuie\", 'nagèrent', 'sainte', 'oiseau', 'parlai', 'mauvaises', 'éméché', 'démissionna', 'talentueux', \"d'idiot\", 'cuis', 'prit', 'portefeuille', 'ennuyeux', 'médium', 'raisonnable', 'grimpez', 'cessé', 'faisable', 'téléphonai', \"m'embête\", 'continuerons', \"n'irai\", 'céda', 'devient', 'nettoyez', 'commencé', 'dirait', \"j'aime\", 'discuter', 'sacs', 'profond', 'nageaient', 'football', 'magnez-vous', 'porte-t-il', 'libère', \"t'aider\", 'droguées', 'tenais', 'raconté', 'rendues', 'certaines', 'bizarres', 'obéi', 'arrêtons', 'lunettes', 'ressources', 'anglais', 'magnat', 'ok.', 'bateaux', 'malchanceux', 'bouffée', 'fiévreuse', 'cesserai', \"d'abord\", 'arrive', \"m'adapte\", 'attache', 'baiser', 'ruinées', \"j'essaye\", 'entra', 'pinceaux', '...', 'givrée', 'étourdi', 'défaite', 'membre', 'foiré', 'regarde', 'attention', 'vend', \"d'obtenir\", 'déclaré', 'déciderai', 'gavée', 'légumes', 'midi', 'nouveaux', 'armés', 'ravi', 'doux', 'menottez-le', 'avons-nous', 'lambin', 'allée', 'pêcher', 'condamné', 'dites-le', 'démodé', 'secoué', 'requiers', \"l'enseignerai\", 'aimez-vous', 'trains', 'impressionné', 'crève', 'mentionna', 'amusées', 'd', 'sac', 'survécu', 'têtue', 'boston', 'soudeur', 'mangé', 'demande', 'assurées', 'appelée', 'posez', 'surfeuse', 'dort-il', 'chiant', 'coupez', 'déverrouillée', 'existes-tu', 'résides-tu', \"d'enfants\", 'chatte', 'apporte-le', '‘', 'sujet', 'vannée', 'corrigé', 'désobéi', 'essuie', 'pleurait', 'devinez', 'application', 'guérie', 'avide', 'armé', 'commencer', 'vacances', \"l'utiliser\", 'portées', '$', 'veine', 'goût', 'réveil', 'sournoises', 'lent', 'arrêter', 'ski', 'assoupi', 'poursuivez', 'japon', 'fiche-nous', 'suffisamment', 'trappe', 'impoli', 'bougea', 'vérifié', 'allons-nous', 'imprudentes', 'exclu', 'chouettes', 'attrapent', 'sensé', 'vends', 'celles-ci', 'abandonnez', 'japonais', 'agrandis-le', 'indécent', 'percevoir', 'abattue', 'rattrape-le', \"j'arrangerai\", 'juste', 'louché', 'patiente', 'contact', \"j'obéirai\", 'séjourner', 'meilleure', 'disputée', 'donc', 'problème', 'crétins', 'pauvre', 'nausée', 'myope', 'ce', 'épousez-moi', \"t'admire\", 'éclaté', 'réponds', 'prouverai', 'peux-tu', 'celle-là', 'berna', 'aimé', 'professeur', 'éternuer', 'lève', 'reviendrai', 'tenté', 'jumelles', 'procès', 'lit', 'aidé', 'amicaux', \"j'étudie\", 'doté', 'continuons', 'jubile', 'tristes', 'hideuses', 'mouton', 'manteau', \"n'avez\", 'tiennes', 'plante', 'plaide', 'devriez', 'viennent', 'cheveux', \"t'aime\", 'détendez-vous', 'vont', 'humide', \"m'alarme\", 'pêchez', 'trouvèrent', 'acquitté', 'villes', 'œuvres', 'tiroir', 'grossière', 'voilà', 'désorganisé', \"n'aident\", 'allées', 'brossez', 'toujours', 'chauve-souris', 'reposer', 'content', 'réécrivis', 'vas-tu', 'joues-tu', 'envoyez-le', 'fié', 'hésité', 'joindre', 'naïves', 'abandonné', 'peut', 'taudis', 'coincé', 'réussir', 'cuisinier', 'là-dedans', 'épidémie', 'mangeais', 'ira', 'baisse', 'passe-moi', 'asseoir', 'endormi', 'déshabille', 'dépourvue', 'sont-elles', 'absurde', 'dette', 'écouta', 'défaits', 'main', 'pressée', 'crevé', 'semblables', 'minutieuse', 'sens-tu', 'entretînmes', 'deviné', 'entièrement', 'escaliers', 'remets-le', 'passes', 'rencontrer', 'rendu', 'tuer', 'claire', 'mécontente', 'fixer', 'possédez-vous', 'déshydratée', 'sentis', 'gagnes', 'nourris', 'ordre', 'affaiblie', 'pleures-tu', 'suivies', 'parages', 'mary', 'couverture', 'singulier', \"s'exprimer\", 'crevée', 'mode', 'plaisantez', 'tiens', 'laisse-la', 'jouer', 'ouvre-moi', 'plombier', 'mémorisez-le', 'essayons-la', 'elle', 'voile', 'œil', 'aboya', \"j'ouvris\", 'flic', 'saisissez-vous', \"qu'as-tu\", 'brûler', \"t'aimais\", 'piégé', 'montrez', 'visible', 'sidéré', 'courus', 'ajustez', 'vol', 'ton', 'coupe-le', \"n'allez-vous\", 'faites-nous', 'harcelé', 'impasse', 'creuser', 'brosse', 'toyota', 'coma', 'pensez', 'donne-le-moi', 'étasunienne', 'précipitez', 'reptiles', 'enseignantes', 'pépère', 'approche', 'caféine', 'dedans', 'gaules', 'sobre', 'avc', 'commentaire', 'étais-tu', 'raccrocha', 'arrivée', 'demande-moi', 'rire', 'dimanche', 'coincée', 'titulaire', 'essayez', 'attrapées', 'reposé', 'débarrassez-vous', 'réveille', 'examen', 'curieux', 'aimiez-vous', 'cierge', 'porte-t-elle', 'nie', 'arrogants', 'gaz', 'vieux', 'couper', 'frime', 'matériel', \"d'avance\", 'pinça', 'assoupie', 'personne', \"d'encre\", 'langue', 'amène-le-moi', 'ramassez', 'chope', \"l'exercice\", 'débrouillerons', 'ainsi', 'peut-il', 'positive', 'aiment', 'ambitieuses', 'salut', 'quittez', 'niez', 'solution', 'fer', 'essaye', 'décédées', 'placement', 'bébé', 'conneries', 'impuissant', 'suis-le', 'rêves', 'marché', 'engagé', 'mignonnes', 'insuffisant', 'apprêtées', 'excuse', 'tenue', 'minutieux', 'laissez-moi', 'tigres', 'bâti', 'volontaires', \"j'appellerai\", \"j'insiste\", 'halte', 'amuser', 'laisse-moi', 'rebondissons', 'ivrogne', 'passa', 'étais-je', \"l'espace\", 'affamés', 'dise', \"l'attraperai\", \"l'appellerai\", 'rappela', 'horrifié', 'loup', 'héroïque', 'quelques-uns', 'lui', 'prudence', 'verre', 'prime', 'illuminé', 'souffert', 'trompée', 'suppose', \"m'est\", 'gamine', 'ouvrez', 'saint', 'vais', 'amenez-le-moi', 'sang-froid', 'chaviré', 'mesquin', 'piscine', 'pigez', 'pizza', 'cassent', 'allumez', 'foot', 'derniers', 'montre-les-moi', 'apprêtés', 'enfin', 'c', 'bord', \"s'agissait\", 'effrayés', 'en', \"t'agace\", 'filmer', 'dois-je', 'savent', 'prouve-le-moi', 'ville', 'désorganisée', 'survis', \"l'air\", 'violence', 'catholique', 'négligent', 'propres', 'lavé', 'détourné', 'retirez-vous', 'existent', \"d'action\", 'alité', 'charger', 'semblait', 'permets', 'soucierait', 'obéit', 'tente-le', 'chirurgien', 'détruirai', 'risque', 'serrez', 'décliner', 'puent', 'accorde-moi', 'remède', 'invite', 'avais-tu', 'entrer', 'ok', 'créatif', 'alitées', 'délit', 'andouille', 'effet', \"m'ennuie\", 'continuer', 'allume', 'vérifierai', \"l'annulerai\", 'char', 'inévitable', 'tenterai', 'repose-toi', 'jamais', 'passera', 'détendus', 'amuse-toi', 'jetez', 'gentleman', 'affamées', 'barrée', 'obèse', \"m'amuses\", \"m'asticoter\", 'te', 'chimie', 'travailla', \"n'eus\", 'capable', \"d'excuse\", 'attraper', 'cela', 'inapproprié', 'fûmes', 'cassées', 'et', 'écriteau', 'venir', 'énigme', 'achetons', 'humble', 'appelons', 'sœurs', 'signe', 'gagnerons', 'jardiner', '(', 'dégoûté', 'flattée', 'serre-moi', 'adore', 'idiotes', 'négligente', 'chamailler', 'sortirai', 'méticuleuse', 'choisis', 'amère', 'heureuses', 'planification', 'nostalgie', 'temps', 'allongé', \"j'échoue\", 'liquide', 'avertis', 'fabuleux', 'asseyons-nous', 'inspiré', 'bouge', 'demain', 'personnage', 'impressionnant', 'endurants', 'embêtant', 'débarrassai', 'risquer', 'trahis', 'pont', 'oncle', 'sciée', 'attristé', 'poison', 'pardonna', 'inspira', 'remboursement', 'sauvez', 'oreilles', 'pipeau', 'hôtesse', 'largeur', 'reconstruirons', 'sermonna', 'rencard', \"j'emploie\", 'aîné', 'haussé', 'maigrichonnes', 'partons', 'cette', 'pari', 'sembles', 'épinards', 'revoyure', 'rafraîchissant', 'rentre', 'puriste', 'tricha', 'alentours', 'haleine', 'loucha', 'invisible', 'retire-toi', 'calmée', 'flatté', 'histoires', 'trouverai', 'préviens', 'déchet', 'lisons', 'poli', 'travaillé', 'formuler', 'fais-moi', 'reculez-vous', 'grille', 'danger', 'sincères', 'regarde-nous', 'gloussé', 'partie', 'sortis', 'ont-elles', 'sentiment', 'semble', 'prison', \"qu'ai-je\", 'saura', 'cloche', 'tombèrent', 'paiera', 'impôts', 'endommagé', 'souvenons', 'laissons', 'du', 'porta', 'gracié', \"d'enveloppes\", 'rouspéteur', \"d'essayer\", 'taquine', 'clés', 'toucher', 'plat', 'paniquons', 'dégagez', 'mélangé', 'perdues', 'promettez-vous', 'impliqué', 'amène', 'crevés', 'assieds-toi', \"n'abandonne\", 'désarmé', 'forces', 'pincée', 'viens', 'gamin', 'mignonne', 'mouillé', 'répétez', \"s'ouvrit\", 'pelle', 'mécontent', 'déverrouillez', 'aisé', 'attendrons', 'dors', 'vision', 'reprends', 'parties', 'coupe', 'dentiste', 'peuvent-elles', 'justice', 'collant', 'mordez-vous', 'joue-nous', 'ouverts', 'signerai', \"m'aides\", 'thé', 'partent', 'mentis', 'flics', 'douche', 'éveillées', 'raciste', 'suni', \"l'équipe\", 'mariages', 'choix', \"t'embrouilles\", 'crayon', 'routières', 'boxer', 'parié', 'poche', 'couple', \"d'atterrir\", 'touchés', 'étions-nous', 'touriste', 'associé', 'pique-niques', 'cours', 'nourri', \"s'acquiert\", 'problèmes', 'promesse', 'barbecues', 'assisterons', 'rassasié', 'gardes', 'quant', 'dévouées', 'petits', 'souhaite-moi', \"m'arrêter\", \"n'entends\", 'touchez', 'battrai', 'tricher', 'ignoré', 'impatiente', 'quoi', 'élégant', \"l'emprunter\", 'quelconques', 'magne', 'remués', 'regarde-moi', 'mendiant', 'nagerons', 'neuves', 'pleurent', 'tchin-tchin', 'fier', 'étaient-elles', 'énormément', 'sec', \"n'arriverais\", 'embauchée', 'humain', 'pois', 'avoir', 'râlé', 'mêlez', 'faible', 'allons-y', 'stricte', 'bourgmestre', 'souhait', 'libérez', 'sûr', 'finissons-en', 'avais-je', 'goûte-la', 'blaguer', 'excuses', 'médecins', 'rame', 'apporté', 'normales', 'site', 'soudoyés', 'prends', 'or', 'voiture', \"n'ayez\", 'zoo', 'pattes', 'voyante', 'gagneurs', 'donne-moi', 'nouvelle', 'modeste', 'remonte', 'postes', 'sucre', 'montèrent', 'soit-il', 'crocs', 'ennuyons', 'pars', 'détourna', 'cerf-volant', 'criminalité', 'mourir', 'sieste', 'aérez', 'lait', 'calme-toi', 'nuageux', 'menacée', 'rendez-moi', 'nage', 'comptable', 'mois', 'conduire', 'tombée', 'dodu', 'poussez', 'passerai', 'changé', 'bilingue', 'parles', 'acquérir', 'filé', 'réveillées', 'ventilateur', \"m'arrange\", 'classe', 'tenu', 'manges-tu', 'serais', 'travail', 'méchants', 'soyez', 'véhiculée', 'appelle', 'cacher', 'extraverti', 'dure-t-il', 'marrants', 'sourient', 'détestons', 'écrivez', 'demandé', 'recruté', 'papa', 'promis', 'lance-la', 'neutre', 'agent', 'recrutes-tu', 'écraser', 'fâché', '2:30', 'trompeur', 'chauve', 'ferons', 'silence', \"j'élève\", 'assister', 'bu', 'gars', 'approchez', \"d'agir\", 'lèverai', 'leurs', 'apprécions', 'grave', 'déjeune', 'menteurs', 'surchargée', 'novice', 'cuits', \"m'aimes-tu\", 'lève-toi', 'préoccupé', 'lisez-la-moi', 'cire', 'mayeur', 'serait-ce', 'soupira', 'lever', \"l'astrologie\", \"s'agit-il\", 'jambon', 'resterons', 'voyant', 'mélange', 'peau', 'livre', 'paperasse', 'presque', \"l'arrêt\", 'promîmes', \"t'ignore\", \"n'ai\", 'partiale', 'vengeance', 'mort', 'lavez-vous', 'éclatés', \"qu'y\", 'permettrai', 'triste', 'préparez-vous', 'grève', 'pâli', 'regardez-moi', 'canne', 'promené', 'traverse', \"l'armée\", 'aller', 'intime', 'pensez-vous', 'quittance', 'connaissez-vous', 'regardez-nous', 'spontané', 'respire-t-il', 'maison', 'mérité', 'ennuyez', 'complexe', 'tombez', 'perroquet', 'fatiguée', 'blagues', 'héros', \"j'en\", \"j'entrerai\", 'kidnappé', 'exaltant', 'gifla', \"t'entendre\", 'analphabète', 'hanche', 'leur', 'décider', 'attrapez-le', 'semblant', 'morts', 'repliez', 'expliquer', 'stéréotypé', 'chose', 'faites-en', 'thomas', 'mienne', 'lâchez-moi', 'réchappé', 'aboyait', 'présente', 'dommage', 'profondément', 'immobiles', 'devoir', 'péter', 'épaté', 'sérieuse', 'déverrouillé', \"l'abri\", 'intéressé', 'tousser', 'dérangera', 'comédien', 'arrête-toi', 'crois', 'bouchon', \"qu'elle\", 'vieillis', \"n'as\", 'aviateur', 'trouvez', 'moururent', 'mangeons-nous', 'mannequin', 'surpris', 'réalité', 'forme', 'entendons', 'souviens', 'sensible', 'né', 'mangeons', 'irez-vous', 'débout', 'eu', 'louerai', 'éloigne-toi', 'têtues', 'fêtes', 'gueule', 'excuse-moi', 'enlacés', \"d'aller\", 'répète', 'mine', 'amusez-vous', 'bloquée', 'admettre', \"d'air\", \"s'enfuit\", 'devine', 'pleut-il', 'compagnon', 'retournons', 'bœuf', 'êtes', 'emballe', 'verrouillée', 'étasunien', 'hors-la-loi', 'n', \"n'en\", 'scotch', 'roi', 'inconscient', 'dépêcher', 'gobé', 'crues', 'drapeau', 'participé', 'levez-vous', 'pour', 'repose', 'barbier', 'survivrons', 'veinards', 'rigolo', 'beaux', 'ici', 'ténu', 'amendé', 'prune', 'excentrique', \"l'emportes\", 'essaie', 'hocha', 'banane', 'intact', 'endurant', 'peuvent', 'ramasse-le', 'redondant', \"l'adore\", 'repos', 'frappé', 'attirante', 'marrée', 'autoritaire', 'lire', 'lâche-moi', 'terminons', 'va-t-elle', \"m'aider\", 'aide-nous', 'pouvez-vous', \"l'entendre\", 'appareil', 'montre-toi', 'voleuse', 'gras', 'nue', 'aviez-vous', 'réveillez', 'disparais', 'jours', 'futon', 'derrière', 'chante', 'adopté', 'contrefaçon', 'déloyaux', 'montrez-vous', 'impuissants', \"l'y\", 'sortie', 'délaissé', \"m'assis\", 'dilemme', 'annulée', \"j'enseigne\", 'levée', 'hic', 'dégoûtes', 'enseigner', \"m'excuser\", 'amusons', \"l'avenir\", 'gentil', \"d'ici\", 'connaître', \"l'immunité\", 'dansez', 'fatigués', 'méchant', 'agis', 'mentionnée', 'combattrons', 'désolés', 'sirènes', 'garde-le', 'gênez', 'canon', 'désespère', 'protégez', 'fumée', 'armes', 'moindre', 'moqué', \"s'efforce\", 'appelées', 'effrayé', 'changerai', 'intrigué', 'appartient-il', 'vie', 'fête', 'destinée', 'répondu', 'évanouie', 'pancarte', 'impertinent', 'firent', 'tel', 'détoner', 'savait', 'ambitieuse', 'vénère', 'dossier', 'mangent', 'conduirons', 'bénéfique', 'dénoncées', 'spéciaux', 'dira', 'danseuse', 'parle-moi', 'décalé', 'abrutie', 'arrives-y', 'animaux', 'stopper', 'fichez-nous', 'sable', 'réside', 'camp', 'ôtez', 'impatient', 'jardiniers', 'ira-t-il', 'savais', 'claque', 'infatigable', 'bégaie', 'ils', 'réparé', 'tellement', 'accompagner', 'exprès', 'inquiétez', 'sers', 'souriante', \"n'est-ce\", 'quel', 'gamins', '%', 'melons', 'pardi', 'mentons', \"t'interrompre\", \"j'allumai\", 'piochez', 'volant', 'encre', 'jardinier', 'distinctement', 'plaisanter', 'réparer', 'quelle', 'attachez', 'pagaille', 'déprimée', \"l'ont\", 'fil', 'impartial', 'gagnez', 'aimée', 'iras-tu', 'tape', 'sûre', 'rends', 'patiner', 'adorerais', 'fiez', 'prévenues', 'bats', 'elles', 'nettoyé', \"j'exhorte\", 'imbécile', 'décédés', 'fonctionné', 'sectaire', 'mordu', 'rêve', 'avancez', 'foutus', 'ennuie', 'fiasco', 'hamster', \"l'épousa\", 'panneau', 'rhume', \"j'enflammai\", \"n'avons-nous\", \"m'aimez-vous\", 'salace', 'coincés', 'précis', 'saumon', \"l'espagnol\", 'perçois', 'protègerai', 'conçu', 'revient', 'piges', 'donnez-moi', 'pot', 'mental', 'dépend', 'rêver', 'resta', 'obéirons', 'feuilles', 'regardes-tu', 'reposez-vous', 'amical', 'bâiller', 'responsables', 'nettoie', 'nagé', 'occupée', 'tirez', 'applaudit', 'souhaits', 'débarrassée', 'trouvé', 'ensemble', 'tendu', 'goûtez-la', 'divisons-nous', 'fourbue', 'entraînée', 'entrez', 'amoureuses', 'recyclage', 'mer', 'gentilshommes', 'excité', 'outré', 'guerre', 'sérieusement', 'sales', 'amendée', 'allez', 'cet', 'arriver', 'spéciales', 'viendrai', 'malin', 'décidé', 'désolée', 'banque', 'four', 'dis', 'bagnole', 'gentilles', 'demande-lui', 'bide', 'endurantes', 'poste', 'paresseuse', 'givrées', 'sorties', 'masochiste', 'vivez-vous', 'agace', 'taquinez', 'fâche', 'terrifié', 'obéira', 'clef', 'reculez', 'responsable', 'dites', 'renaître', 'poussez-vous', 'chaque', 'alarmée', 'continuez', 'lâcher', 'nièce', 'sang', 'poursuivi', 'parodie', 'agit', 'consciencieuse', 'indemne', 'crois-moi', 'jalouses', 'raison', 'maintenant', \"j'attendis\", 'désespérez', 'là-dessus', 'resterai', 'verrouille', 'montre', 'mangerai', 'fondu', 'vérifie', 'grasses', 'prends-le', 'pense', 'demandes-tu', 'guide', 'conduit', 'éteins-le', 'abandonne', 'appelé', 'longs', 'sien', 'lâchez-vous', 'bâtie', 'projet', 'confisqué', 'rappelez-moi', 'revoilà', 'guère', 'trompe', \"l'enfer\", 'ouvert', 'contrariées', 'concentre-toi', \"d'esprit\", 'connaissent', 'dix-huit', 'roses', 'réfléchis', 'poulets', 'embrassé', 'attraperons', 'nez', 'vendredi', 'flingue', 'brillante', 'flanché', 'bougie', 'eues', 'écoutons', \"l'atteindre\", 'prête', 'coureuse', 'entraîne', \"l'aimons\", 'six', 'lancer', 'brillant', 'jeta', 'maniaque', 'oiseaux', 'photo', 'peignit', 'tirés', 'regardez', 'gelé', 'simulation', 'poursuivons', 'appellerons', \"n'attends\", 'convient', 'remise', 'galant', 'burent', 'mentez', 'chantez', 'bordel', 'déjà', 'parlé', 'grossières', 'séparés', 'conscience', \"l'arrêtez\", 'acceptable', 'résiste', 'méthodique', 'pigez-vous', 'jouez', 'adorons', 'bleue', 'contagieux', 'quart', 'nombreux', 'est-elle', 'sushis', 'clouée', 'prudentes', \"d'étudier\", 'raccroché', 'hybride', 'pressons', 'lentement', 'active', 'danserons', 'horrible', \"l'essayera\", 'court', 'impartiale', 'connu', 'assurée', 'permettre', 'sinistre', 'travailles-tu', 'trouvée', 'tracasse', 'carte', \"s'ennuyer\", 'avec', 'accident', 'manières', 'raquette', 'chiqué', 'initié', 'adulte', 'avions', 'déprimé', 'tua', 'joignez-vous', \"l'époque\", 'plaisantons', 'auto', 'corbeaux', 'retourne', 'bicyclette', 'dis-tu', 'retourner', 'haletait', \"j'essaie\", 'dirai', 'verrouillé', 'survivants', 'détendre', 'fiche', 'perdre', 'confectionné', 'sembler', 'conduirai', 'amusés', 'éclatées', 'papiers', 'grandi', 'incorrect', 'attentif', 'rendons', 'déshydraté', 'défaut', 'courageux', 'recalé', 'hâlé', 'stupéfait', 'effrayant', 'bien', 'marchant', 'donnez-lui', 'y', 'motus', 'quiconque', 'manque-t-il', 'châteaux', 'trouvez-moi', 'mercis', \"t'ai-je\", 'vivant', 'immobile', 'prouver', 'étiez', 'gardez-le', 'approuve-t-on', 'poids', 'devins', 'hé', 'contrôler', 'gris', 'est', 'terriblement', 'tire', 'soucié', 'comédies', 'meurs', 'aidez-nous', 'déteste', 'tourna', 'donne-la-leur', 'revenues', 'pria', \"m'appelle\", 'pop', 'devint', 'piège', 'lancez-la', 'danseur', 'admets', 'pauvres', 'surmonté', 'déprimés', \"d'essence\", 'mettez-vous', '_eos', 'pommes', 'éveillé', 'rentrons', 'leva', 'reposons-nous', \"l'appela\", 'dans', 'survivrai', 'exclue', 'pop-corn', 'lance', 'tasse', 'pigé', 'entendu', 'poursuis', 'insolence', 'fiez-vous', 'emploi', 'reconnaissantes', 'dessine-moi', \"n'espère\", 'inexact', 'ressenti', 'chanta', 'souciez-vous', 'mah-jong', 'montre-le-nous', 'arranger', 'traduirai', 'préparée', 'soutiens', 'hait', 'poupée', 'imprudente', 'ciel', 'magnifique', 'agriculteur', 'employez', 'mêle', 'résister', 'bourré', 'partagé', 'attend', 'fumes', \"l'ai\", 'bougé', 'ah', 'félon', \"l'avais\", 'nourrissez', 'attrape-le', 'ennuyant', 'sourd', 'mourant', 'trompez', 'blindé', 'rencontrée', \"l'esprit\", 'accord', 'jeu', 'assis', 'brisé', 'mise', 'sourire', 'gentils', \"l'assurance\", 'sais', 'fâchées', 'charmante', 'épouse', 'mariée', 'acquisition', 'assuétude', 'réveillée', 'téléphonerai', 'sonnerie', 'restent', 'max', 'auparavant', 'ironique', 'mis', 'observatrice', 'fait-il', 'kobe', 'espion', 'rivière', 'sidérée', \"t'ennuie\", 'fais-nous', \"l'attacha\", 'défense', 'environs', 'dispute', 'restâmes', 'obsolète', \"m'ennuyez\", 'donnez-les-moi', 'prierai', 'travaillerons', 'surveille', 'paye', 'pouvais-je', \"n'étais\", 'faites-vous', 'chambre', 'souri', 'séparons-nous', 'déverser', 'dormit', 'assurons-nous', 'voté', 'dab', 'mentit', 'amende', 'poursuivit', 'donne-les-moi', 'taquiné', 'lapidé', 'était-ce', 'acide', 'crus', 'divorcé', 'discours', 'recul', 'soif', 'contrariés', 'néanmoins', 'loyal', \"l'idée\", 'ramasse', 'appelle-moi', 'joyeuse', 'utiliser', 'fis', 'coupé', \"j'emprunte\", 'coopérer', 'travaillait', 'sermonné', 'essuyez-vous', 'dit', 'montrerai', 'thune', 'ennuis', 'chine', 'orphelin', 'lacet', 'couché', 'vôtres', 'bronze', 'chanceuses', 'interrompre', 'espions', 'péri', 'pause', 'fidèles', 'cupide', 'craignaient', 'apporterons', 'motivée', 'grondée', 'remplace-moi', 'remettra-t-il', 'accoutumé', 'oubliez-le', 'refuser', 'honnête', 'saturne', \"d'herbe\", 'actuellement', 'aida', 'réglais', 'attendre', \"j'arrêterai\", 'pensionné', 'notes', 'génie', 'choisi', 'convaincu', 'restons', 'lourdaud', 'emmène', 'éclipsé', 'puait', \"l'océan\", '.', 'grouille', 'idiote', 'gagnèrent', \"l'aviron\", 'gronderai', 'veux', 'téléphone', 'recule-toi', 'emballez', 'vient', 'bus', \"s'appelle-t-il\", 'chance', 'épaules', 'accroche-toi', 'détends-toi', \"s'est\", 'mais', 'joker', \"qu'a-t-il\", 'anglaise', 'pension', 'bûmes', 'toute', 'observateur', 'signez', 'marre', 'dévoué', 'réponses', 'oublions', 'parlez', 'passagère', 'prosélytes', 'frères', 'irons', \"d'outils\", 'sœur', 'nerveuses', 'totalement', 'merci', \"l'automne\", \"n'y\", 'semaine', 'fourchette', 'ayez', 'initiée', 'survivra', 'produisent', 'deviens', 'lampe', 'cirez', 'dis-le', 'au', 'trouve-t-il', 'déverrouille', \"t'as\", 'convenez', 'seras', 'animés', 'échauffe-toi', 'souci', 'passionnant', 'ignore-les', 'ennuyante', 'passe-le-moi', 'dû', 'réalisé', 'frappée', 'faveur', 'sommeil', \"l'anglais\", \"l'achèterai\", 'traitement', 'marque', 'avocats', 'pourvu', 'empire', 'passade', \"j'aiderai\", 'méritais', 'marrées', \"j'arrose\", \"s'améliore\", 'assurance', 'présent', 'déplacement', 'levez', 'bourse', 'songe', \"l'italie\", 'tracez', 'transpiré', 'incertain', 'dur', 'avocate', 'affaires', \"l'antipathie\", \"j'éprouve\", 'froissé', 'gratuites', 'augmenté', 'sorcier', 'sale', 'finies', \"d'urgence\", 'cloîtré', 'cruels', 'oses-tu', \"j'aurais\", 'esseulé', 'jugeotte', \"dis-m'en\", \"l'été\", 'adorent', 'terrifiée', \"l'aida\", 'fraîche', 'passez-moi', 'perruque', 'sympas', 'grossis', 'possède', 'était', 'malaise', \"d'un\", \"l'un\", 'tuerai', 'perdrai', \"m'obligez\", 'plaisait', 'chapeau', 'congé', 'franchement', 'rose', \"j'effectue\", 'nettoyez-le', 'travaille-t-il', 'restée', 'gaucher', 'coûte-t-il', 'tournai', 'souris', 'riz', 'jugez', 'gêné', 'confectionnée', 'écoute', 'rondes', 'famille', 'reçu', 'jubilons', 'fille', 'poignarda', 'deux-ci', 'écrivez-moi', 'cléments', 'guérira', 'embrassons-nous', 'amis', 'éloignez-vous', 'abandonner', 'coupai', 'biscuits', 'jette-le', 'aboient', 'larguée', \"j'appelle\", 'creusez', 'bourrées', 'égal', 'réaménager', 'mince', 'effort', 'dites-vous', 'épuisée', 'nettoierai', 'perte', 'sens', 'menacé', 'laissez-vous', \"m'aide\", 'salade', 'marcherai', 'taisez-vous', 'emmerdeuse', 'souciez', 'trahissait', 'possible', 'insensible', 'ressemble', 'pas', 'face', 'construit', 'baissai', 'varient', 'marré', 'cherche-le', 'rappeler', 'arrêtons-nous', 'plantés', \"t'amuser\", 'prié', 'souvenez', 'vit', 'flasque', 'morte', 'miennes', 'trucs', 'mourez', 'insouciante', 'copine', 'télé', 'surprise', 'réparera', 'malades', 'heure', 'grincheux', \"l'italien\", 'crié', 'trente', 'eut', 'cinglé', \"s'adaptera-t-il\", 'mit', 'plait', 'perdit', 'loyale', 'chômage', 'est-ce', 'injuste', 'différentes', 'enterré', 'fonctionnera', 'naïf', 'mariés', 'énorme', 'se', 'tiendrai', 'moment', 'partir', 'casquette', 'fruits', 'preuves', 'oublie-le', 'bargeots', 'attaque', 'rendue', 'laisse', 'bouchée', 'tu', 'chair', 'quittes', 'autorisé', 'adultes', 'tatillon', 'presser', 'fumez', 'méchantes', 'bas', 'tolérant', 'carottes', 'désir', 'sentir', 'aperçue', 'craques', 'prise', \"j'apprendrai\", 'descendit', 'veinard', 'dupa', 'discrets', 'jour', 'souvins', 'largué', 'malheureux', 'serviette', 'crédible', 'redis', 'rendre', 'énigmes', 'allez-y', 'marie', 'énervés', 'on', 'surveillez', 'choqués', 'enseigne', \"j'envie\", 'lisez', 'loupé', 'grandis', 'tant', 'notre', 'soutien', 'arme', 'surfeur', 'investie', 'méditer', 'laquelle', 'embauchez-vous', 'malpoli', 'fera', 'aimez', 'fauchées', 'apeurée', 'empruntée', 'tournez', 'être', 'essayons-le', 'courons', 'briser', 'tousse', 'talentueuse', 'ému', 'maths', 'terrifiant', \"t'attends\", 'retournez', 'éveillée', 'élargissez-le', 'impolie', 'manqué', 'manqueras', 'consciencieux', 'mésaventure', 'livres', 'excitée', 'touche', '?', 'inquiéter', 'embrassa', 'seconde', 'étonné', 'giflé', 'f.b.i', 'vue', 'continuait', 'apportez-le-moi', 'vivent', 'hébété', 'spontanée', 'savez', 'ordonné', 'garçons', 'mesures-tu', 'trouvai', \"l'expérience\", 'soigneusement', 'ballon', 'nouvelles-venues', 'américain', 'demandez', 'échappées', 'obéissant', 'toussota', 'échecs', 'agissez', 'whisky', 'démasqué', 'valise', 'mignons', 'parlions', 'filai', 'immunisé', 'improbable', 'rappelles-tu', 'contravention', 'réputation', 'laver', 'loué', 'ses', 'créatifs', 'innocent', 'étudiantes', \"t'appelles\", \"s'y\", 'écrit', 'surchargé', \"l'ail\", 'arabes', 'proximité', 'courtise', 'matin', 'regarderai', 'remarqua', 'fies-tu', 'laissa', 'audace', 'manquer', 'bouche', 'moitié', 'sage', 'tenancier', 'intéressant', 'sécurité', 'brésil', 'semblez', 'lente', 'méprise', 'clément', 'alla', 'motivé', 'blessé', 'viendra', 'une', 'chats', 'vivrai', 'rouges', 'plutôt', \"t'aiderai\", 'souffrant', 'mari', 'enlève', 'peine', 'réglé', 'soleil', 'évident', 'croissent', 'célèbre', 'es-tu', 'signifiait', 'osez-vous', 'beauté', \"m'ennuies\", 'mecs', \"l'oiseau\", 'liste', 'précipitée', 'gratuit', 'énervées', 'musulmane', 'sent', 'horreur', 'coût', 'gérer', 'bouillir', 'arrêtez-vous', 'charlatan', 'recrutés', 'sauverai', 'abandonnèrent', 'fric', 'grisant', 'étoile', 'regardons', 'scié', \"l'as-tu\", 'lèvres', 'veux-tu', 'brillantes', 'reconnaissants', 'huit', 'rappelle-moi', 'trichent', \"j'imagine\", 'rappelez', 'venez', 'descends', 'sers-toi', 'musicien', 'gâteau', 'parlez-moi', 'uns', 'bleu', \"s'aggrave\", 'aujourd', 'trouvait', 'commences', 'boxe', \"quelqu'un\", 'excusez-moi', \"l'envie\", 'place', 'souriants', 'pire', 'échappé', 'revérifierai', 'conçue', 'disputées', 'envieuse', 'chemin', 'donne-nous', 'ouverte', 'rôle', 'comment', 'contagieuse', 'libres', 'charrie', 'ecchymose', 'fasciné', 'avion', 'embrasser', 'par', 'lave-toi', 'avais', 'talent', 'mignon', 'poisse', 'rompre', 'ou', 'projets', 'doivent', 'arrivez-vous', 'prudemment', 'comprenons', 'horrifiée', 'licite', '«', 'dalle', 'marqué', 'joie', 'lirai', 'rationnel', 'attends-nous', 'tristesse', 'lâchez-le', 'attendu', \"t'a-t-on\", 'mourus', 'scolarisé', 'appelez-nous', 'dessins', 'juge', 'nos', 'droite', 'forcez', 'chanson', 'veillez', 'démissionner', 'manquèrent', 'mal', 'mangera', 'consulte', 'filet', 'marrante', 'jeux', 'vagabond', 'pain', 'trompa', 'comporte', 'aimes', 'changement', \"j'arrête\", 'bétail', 'obstiné', 'désastre', 'mentionné', \"n'êtes\", 'rêvons-nous', \"t'ennuies-tu\", \"l'emportèrent\", 'a-t-elle', 'géniale', \"j'écris\", 'buvez-le', 'ignore', 'veut', 'dormi', \"l'odeur\", 'seulement', 'kleenex', 'supporté', 'attaquez', 'ras-le-bol', 'nettoya', 'un', 'chavira', 'penses-tu', 'pardonnés', 'soupe', 'crierai', \"n'es-tu\", 'massif', 'décide', 'saufs', 'pneumonie', \"s'emmerde\", 'pétrifié', \"qu'à\", 'accessible', 'valises', 'spécial', 'délaissée', \"qu'il\", 'sa', 'décroche', \"d'argent\", 'détestes', 'dressa', 'halluciner', 'beaucoup', 'oublia', \"t'adore\", 'fais-lui', 'feu', 'possèdes-tu', 'vendus', 'dévouée', 'touché', 'frousse', 'touille', 'rouge', 'attendait', 'dormez', 'finissez', 'laisse-nous', 'bonnard', 'synchronisées', 'brûlée', 'visité', 'ouvrages', 'mouches', 'refaites-le', \"j'y\", 'fonctionne', 'compter', 'chic', 'séparées', 'géologue', 'permets-moi', 'bienvenue', 'payée', 'sifflé', 'allâmes', 'loin', 'lis-la-moi', 'voyageons', 'aise', 'buter', 'viendra-t-elle', 'rarement', 'décidez-vous', 'mystères', 'deux', 'carpe', 'vilain', 'des', 'peux', 'brisée', 'allés', 'furieux', 'besoins', 'quelles', 'couteau', 'biaisé', 'époux', 'commença', 'cartes', 'attentivement', 'ouïe', 'soyons', 'accidents', 'rétabli', 'parti', 'fonctionne-t-il', 'fiable', \"l'éventail\", 'concentrez-vous', 'vus', \"l'espère\", 'conclu', \"d'yeux\", 'connaissons-nous', 'demande-leur', 'dissipé', 'dépassé', 'homme', 'mug', 'bénédiction', 'bière', 'sauvé', 'souk', 'talentueuses', 'asiatiques', 'muera', 'ponctuelles', 'rappelle', 'nourrissent', 'discutons', 'taire', 'pièce', 'dérange', 'koalas', 'brûle', 'trouveront', 'tailleur', 'remariée', \"l'appuierai\", 'boîte', \"n'importe\", 'dent', 'clé', \"d'immondices\", \"d'entre\", \"l'avoir\", 'karaoké', 'suivrai', \"s'en\", 'protégée', 'chez-moi', 'terminer', 'charmants', 'enflammé', 'prenez-le', \"n'ont\", 'mémorisez-la', 'expliquerons', 'lance-le', 'devrait', 'risque-t-il', 'petite', 'trou', 'ceux-là', 'montrez-moi', 'siens', 'sonner', 'utilise-les', 'permission', 'bras', \"d'elle\", 'menti', 'certain', 'voyons', 'tournait', 'boulot', 'corps', 'maline', 'saisis-tu', 'voulez', 'dérobé', 'glandes', \"m'avez\", 'prévu', 'soutiendrai', 'capté', 'aima', 'ministre', \"t'aimions\", 'lundis', 'cool', 'souffre', 'fesses', \"j'habite\", 'lequel', \"qu'est-ce\", 'essayer', \"l'ouvrir\", 'coule', 'vidéo', 'parle', 'tue', 'invitées', 'inspire', 'golfeuse', \"t'es-tu\", 'plantes', 'visage', 'cesse', 'sans', 'oranges', 'remplacer', \"l'emporterions\", 'plomb', 'tricote', 'piégée', 'trahie', 'rentrez', 'priorité', 'mangez', 'attrapés', 'coûte', 'garçon', 'virer', 'étudiez', 'disjoncté', 'sauver', 'affûtée', 'ange', 'enfuit', 'verbaliser', 'dvd', \"qu'en\", 'venues', 'équipage', \"aujourd'hui\", 'rende', 'enfant', 'équitables', 'inutile', 'ignorée', 'étudia', 'met', 'laissez-la', 'voisins', 'proche', 'hurlements', 'siennes', 'réveillez-vous', 'choisis-en', 'rends-toi', 'kyoto', 'flinguer', 'réussirons', 'généreux', 'élan', 'lieu', 'savon', \"l'arrière\", 'cher', 'enseignante', 'effrayée', \"m'intrigue\", 'disponibles', 'pensais', 'endetté', 'introverti', 'choqué', 'importe-t-il', 'plaisantez-vous', 'laide', 'a-t-il', 'rue', 'pleurez-vous', 'plate', 'ressens-tu', 'jogging', 'le', 'préoccuperais', 'suffit', 'réchappa', 'fière', 'cuisinerai', 'tranchante', 'chien', 'terrible', 'mauvaise', 'chienne', 'recrutez-vous', 'engagés', 'pousse-toi', 'tocade', 'évanoui', 'la', 'bol', 'visite', 'affreux', 'oublie', 'apporte-moi', 'patientez', 'celui-là', 'noya', 'double', 'naturel', 'demie', 'maire', 'battons', 'dis-moi', 'durs', 'gobe', 'corde', 'survivons', 'nouvelles', 'mythe', 'amassé', 'paie-moi', 'boulanger', 'pourrais-tu', 'vendues', 'sourcils', 'tenez-vous', 'apportez-le', 'ignorez', 'amusante', 'entendre', \"l'estomac\", 'agité', 'lâche-toi', 'demandez-moi', 'mettons-nous', 'non-fumeur', \"n'avez-vous\", 'canadiennes', 'fréquemment', 'ranch', 'règles', 'touchée', 'emplettes', 'enfoirée', 'rétréci', 'sentez-vous', 'dix-sept', 'viande', 'réel', 'tint', 'ridicule', 'puritaine', 'mène', 'plané', 'soucis', 'absent', 'viens-tu', 'sauvées', 'charles', 'qualifié', 'démissionne', 'alentour', 'verse-moi', 'arrogantes', 'prix', 'picasso', 'savez-vous', 'cuisiné', 'redresser', 'vas-y', \"l'avons\", 'secouez-vous', 'serrés', 'gardez', 'laissés', 'moi-même', 'remuées', 'aider', 'attrapée', \"s'entend\", 'eue', 'teint', 'pile', 'verbalisé', 'dure', \"d'équerre\", 'élu', 'meilleurs', 'toupet', 'battez-vous', 'disposent', 'monté', 'frappa', 'voyez-vous', 'continuerai', '50', '6', 'prendre', 'rouler', 'penses-y', 'portés', 'grognon', 'choc', 'tapis', 'journée', 'émettre', 'fais-en', \"n'interrompez\", \"t'es\", 'vivantes', 'excusé', 'soirée', 'protège', 'obéissants', 'savoir', 'exagère', 'râle', 'faisons-le', 'jus', 'neigé', 'mords', 'tomates', 'été', 'cultive', 'prédit', 'tairai', 'laissez-le', 'superbe', 'perdons', 'stagiaire', 'meilleur', 'rencontre', 'disputons', 'démontrerai', 'plierai', 'bruyantes', 'battez', 'contredanse', 'plaqué', 'arrêtez', 'rougissez-vous', 'tournée', 'dormir', 'également', \"m'ennuyais\", 'équitable', 'dépasse', 'inadapté', 'paname', 'affairé', \"l'herbe\", 'veuillez', 'croquez', 'naïve', 'trouves', 'impliquée', 'tripes', 'trompé', 'paresseuses', 'compatis', 'cerf', 'bête', \"t'aimer\", 'propos', \"j'espère\", 'descendre', \"n'aurai\", 'froid', 'précipitation', 'invitée', 'patron', 'arabe', 'avez', 'sos_', 'sushi', \"n'est-il\", 'avalé', 'que', 'détendu', 'embrasse-moi', 'équipe', 'poule', 'taille', 'bague', 'connaît', 'ouvrez-le', 'voleur', 'nerveuse', 'goûte-le', 'commanderai', 'égoïstes', 'cd', 'risques', 'levés', 'bonnes', 'parvenir', \"j'apporterai\", 'fidèle', 'respectueuses', 'triomphe', 'pourrais-je', 'oui', 'soulagement', 'marcherons', 'voulons', 'quarante-cinq', 'déchiré', 'probable', 'rebelle', 'revue', \"n'oublions\", 'compris', 'rcp', \"l'a-t-il\", 'apeuré', 'rendrez-vous', 'idiot', 'blessées', 'su', 'partit', 'solitaire', 'sonne', 'appellera', 'pensait', \"t'ai\", 'conviens', 'tenter', 'cuisine', 'cocufiée', \"l'acquisition\", 'perdant', 'connaissance', 'nu', 'ambidextre', 'clefs', 'prions', 'dois', 'incliné', '30', 'montres', 'accrochez-vous', 'traditionaliste', 'grimpe', 'puissants', \"l'emporter\", 'stupides', \"m'entendez-vous\", 'raoul', 'jouets', 'divorcée', 'nerveux', 'convaincue', 'vas', 'trouver', 'prudent', \"s'arrêter\", 'ouvre', 'parie', 'haïssaient', 'ces', 'disque', 'désolé', 'pressenti', 'achèterai', 'objectif', \"j'annulerai\", 'perplexes', 'glace', 'amie', 'eh', 'assuré', 'restes', \"l'ambition\", 'incarcérée', 'bouger', 'regrette', 'gros', 'partirai', 'fuite', 'blanc', 'rencontrées', 'malade', 'différent', 'téléphoné', 'avait-il', 'mord', 'aboyait-il', \"l'ignore\", 'trottinette', \"m'as\", 'connait-il', 'formidable', 'sympa', 'boire', 'tentez-le', \"l'instinct\", 'assurés', 'téléviseur', 'emmerdeur', \"m'échappe\", 'licencié', 'devrais', 'vire', 'haïssait', 'corrigera', 'parviendra', 'faux', 'suicide', 'relâchez-le', 'courte', 'prenez', 'choses', \"l'histoire\", 'factures', 'givrés', 'découvert', 'ruiné', 'protesté', 'toxique', 'entraîné', 'vivre', 'perdis', 'toutes', 'vendeur', 'ouais', 'gaffe', 'désaccord', 'calmes', 'sied', 'commis', 'fallut', 'cané', 'parapluies', 'point', 'tom', \"j'aie\", 'couchers', 'attends', 'perdez', 'fringale', 'portent', 'minuit', 'voit', 'remettre', 'déménager', \"l'école\", \"qu'est\", \"j'obéis\", 'honoré', 'montrez-nous', 'neige', 'rumeur', 'soucie-t-il', 'truc', 'raconte-nous', 'mens-tu', 'sécurisé', \"qu'était-ce\", 'sauve-toi', 'garder', 'message', 'humeur', 'parviens-tu', 'gnangnan', 'jaloux', 'là-bas', 'joues', 'eus', 'rendîmes', 'immédiatement', 'rare', \"l'emporterons\", 'natto', 'trouva', 'foudre', 'fainéante', 'type', 'lâche-le', 'dépêcherons', 'niais', 'offre-moi', 'prisonnier', 'allumé', 'laissez', 'maniez-vous', '65', 'promets-tu', 'vertiges', 'grenade', 'fonctionner', 'je', 'dont', 'vaincre', 'condamnés', 'rien', ':', 'hyogo', 'coopérerons', 'milan', 'ne', 'malédiction', 't', 'quereller', 'balles', 'intelligente', \"t'en\", 'instant', 'tahiti', 'étendards', 'égard', 'serai', 'enceinte', 'papillon', 'travailler', 'habillés', 'raser', 'allons-nous-en', 'restez', \"t'attraperons\", 'gratuitement', 'barbant', 'citron', 'risqué', \"l'avertirai\", 'compassion', 'prisonnières', 'plaisantes', 'négocions', 'écrasées', 'neigeait', 'perdue', 'réparez', 'positivement', 'page', 'déplace', 'connait', 'savions', 'malheur', 'comédiens', 'souffrons', 'avant', 'attaqué', 'mens', 'quitté', 'dépêche', 'gavées', 'faibles', 'foies', \"j'écrivis\", 'fuir', 'recrutées', 'ligota', 'femmes', 'apprécie', 'snob', 'astucieuse', 'mercredi', 'envolé', 'pomme', 'payez-lui', 'grenier', 'suivez-nous', 'nouez', 'cravate', 'métier', \"j'allais\", 'rusé', 'entre', 'personnel', \"t'épouserai\", 'vérifiez', 'l', 'sincèrement', 'devrais-je', 'devant', 'énervée', 'apprends', 'recrutée', 'noir', 'médecin', 'fraternité', 'scolarisée', 'demandez-lui', 'devenir', 'mouillée', 'malchanceuse', 'sérieuses', 'jusque', 'roumanie', 'parfaite', 'test', 'plaisent', 'avoué', 'basse', 'doute', 'sauva', '223-1374', 'désolées', 'préparer', 'trouvais', 'pneus', \"l'auto\", 'paresseux', 'cul-de-sac', 'jouais', 'reposes', 'file', 'roule', 'furieuse', 'invité', 'souhaitez-moi', 'chatouilleuse', 'porc', \"l'étreignis\", 'dures', 'pardonnerai', 'fume', \"l'apprécions\", 'informez-en', 'inhabituel', 'souffrait', 'synchronisés', 'coincées', 'crevées', 'invités', 'côté', 'loi', 'boulangère', 'paumé', 'liberté', '!', 'malheureuse', 'humiliée', 'étudions', 'disponible', 'périrent', 'mouillés', \"n'as-tu\", 'revenue', 'trompé-je', 'phénomène', \"j'achèterai\", 'tôt', 'cercle', 'moyenne', 'soulagée', 'serviable', 'motif', 'ans', 'tête', 'terre', 'chanter', 'chanté', 'confiante', 'semblent', 'pastiche', 'prêtez', 'confisquée', 'décroché', \"l'espoir\", 'trésor', 'proches', 'par-dessus', 'montée', 'précipitai', 'laissée', 'seule', 'éteignez-le', 'geste', 'monte-le', 'parlait', 'réveilla', 'demeure', 'paranoïaque', 'journal', 'espoir', 'étudie', 'précipité', \"m'attaquez\", 'trouve', 'diriez-vous', 'brillants', 'donna', 'samedi', 'souciait', 'pleuvra', 'dehors', 'pied', 'reprenez', \"d'écouter\", 'expliquez-le-moi', 'heurté', 'élargis-le', 'tuez', 'vole', 'insolite', 'laissé', 'déciderons', 'essentielle', 'lâche', \"l'ignorer\", 'chocottes', \"c'était\", 'sert-il', 'étranglé', 'charmant', 'opposé', 'apprend', 'experts', 'aidez', 'berné', 'bruyant', 'grassouillette', 'pouvons-nous', 'avis', 'nagerai', 'remarqué', 'britannique', 'ferons-nous', 'craquai', 'de', 'vasculaire', 'abeilles', 'goûtez', 'patrouille', 'encombrant', 'brûlées', 'sur', 'couvrez-le', 'particulier', 'bureau-ci', 'détestais', 'différents', 'parla', 'anéanti', 'reposée', 'attendit', 'étudiait', 'file-le', 'rédigé', 'vivante', 'dément', 'acheta', 'marrant', 'stupéfaite', 'captez-vous', \"n'oublierai\", 'aurait', 'donne-la-moi', 'sut', 'réaliste', 'sournoise', \"s'ennuient\", 'coopérerai', 'parfait', 'demandons', 'chauves', 'brouillard', 'tente', 'descendez', 'commère', 'jusque-là', 'allongée', 'satisfaite', 'minable', 'retour', 'toubib', 'revoir', 'infirmière', 'appétit', 'mieux', 'tragédie', 'arrêterai', 'couru', 'dispose', 'dernières', 'directe', 'turquie', 'arrières', 'déçu', 'partant', 'débarqué', 'sortons', 'attendra', 'réveillés', 'comprends-tu', 'flouée', 'dieu', 'feriez-vous', 'pleine', 'ruinés', 'positif', 'faites-lui', 'comporte-toi', 'brûlante', 'celui-ci', 'japonaise', 'prévenue', 'peindre', 'bibi', 'incorrigible', 'vente', \"qu'un\", 'rend', 'meurt', 'robot', 'laissèrent', 'balayer', 'pieds', \"d'eux\", 'saute', 'vaches', 'sauves', \"l'état\", 'pays', 'vivons', 'confessé', 'poussent', 'remplaçable', 'soucies-tu', 'savaient', 'ambitieux', 'guéri', 'moelleux', 'fermé', \"l'oubliez\", 'étais', 'connus', 'pleuvait', 'démontez-moi', 'boite', 'vôtre', 'pourrais', 'redites', 'celles-là', 'végétarienne', 'neiger', 'jolie', 'courses', 'obéis', 'accepté', \"t'arrêterai\", 'gave', 'soulevé', 'voeux', 'pose-le', 'indices', 'buvez-vous', 'voyage', 'utilisez', 'commence', 'rêvent-ils', 'prenons', 'aboie', 'partez', 'surpoids', 'mentez-vous', 'géré', 'barbare', 'nouvel', 'stores', 'rougi', 'rendons-nous-y', 'improvisons', 'sur-réagis', 'chaise', 'regarda', 'inoffensif', 'aide-moi', 'grands', 'demanderai', 'lasses', 'manquera', 'précise', 'recule', \"l'urticaire\", 'merdé', 'fauché', ')', 'basses', 'plaisantes-tu', 'souriantes', 'célibataire', 'étendue', 'fie-toi', 'creuse', 'silencieux', 'dentaires', 'ingénue', 'optimiste', 'bonjour', 'véhiculé', 'revenu', 'taxi', 'intelligent', 'joué', 'hache', \"t'envie\", 'gosse', 'vieillot', \"j'adorais\", 'éteint', 'mets', 'occupés', 'gavés', 'flemmard', 'aide', 'voyez', 'écris-moi', 'garantis', 'mien', 'film', 'disposer', 'honteuse', 'gagner', 'sacré', 'coupable', 'appliquée', 'payerai', 'sensibles', 'façons', 'pourrait', 'conduis', 'fumes-tu', 'malines', '’', 'demandez-leur', 'préoccupée', 'imbéciles', 'cuillère', 'dénoncés', 'dingues', 'signé', 'devenues', \"n'est-elle\", 'moyens', 'chasser', 'chanceuse', 'repu', 'atroce', 'partage', 'moutons', 'corriger', 'réalistes', 'onze', 'tirerai', 'malins', 'nié', 'patent', 'ponchos', 'font', \"l'incita\", 'étaient', 'tombées', 'bateau', 'mérite', 'dire', 'présents', 'sait-il', 'cédez', 'aux', 'puis', 'réels', 'brave', 'converser', 'tirées', 'fut', 'drogués', 'choquées', 'peinture', 'cousue', 'disputer', 'foules', 'poursuit', 'miens', 'inspirez', 'siffler', 'éprouve', \"j'ai\", \"m'oblige\", 'colère', 'divorcés', \"l'hypnose\", 'ras', 'arrivées', 'aimons', 'respectueux', 'télévision', 'arrêterons', 'fout', 'revenez', 'appelés', 'fleurs', 'agir', 'dépêcherai', 'saoules', 'entendez-vous', 'admire', \"j'entendis\", 'brève', 'gens', 'renversé', 'rejoindre', 'blaguais', 'règle', 'joyeux', 'répara', 'tenir', \"l'arme\", 'preuve', 'articulations', 'eux', 'voulions', 'grandiront', 'embuscade', 'perdu', 'paraissez', 'moi', 'fortes', 'grandissez', 'écartez-vous', 'causes', 'orchidées', 'persévère', 'embauché', 'repasser', 'stoppez', 'douté', 'trouvés', 'honnêtes', 'sauté', 'ont-ils', 'hideux', 'dernier', 'strict', 'œufs', 'captez', 'flancha', 'abattu', 'charriez', 'charge', 'pourrions', 'cogner', 'réveille-toi', 'sidérées', 'chanteuse', 'savent-ils', 'parler', 'comportez-vous', ',', \"l'encre\", 'terminée', 'politique', 'conduisez', 'meilleures', 'sentais', 'allumée', 'contrariée', 'présentons', 'poèmes', 'grande', 'arrivent', 'goûts', \"j'essayerai\", 'regardez-vous', \"s'évanouira\", 'tient', \"m'en\", 'jazz', 'histoire', 'respectons', 'fâchée', 'vide', 'fanatiques', 'rends-moi', 'acteur', \"t'aiderons\", 'inclus', 'nourritures', 'peindrons', 'rendras-tu', 'enlacé', 'allergies', 'auteur', 'écrivain', \"j'eus\", 'faim', 'envoie-le', 'dévêts', 'anxieux', 'trahi', 'rends-la', 'certains', 'achète-toi', 'haricots', 'cause', 'balivernes', 'porte-le', 'bref', 'tiré', 'abandonnons', 'étaient-ils', 'docteur', 'nia', 'peut-on', 'écarte-toi', 'cookies', 'actuelle', 'impuissantes', 'yeux', 'offrez-moi', \"m'ennuyer\", 'anéantie', 'adoré', 'gronda', 'courage', 'ferme', \"d'espagne\", 'joue-la', 'coups', 'vulgaire', 'instituteur', 'fiancé', 'bonbons', 'sorti', 'venez-vous', 'buvais', 'pardonné', 'doit', 'binoclard', 'retenu', 'cocufié', 'promo', 'fort', 'musicienne', 'client', \"l'aventure\", 'tiens-toi', 'incapable', 'ralentis', 'artiste', 'pu', 'ma', 'plantée', 'cassés', 'décoré', 'captes-tu', 'mère', 'escorte', 'emporté', 'pensionnée', 'non', 'démissionnons', 'avance', 'apportez', 'arrivez-y', 'sceptique', 'ronfler', 'autour', 'compliqué', \"n'ira\", 'caméraman', 'imprudent', 'gérerai', 'taille-toi', 'suivis', 'stone', 'piano', 'ennemi', 'comprend', 'lisez-le-moi', 'plaisance', 'vérité', 'cuisez', \"l'embrassa\", 'sommet', 'sabordé', 'regardez-le', 'fiables', 'entêté', 'détective', 'ressentez-vous', 'poker', 'lèvre', 'revenus', 'me', 'faute', 'poulet', 'palpitant', 'raccourci', 'geindre', 'envoyé', 'plus', 'tirer', 'moscou', 'irez', 'panne', 'vote', 'terminé', 'bienvenu', 'doucement', \"t'inviterai\", 'doutes', 'travaillez', 'mentaux', 'incité', 'trop', 'outrage', 'chef', 'match', 'détestait', 'armées', 'date', 'patience', 'rusée', 'expulsée', 'captes', 'cadeaux', 'scelle', \"t'observe\", 'maigrichons', 'lignes', 'rendez-vous', 'désespéré', \"d'aide\", 'oubliez-la', 'pagode', 'mesurer', 'incroyables', 'sautez', \"j'apprécie\", 'veinardes', 'intrépides', 'apportez-moi', 'fais-tu', 'refusai', 'fierai', 'tranquille', 'prenez-en', 'tortues', 'balaise', 'simuler', 'mauvais', 'heureux', 'différente', 'respirer', 'décidées', 'contente', 'diable', 'alitée', \"m'insère\", 'courrier', 'habitez', \"j'entends\", 'là-haut', 'diplôme', 'crier', 'arrives-tu', 'sou', 'opposée', 'tirerons', 'coureur', 'conseils', 'coin', 'retire', 'crime', 'vous', 'sous-titres', 'fredonne', \"n'était\", 'huîtres', 'aveugle', 'plein', 'applaudi', 'flipe', \"j'obtiendrai\", 'essayerons', 'embrassez-moi', 'flambant', 'bon', 'biologiste', 'crie', 'merveille', 'fais-le', 'retentir', \"j'abandonnerai\", 'dépêchons', 'pardonnez-moi', 'debout', 'souper', 'marchera', 'dangereux', 'préviendrai', 'téléphonez', \"d'égypte\", 'utilisez-les', 'ouvrage', \"l'arrêta\", 'paris', 'bagages', 'foyer', 'écoulé', 'falsifiée', 'discuté', 'manche', 'lutté', 'retraité', 'ingénieur', \"j'étais\", 'crains', 'prends-en', 'croatie', 'câlin', 'venue', 'adorables', 'défends-toi', 'monde', 'correspondant', 'écoutez', 'sort', 'préparé', 'hasarde', 'penses', 'appellez', 'collation', 'chantez-nous', 'location', 'enfourche', \"l'avez-vous\", 'léger', 'accorde-nous', 'affairée', 'connaissais', \"d'aucune\", 'question', 'surfe', 'événement', 'nettoyée', 'importe', 'attendons', 'travaillais', 'parole', 'jura', 'forte', 'violent', 'donnez-la-moi', 'chaussures', 'éteinte', 'ouvertes', 'calculé', 'arrêté', 'côtés', 'envoyée', 'tofu', 'chaude', 'ferais-tu', 'poursuivrai', 'jalouse', 'intelligentes', 'faisons', 'attendez', '&', 'quasiment', \"j'interdis\", 'coucher', 'fièvre', 'plaît', 'taquiner', 'si', 'coffre', 'touillez', 'fiça', 'entretenues', 'cache', \"l'évidence\", 'apparentés', 'firefox', 'dansons', 'pourrait-il', 'giflée', 'cuire', 'filles', 'froids', 'vérifiera', 'manges', \"qu'avez-vous\", 'perspective', 'foutu', 'embrasse', 'fauteuil', 'sera', 'existez-vous', 'relativement', \"n'a\", 'sienne', 'dites-le-moi', 'facile', 'bienvenus', 'chat', 'commandé', 'amusons-nous', 'respectueuse', 'moteur', 'démarré', 'défoncé', 'rage', 'formation', 'déchaîné', 'insister', 'conclue', 'valait', 'jouez-vous', 'égalité', 'excusée', 'bonhomme', 'délicat', 'artificiel', 'pièces', 'agréable', 'plage', 'poney', 'droit', 'sortez', 'tatillonnes', 'partout', 'cachons', 'tenait', 'vélo', \"j'utilise\", 'casse-toi', \"j'aurai\", 'jumeau', 'haute', 'montre-nous', 'porte', \"d'eau\", \"m'inquiète\", 'immonde', 'reprochez', 'malchanceuses', 'joue', 'faut', 'soin', 'acheté', \"l'addition\", 'jeans', 'bourgade', 'incluse', 'écris', 'sauce', 'acclamèrent', 'révéler', 'coupée', 'verbalisée', 'ai', 'plaisez', 'lapins', 'costume', 'alarmés', 'attrapé', 'poisson', 'foins', 'idiots', 'réellement', \"l'église\", 'mentir', \"j'attendrai\", 'contractai', 'montre-le-lui', 'discutâmes', 'marcher', 'goberais', 'échoué', \"l'élue\", 'mentent', 'protestation', 'dévoués', 'hurlé', 'refais-le', 'insisté', 'chantent', 'traversez', 'ferma', 'partis', 'chameaux', 'partirais', 'grosse', 'cherchez', 'présentes', 'rentrée', 'année', 'quand', 'épouse-moi', 'pareils', 'déloyales', 'sourde', \"n'entrez\", 'prudents', 'reconnaissante', \"m'ignora\", 'chantez-moi', 'foutaises', \"j'adore\", \"l'emporte\", 'idées', 'amer', 'détritus', 'désorientée', 'ignore-le', 'séparâmes', 'père', 'soit', 'jeunes', 'investi', 'mémorise-la', 'devoirs', 'naze', 'désorienté', 'décide-toi', 'attentive', 'gloussa', 'essaies-en', 'diabétique', \"d'espace\", 'resté', 'possibilité', 'fermier', 'trace', \"l'emploi\", 'étudiante', 'forts', 'souvent', \"donne-m'en\", 'lavée', 'rationnelle', 'canular', 'tennis', 'lettre', 'requins', 'affaire', 'protester', 'gâteaux', 'espionnes', 'muffins', 'peint', 'aimes-tu', 'voudrais-tu', 'épousé', 'répondez-moi', 'montre-moi', \"s'il\", 'sommes-nous', 'admirateurs', 'devenue', 'flippe', 'longtemps', 'esprit', 'levées', \"l'écart\", 'dé', 'bombe', 'grossiers', 'maigrichonne', \"m'agace\", 'rigole', 'joueur', 'bénévolat', 'travaille', 'fous', 'dorénavant', 'bouffé', \"l'arabe\", 'floué', 'cous', 'graciée', 'haussa', \"l'utilise\", 'malandrin', 'rencontrés', 'tombés', 'utile', 'où', 'dorme', 'années', 'groupe', 'visa', 'coulons', 'canadiens', 'porté', 'toussé', 'nature', 'rendus', 'flexibles', 'triche', 'triché', 'méticuleux', 'endurante', 'usage', 'calme', 'courir', 'honte', 'portée', 'vivra-t-il', 'répondez', 'ponctuelle', 'serrez-moi', 'pousse', 'choisissez', 'creusé', 'tarte', 'aura', 'échappés', 'humilié', 'paye-lui', 'vitamines', 'célèbres', 'dégueulassé', 'prends-toi', 'contracté', 'miracle', 'catastrophe', 'londres', 'froides', 'lycée', 'soucie', 'satisfaits', 'professionnel', 'recalée', 'natation', 'simple', 'régime', 'ragote', 'timbre', 'tatillonne', 'cultivé', 'soudainement', 'chandelle', 'combattre', 'renseigner', 'croyez-moi', 'essuie-toi', 'tard', 'géniales', 'sérieux', 'parviens', 'nul', 'remercie', 'plombs', 'jambes', 'jumelle', 'travaillons', 'cérébral', 'courageuses', 'impressionnée', 'procédé', 'fascinée', \"n'es\", 'cuisinez', 'radote', 'laissez-nous', 'séjour', 'mortes', \"t'embête\", 'octobre', 'asseyez-vous', 'bouquin', 'rapide', 'portable', 'prudente', 'mentîtes', 'obstinée', 'mettez', 'devais', \"l'ignorai\", 'hésita', 'lacets', \"l'as\", 'moto', 'contrôle-toi', 'dormait', 'parlent', \"n'avons\", 'première', 'connaissez', 'occuper', 'décéda', 'bravo', 'contrarié', 'truite', 'dressé', 'triches', 'manifeste', 'hurler', 'miséricordieuses', 'contrat', 'somme', 'assise', 'bouteille', 'ailles', 'discutions', 'conduis-toi', 'dégoutez', 'célébrons', 'goûtait', 'son', 'copie', \"l'appeler\", 'larmes', 'bizarre', 'étourdie', 'sauter', 'rebroussa', 'récompense', 'arriverons', 'massage', 'correct', 'entretenus', 'réponse', 'vraie', 'tenta', \"l'a-t-elle\", 'préférerais', 'nord', 'viré', 'westerns', 'heures', 'j', 'trompes', \"l'élu\", 'saisis-moi', 'sucreries', \"t'y\", 'entré', 'passe-t-il', 'deuxième', 'chichis', 'témoignerai', 'portait', 'parviendrons', 'sont-ils', 'cri', 'tes', 'paniqué', 'véritable', 'affreusement', 'vois-tu', 'celle-ci', 'fortune', 'saisirai', \"j'aimerais\", \"t'admirons\", 'dérangé', 'baseball', 'réveillé', 'iras', 'enivrons-nous', 'disputé', 'empêcher', 'sucré', 'appliqué', 'partial', 'rends-le', 'frimer', 'bretelles', 'rusés', 'couillon', 'grosses', 'cinq', 'apparentées', 'acides', 'sentez', \"d'une\", 'faites-la', 'rougis-tu', 'insectes', 'a-t-on', 'sel', 'plans', 'votre', 'demandons-lui', 'voudrais', \"m'apprécie\", 'corrigez', 'gentille', 'amusantes', 'riez', 'acteurs', 'minces', 'schcoumoune', 'alors', 'écouté', 'amusée', 'bienvenues', 'rappelé', 'bar', 'stupide', 'camionnette', 'endormie', \"j'essayai\", 'superflu', 'abruti', 'doit-il', 'vos', \"l'importance\", 'craqué', 'ennemis', 'amusant', 'ceci', 'étiez-vous', 'programmeur', 'grasse', 'brûlant', 'intrépide', 'joindrai', 'annuler', 'poésie', \"d'avoir\", 'voulais', 'prêt', 'improvisé', 'échauffez-vous', 'sauvez-vous', 'affection', 'versez-moi', 'mords-toi', 'douleur', 'gâchis', 'alarmées', 'défendez-vous', 'partagerons', 'prévenus', 'corrigée', 'mangea', 'emprunté', 'obsèques', 'pénétré', 'froncer', 'cousines', 'normale', 'cassé', 'rendez-le', 'cochons', 'ferais', 'daube', 'saouls', 'chauffeur', 'pue', 'passée', 'noue', 'ennuyions', 'amène-moi', 'témoin', 'bach', 'seul', 'impossible', 'connais', 'évadé', \"l'or\", 'cultivée', 'fils', 'prépare-toi', '110', 'ficherais', 'puissante', 'attrape', 'dégage', 'isolé', 'saignait', 'veuve', 'fréquenté', 'bourrée', 'roulez', \"d'entrer\", 'discrètes', 'part', 'épuisé', 'amour', 'dirais-tu', \"l'essayerai\", 'ordres', 'offensée', 'habillé', 'oppose', 'remonté', 'remué', 'naïfs', 'sais-tu', \"l'arrête\", 'tracassez', 'rîmes', 'copié', 'sortir', 'pris', 'surprises', 'comprends', 'ingénu', 'mouvement', 'suffisant', 'contentes', 'jaune', \"l'imbécile\", 'occupé', 'envieuses', 'givré', \"s'agit\", 'masque', 'puis-je', 'reste', 'née', 'recevoir', 'débrouillerai', 'succès', 'flexible', 'tendit', \"m'utilise\", 'gagne', 'produit-il', 'battues', 'pleurerai', 'toi', 'regarde-t-il', 'têtu', 'gelée', 'dépêche-toi', 'sympathique', 'croissant', 'prendrai', 'as', 'déroba', 'effectué', \"t'inquiète\", 'donne-le-lui', 'explique-le-moi', 'commençons', 'dix', 'beau', 'administratives', \"l'intérieur\", \"l'a\", 'rit', 'ronronnent-ils', 'habitué', 'décorée', 'détesté', 'étrange', 'domicile', 'femme', 'attendîmes', 'joli', 'parvenez-vous', '10', 'décontracté', 'montrez-la-moi', \"n'apprendrai\", 'dirigeons', \"s'agissait-il\", 'ordonnée', 'transpire', 'utilisé', 'tins', 'mourut', 'simule', 'compté', \"l'accepte\", 'confiantes', 'américaine', 'passé', \"m'asseoir\", 'sommes', 'reproche', 'musulman', 'écrire', 'détenu', 'serine', 'apporte', 'perdus', 'lentes', 'route', 'amicales', 'numéro', \"j'abandonne\", 'avise-moi', 'saoul', 'ponctuels', 'faut-il', 'fâchés', 'il', 'grouillez-vous', 'taquina', 'pousser', 'voulez-vous', 'avez-vous', 'décidée', \"m'entraîner\", 'alibi', 'sonnez', 'faisait', 'toit', 'permettez-moi', 'aimaient', 'lis', 'radotez', 'passe', 'chiante', 'sidérés', 'hommes', 'désespérée', 'prêté', 'e', 'lancez-le', 'raisin', 'marteau', 'nettoie-le', 'plaisanterie', 'qui', 'surviendra', 'nomme', 'mettre', 'réserve-moi', 'gracieuse', 'oubliez', 'émue', 'livide', 'tort', 'devons', 'déception', 'intentions', 'bébés', 'nus', 'populaire', 'perds', 'grondé', \"n'entendîmes\", 'fruit', 'amies', 'peu', 'entendue', 'danser', '14', 'montez', 'tenaient', 'appelez', 'commencerai', 'riche', 'droguée', 'bisou', 'roman', 'nom', \"t'aimons\", 'puritain', 'porter', 'skie', 'soupiré', 'éclatâmes', 'souriant', 'blesse', 'nies-tu', 'alarmé', 'très', 'contents', 'enseignants', 'bougon', 'ensuite', \"d'internet\", \"n'abandonnez\", 'impuissante', \"m'aime\", 'élevés', 'nuit', 'obéir', 'noirs', 'cruelle', 'créative', 'fonctions', 'peintre', \"s'arrête\", 'referais', 'ressens', 'aversion', '100', 'mèche', 'servante', 'vivants', 'nôtre', 'aimeriez', 'paniquez', \"m'observe\", 'sincère', 'pioche', 'pouvions', 'maladroite', 'finis', 'procéder', 'déloyal', 'commencerons', 'dormirai', 'sentit', 'intention', 'avons', 'avertit', 'prochaine', 'chiens', \"t'a\", 'classique', 'décision', 'éteins', 'source', 'suivez', 'écrasé', 'détails', 'tentée', 'boit', 'suivez-le', 'magasin', 'emplois', 'direct', \"l'enlaça\", 'fatal', 'remontée', 'générale', 'sociable', 'étudiez-vous', 'intriguée', 'essayons', 'courant', 'sept', 'suis-moi', \"l'épeler\", 'ongle', 'ailleurs', 'certaine', 'âge', 'petit-déjeuner', \"l'heure\", 'quittés', 'panique', 'innocente', 'patine', 'taillez-vous', 'renvoyé', 'réservé', 'troisième', 'condamnée', \"n'avait\", 'intérêt', 'dos', 'stimulant', 'culot', 'sourit', 'lis-le-moi', 'était-il', 'presse-toi', 'anniversaire', 'devrions-nous', 'daltonien', 'escroquée', 'obéissez', 'rendez-la', 'élaboré', 'payé', 'battre', 'regardé', 'manque-t-elle', 'faites-moi', 'fatigue', 'retiens', 'contrôle', 'effarant', 'démissionné', 'nager', 'arrête', 'mec', 'avocat', 'moyen', 'bluffer', 'ralentissez', 'questions', 'affamé', 'pincé', 'causer', 'essaie-le', 'bois', 'contre', 'aère', 'assisterai', 'donne', 'ont', 'souhaite', 'passera-t-il', 'éloigné', 'h', 'bailla', 'lu', \"j'irai\", 'veinarde', 'conjure', 'mémorise-le', \"n'êtes-vous\", \"l'emportez\", 'dites-moi', 'cardiaque', 'aimerais', 'guiderai', 'ailes', 'chantaient', 'grogné', 'fiévreux', 'comprenez-vous', 'donnez-le-moi', 'plaie', 'prêtre', 'réussi', 'orteils', 'amicale', 'voulait', 'chez', 'approuvent', \"m'évanouir\", 'terrifiante', 'éthique', 'indigné', 'laisser', 'clair', 'ajuste', 'impitoyable', \"t'apprécie\", 'folle', 'long', 'bayer', 'sortit', 'libre', \"t'échauffer\", 'plaquée', 'choquée', 'continué', 'plaisanteries', 'ivre', 'premier', 'tiendrons', 'refusa', 'ours', 'inclinée', 'pardonne-nous', 'apprécia', 'planqué', 'ta', 'hoquet', 'occuperai', 'ecrivez', 'cousins', 'remuée', 'appellerai', 'morflé', 'kiffe', 'pellicules', 'nouba', 'profite', 'enlacée', 'embauches-tu', 'sèche', 'dyslexique', 'viens-en', 'montrer', 'mets-toi', 'accompli', 'saigner', 'blessés', 'bois-le', 'merveilleux', 'défaites', 'survivantes', 'intelligents', 'égaré', 'petit', 'stylo', \"j'essaierai\", 'parlerai', 'attendez-nous', 'sait', 'vilaine', 'grand', 'rap', 'note', 'besoin', 'changer', 'pige', 'sentait', 'drôle', 'noël', '»', 'échouer', 'déloyale', 'battu', 'gavé', 'dactylo', 'menteuse', 'les', \"l'épaulerai\", 'jongler', 'congés', 'précipite', 'bourrés', \"d'espoir\", 'brûlures', 'goûtez-le', 'gravement', 'parc', 'ressentir', \"d'y\", 'secrets', 'tourné', 'conseil', 'nombre', 'bonne', 'relaxe', \"d'amérique\", 'seules', 'tué', 'con', 'petites', \"m'apprécie-t-il\", \"l'allumette\", 'noie', 'plais', 'insaisissable', 'critères', 'moins', 'avait', 'ligoté', 'gauche', 'maladroit', \"qu'on\", 'siège', 'enrhumé', 'présenté', 'airs', 'destin', 'excellent', 'rappelez-vous', 'beignet', 'spécieux', 'bougonne', 'réessayer', 'chançarde', 'oublié', 'endormis', 'continue', 'plaisir', 'planté', 'impulsive', 'entendit', 'lasagnes', \"n'achète\", 'levé', 'assez', 'moque', \"qu'une\", 'saqué', 'scores', 'noyer', 'agrandissez-le', 'dressai', 'focaliser', 'rencontré', 'sans-abri', 'normal', 'poète', 'aventureuse', 'fauchés', 'cruel', 'maigrichon', 'prisonniers', 'cou', 'correctement', 'voix', 'sors', 'dernière', 'cassée', 'ennuyez-vous', 'tour', 'tomba', 'discrète', 'camper', 'rêveur', \"t'inquiéter\", 'étasuniens', 'échouerons', 'super', 'près', 'travailles', 'tentez', 'perdîmes', 'mordit', '19', 'plains', 'ris', 'voitures', 'matinée', 'grandes', 'faites', 'boisson', 'habituée', \"j'arrive\", 'puissantes', 'plancher', 'sportif', 'cousin', 'résistez', 'détestent', 'faction', 'gagnions', 'surfez', 'perplexe', 'fainéant', 'films', 'france', 'sujette', 'intéressée', 'danse', 'dépêchons-nous', 'pèse', 'imprudents', 'sentent', 'détruit', 'brûlé', 'barré', 'refusé', 'argent', \"t'excuse\", 'téléchargé', 'difficulté', 'veille', 'habille-toi', 'piqué', 'expiré', 'réparée', 'peut-être', 'arbre', 'menace'}\n"
     ]
    }
   ],
   "source": [
    "print('Number of samples:', len(input_texts))\n",
    "print('Number of unique source language tokens:', num_source_tokens)\n",
    "print('Number of unique target language tokens:', num_target_tokens)\n",
    "print('Max sequence length of source language:', max_source_seq_length)\n",
    "print('Max sequence length of target language:', max_target_seq_length)\n",
    "print(\"Source Vocabulary\",Source_vocabulary)\n",
    "print(\"Target Vocabulary\",target_vocabulary)"
   ]
  },
  {
   "cell_type": "markdown",
   "metadata": {
    "colab_type": "text",
    "id": "CuQ7B78BhLrx"
   },
   "source": [
    "** Task 3**\n",
    "\n",
    "*  Assign each unique word to an integer value (5 marks).\n",
    "*  Create word embedding for your vocabulary using pretrained Glove embeddigns (5 marks) (http://nlp.stanford.edu/data/glove.6B.zip) [see Lab 7]\n",
    "* Print the first line of the embeddings (see below) "
   ]
  },
  {
   "cell_type": "code",
   "execution_count": 0,
   "metadata": {
    "colab": {},
    "colab_type": "code",
    "id": "pPq-c1tqfoRO"
   },
   "outputs": [],
   "source": [
    "# Assign unique token to words in the vocabulary\n",
    "#your code goes here\n",
    "input_token_index = dict([(word,i) for i, word in enumerate(Source_vocabulary)])\n",
    "target_token_index= dict([(word,i) for i, word in enumerate(target_vocabulary)])"
   ]
  },
  {
   "cell_type": "markdown",
   "metadata": {
    "colab_type": "text",
    "id": "I89IK-pZ058W"
   },
   "source": [
    "Download the Glove Embedding -"
   ]
  },
  {
   "cell_type": "code",
   "execution_count": 11,
   "metadata": {
    "colab": {
     "base_uri": "https://localhost:8080/",
     "height": 357
    },
    "colab_type": "code",
    "id": "b7wjKh-WluNp",
    "outputId": "1b516312-9c89-403d-da38-6c7b1be45abf"
   },
   "outputs": [
    {
     "name": "stdout",
     "output_type": "stream",
     "text": [
      "--2019-04-18 21:12:32--  http://nlp.stanford.edu/data/glove.6B.zip\n",
      "Resolving nlp.stanford.edu (nlp.stanford.edu)... 171.64.67.140\n",
      "Connecting to nlp.stanford.edu (nlp.stanford.edu)|171.64.67.140|:80... connected.\n",
      "HTTP request sent, awaiting response... 302 Found\n",
      "Location: https://nlp.stanford.edu/data/glove.6B.zip [following]\n",
      "--2019-04-18 21:12:32--  https://nlp.stanford.edu/data/glove.6B.zip\n",
      "Connecting to nlp.stanford.edu (nlp.stanford.edu)|171.64.67.140|:443... connected.\n",
      "HTTP request sent, awaiting response... 200 OK\n",
      "Length: 862182613 (822M) [application/zip]\n",
      "Saving to: ‘glove.6B.zip’\n",
      "\n",
      "glove.6B.zip        100%[===================>] 822.24M  11.5MB/s    in 82s     \n",
      "\n",
      "2019-04-18 21:13:54 (10.0 MB/s) - ‘glove.6B.zip’ saved [862182613/862182613]\n",
      "\n",
      "Archive:  glove.6B.zip\n",
      "  inflating: glove.6B.50d.txt        \n",
      "  inflating: glove.6B.100d.txt       \n",
      "  inflating: glove.6B.200d.txt       \n",
      "  inflating: glove.6B.300d.txt       \n"
     ]
    }
   ],
   "source": [
    "#------------- Uncomment Following if running from Colab ------------ #\n",
    "if not (os.path.isfile('./glove.6B.50d.txt')):\n",
    "  !wget http://nlp.stanford.edu/data/glove.6B.zip\n",
    "  !unzip glove.6B.zip"
   ]
  },
  {
   "cell_type": "markdown",
   "metadata": {
    "colab_type": "text",
    "id": "BBSrtrbo1UKs"
   },
   "source": [
    "Create the embedding dictionary using the 50 feature dimensional glove embedding"
   ]
  },
  {
   "cell_type": "code",
   "execution_count": 12,
   "metadata": {
    "colab": {
     "base_uri": "https://localhost:8080/",
     "height": 34
    },
    "colab_type": "code",
    "id": "cuiIZXE6l029",
    "outputId": "a5510580-40bd-4a6d-9917-35731613aad2"
   },
   "outputs": [
    {
     "name": "stdout",
     "output_type": "stream",
     "text": [
      "Loaded 400000 word vectors.\n"
     ]
    }
   ],
   "source": [
    "embeddings_index = dict()\n",
    "f = open('./glove.6B.50d.txt', 'r', encoding='utf8', errors='ignore')\n",
    "for line in f:\n",
    "    values = line.split()\n",
    "    word = values[0]\n",
    "    coefs = np.asarray(values[1:], dtype='float32')\n",
    "    embeddings_index[word] = coefs\n",
    "f.close()\n",
    "print('Loaded %s word vectors.' % len(embeddings_index))"
   ]
  },
  {
   "cell_type": "code",
   "execution_count": 13,
   "metadata": {
    "colab": {
     "base_uri": "https://localhost:8080/",
     "height": 119
    },
    "colab_type": "code",
    "id": "-dOBEPVkl-kP",
    "outputId": "a97ab5de-c47b-414d-d912-789d3d0ae41e"
   },
   "outputs": [
    {
     "name": "stdout",
     "output_type": "stream",
     "text": [
      "housesitting\n",
      "Not Found\n",
      "223-1374\n",
      "Not Found\n",
      "ok.\n",
      "Not Found\n"
     ]
    }
   ],
   "source": [
    "embedding_matrix = np.zeros((num_source_tokens, 50))\n",
    "for word,i in input_token_index.items():\n",
    "    embedding_vector = embeddings_index.get(word)\n",
    "    if embedding_vector is not None:\n",
    "        embedding_matrix[i] = embedding_vector\n",
    "    else:\n",
    "        print(word)\n",
    "        print(\"Not Found\")"
   ]
  },
  {
   "cell_type": "code",
   "execution_count": 14,
   "metadata": {
    "colab": {
     "base_uri": "https://localhost:8080/",
     "height": 34
    },
    "colab_type": "code",
    "id": "BHe5i0ib1g9V",
    "outputId": "4b4fd351-0d34-4686-df2c-c1b0e92b083b"
   },
   "outputs": [
    {
     "data": {
      "text/plain": [
       "(2883, 50)"
      ]
     },
     "execution_count": 14,
     "metadata": {
      "tags": []
     },
     "output_type": "execute_result"
    }
   ],
   "source": [
    "embedding_matrix.shape"
   ]
  },
  {
   "cell_type": "code",
   "execution_count": 15,
   "metadata": {
    "colab": {
     "base_uri": "https://localhost:8080/",
     "height": 170
    },
    "colab_type": "code",
    "id": "I7G4tGZwgVUW",
    "outputId": "bef02b57-6603-4615-b306-eeb3661b904e"
   },
   "outputs": [
    {
     "name": "stdout",
     "output_type": "stream",
     "text": [
      "[ 0.098201    0.39923999  0.25696999 -0.085349    0.27175    -0.63637\n",
      " -0.62718999  0.25895    -0.53249002 -0.22927    -0.76257998  0.2173\n",
      "  0.37017     0.082194    0.46015999  0.14439    -0.35332999 -0.62408\n",
      "  0.1025     -0.58596998  0.16874     0.41938999  0.082275    0.48931\n",
      "  0.62348002 -1.8434     -0.11815    -0.25465     0.38033    -0.41892999\n",
      "  3.0158999   0.35014001 -1.26559997 -0.14951    -0.32056001 -0.72768998\n",
      "  0.53979999 -1.25320005 -0.013795   -0.0048093   0.37452999  0.41136\n",
      " -0.12614     0.48701     0.47819999  0.35898    -0.1709      0.70283997\n",
      "  0.32207     0.77503002]\n"
     ]
    }
   ],
   "source": [
    "#print first line of embeddings here\n",
    "print(embedding_matrix[0])"
   ]
  },
  {
   "cell_type": "markdown",
   "metadata": {
    "colab_type": "text",
    "id": "2QfLgKEgazro"
   },
   "source": [
    "## Section 2 Translation Model training\n",
    "\n",
    "\n",
    "\n",
    "---\n",
    "\n"
   ]
  },
  {
   "cell_type": "markdown",
   "metadata": {
    "colab_type": "text",
    "id": "Y8WnlX8d0RVj"
   },
   "source": [
    "**Task 3**\n",
    "* Provide code for the encoder using Keras LSTM \n",
    "* Provide code for the decoder using Keras LSTM \n",
    "* Train the sequence2sequence (encoder-decoder) model\n"
   ]
  },
  {
   "cell_type": "markdown",
   "metadata": {
    "colab_type": "text",
    "id": "koC7qzsJ4iSV"
   },
   "source": [
    "Prepare the Training data as a matrix with the unique index:"
   ]
  },
  {
   "cell_type": "code",
   "execution_count": 0,
   "metadata": {
    "colab": {},
    "colab_type": "code",
    "id": "HC7OaRktwjiK"
   },
   "outputs": [],
   "source": [
    "# Create matrix with zeros for source and target data -\n",
    "encoder_input_data_train = np.zeros(\n",
    "    (len(input_texts_train), max_source_seq_length),\n",
    "    dtype='float32')\n",
    "decoder_input_data_train = np.zeros(\n",
    "    (len(target_texts_train), max_target_seq_length),\n",
    "    dtype='float32')\n",
    "\n",
    "# Create matrix with zeros for target label\n",
    "decoder_target_data_train = np.zeros(\n",
    "    (len(target_texts_train), max_target_seq_length, num_target_tokens),\n",
    "    dtype='float32')"
   ]
  },
  {
   "cell_type": "code",
   "execution_count": 0,
   "metadata": {
    "colab": {},
    "colab_type": "code",
    "id": "Raou_1F-wk8x"
   },
   "outputs": [],
   "source": [
    "# update the matrix data with the index from the unique index -\n",
    "for i, (input_text, target_text) in enumerate(zip(input_texts_train, target_texts_train)):\n",
    "    for t, word in enumerate(nltk.word_tokenize(input_text)):\n",
    "        encoder_input_data_train[i, t] = input_token_index[word]\n",
    "    for t, word in enumerate(nltk.word_tokenize(target_text)):\n",
    "        # decoder_target_data is ahead of decoder_input_data by one timestep\n",
    "        decoder_input_data_train[i, t] = target_token_index[word]\n",
    "        if t > 0:\n",
    "            # decoder_target_data will be ahead by one timestep\n",
    "            # and will not include the start character.\n",
    "            # will update as one hot vector at the labels \n",
    "            decoder_target_data_train[i, t - 1, target_token_index[word]] = 1."
   ]
  },
  {
   "cell_type": "code",
   "execution_count": 18,
   "metadata": {
    "colab": {
     "base_uri": "https://localhost:8080/",
     "height": 68
    },
    "colab_type": "code",
    "id": "WPyuDCtEwo9R",
    "outputId": "934c885f-c72a-477d-b90d-5daee0d29b50"
   },
   "outputs": [
    {
     "name": "stdout",
     "output_type": "stream",
     "text": [
      "(10050, 7)\n",
      "(10050, 14)\n",
      "(10050, 14, 6056)\n"
     ]
    }
   ],
   "source": [
    "print(encoder_input_data_train.shape)\n",
    "print(decoder_input_data_train.shape)\n",
    "print(decoder_target_data_train.shape)"
   ]
  },
  {
   "cell_type": "code",
   "execution_count": 0,
   "metadata": {
    "colab": {},
    "colab_type": "code",
    "id": "Yo1ScbJZwE6L"
   },
   "outputs": [],
   "source": [
    "# Embedding layer size \n",
    "embedding_size = 50"
   ]
  },
  {
   "cell_type": "markdown",
   "metadata": {
    "colab_type": "text",
    "id": "RYml4Jkn52rW"
   },
   "source": [
    "Encoder Layer :"
   ]
  },
  {
   "cell_type": "code",
   "execution_count": 20,
   "metadata": {
    "colab": {
     "base_uri": "https://localhost:8080/",
     "height": 88
    },
    "colab_type": "code",
    "id": "F_sLH38o0BJq",
    "outputId": "5a5e844b-539d-4908-8a7f-2df334194314"
   },
   "outputs": [
    {
     "name": "stdout",
     "output_type": "stream",
     "text": [
      "WARNING:tensorflow:From /usr/local/lib/python3.6/dist-packages/tensorflow/python/framework/op_def_library.py:263: colocate_with (from tensorflow.python.framework.ops) is deprecated and will be removed in a future version.\n",
      "Instructions for updating:\n",
      "Colocations handled automatically by placer.\n"
     ]
    }
   ],
   "source": [
    "# Encoder Input\n",
    "encoder_inputs = Input(shape=(None,))\n",
    "# Embedding layer (non-trainable) with the Glove Embedding weights\n",
    "encoder_embedd=  Embedding(num_source_tokens, embedding_size , weights=[embedding_matrix],\n",
    "                input_shape=(max_source_seq_length,), trainable=False)(encoder_inputs)\n",
    "# LSTM Layer\n",
    "encoder = LSTM(50, return_state=True)\n",
    "encoder_outputs, state_h, state_c = encoder(encoder_embedd)\n",
    "encoder_states = [state_h, state_c] # Encoder States"
   ]
  },
  {
   "cell_type": "markdown",
   "metadata": {
    "colab_type": "text",
    "id": "9fJJpkLg6IQ8"
   },
   "source": [
    "Decoder Layer :"
   ]
  },
  {
   "cell_type": "code",
   "execution_count": 0,
   "metadata": {
    "colab": {},
    "colab_type": "code",
    "id": "erw3s9vI0scb"
   },
   "outputs": [],
   "source": [
    "# decoder code goes here\n",
    "\n",
    "decoder_inputs = Input(shape=(None,))\n",
    "# Decoder Embedding with Keras Default Embedding (will be trained)\n",
    "decoder_embedd=  Embedding(num_target_tokens, embedding_size)\n",
    "final_decoder= decoder_embedd(decoder_inputs)\n",
    "# Decoder LSTM Layers\n",
    "decoder_lstm = LSTM(50, return_sequences=True, return_state=True)\n",
    "\n",
    "# Set up the decoder, using `encoder_states` as initial state.\n",
    "decoder_outputs, _, _ = decoder_lstm(final_decoder,\n",
    "                                     initial_state=encoder_states)\n",
    "\n",
    "# Softmax & Dense Layer\n",
    "decoder_dense = Dense(num_target_tokens, activation='softmax')\n",
    "decoder_outputs = decoder_dense(decoder_outputs)\n"
   ]
  },
  {
   "cell_type": "markdown",
   "metadata": {
    "colab_type": "text",
    "id": "xAbkNphl7Al9"
   },
   "source": [
    "Final Model -"
   ]
  },
  {
   "cell_type": "code",
   "execution_count": 22,
   "metadata": {
    "colab": {
     "base_uri": "https://localhost:8080/",
     "height": 408
    },
    "colab_type": "code",
    "id": "xe3hV0b00uJN",
    "outputId": "2146161f-ef77-443a-f318-d8088ec60ddf"
   },
   "outputs": [
    {
     "name": "stdout",
     "output_type": "stream",
     "text": [
      "__________________________________________________________________________________________________\n",
      "Layer (type)                    Output Shape         Param #     Connected to                     \n",
      "==================================================================================================\n",
      "input_1 (InputLayer)            (None, None)         0                                            \n",
      "__________________________________________________________________________________________________\n",
      "input_2 (InputLayer)            (None, None)         0                                            \n",
      "__________________________________________________________________________________________________\n",
      "embedding_1 (Embedding)         (None, None, 50)     144150      input_1[0][0]                    \n",
      "__________________________________________________________________________________________________\n",
      "embedding_2 (Embedding)         (None, None, 50)     302800      input_2[0][0]                    \n",
      "__________________________________________________________________________________________________\n",
      "lstm_1 (LSTM)                   [(None, 50), (None,  20200       embedding_1[0][0]                \n",
      "__________________________________________________________________________________________________\n",
      "lstm_2 (LSTM)                   [(None, None, 50), ( 20200       embedding_2[0][0]                \n",
      "                                                                 lstm_1[0][1]                     \n",
      "                                                                 lstm_1[0][2]                     \n",
      "__________________________________________________________________________________________________\n",
      "dense_1 (Dense)                 (None, None, 6056)   308856      lstm_2[0][0]                     \n",
      "==================================================================================================\n",
      "Total params: 796,206\n",
      "Trainable params: 652,056\n",
      "Non-trainable params: 144,150\n",
      "__________________________________________________________________________________________________\n"
     ]
    }
   ],
   "source": [
    "model_seq= Model([encoder_inputs, decoder_inputs], decoder_outputs)\n",
    "model_seq.compile(optimizer='rmsprop',loss='categorical_crossentropy', metrics=['acc'])\n",
    "model_seq.summary()"
   ]
  },
  {
   "cell_type": "markdown",
   "metadata": {
    "colab_type": "text",
    "id": "mGAL7-Nx7E_J"
   },
   "source": [
    "Train the model - "
   ]
  },
  {
   "cell_type": "code",
   "execution_count": 23,
   "metadata": {
    "colab": {
     "base_uri": "https://localhost:8080/",
     "height": 1210
    },
    "colab_type": "code",
    "id": "ovWQs8KG09we",
    "outputId": "ccb3acf9-5d5c-403f-c31a-3c059837fdc3"
   },
   "outputs": [
    {
     "name": "stdout",
     "output_type": "stream",
     "text": [
      "WARNING:tensorflow:From /usr/local/lib/python3.6/dist-packages/tensorflow/python/ops/math_ops.py:3066: to_int32 (from tensorflow.python.ops.math_ops) is deprecated and will be removed in a future version.\n",
      "Instructions for updating:\n",
      "Use tf.cast instead.\n",
      "WARNING:tensorflow:From /usr/local/lib/python3.6/dist-packages/tensorflow/python/ops/math_grad.py:102: div (from tensorflow.python.ops.math_ops) is deprecated and will be removed in a future version.\n",
      "Instructions for updating:\n",
      "Deprecated in favor of operator or tf.math.divide.\n",
      "Train on 9547 samples, validate on 503 samples\n",
      "Epoch 1/30\n",
      "9547/9547 [==============================] - 47s 5ms/step - loss: 2.4541 - acc: 0.0721 - val_loss: 1.9930 - val_acc: 0.0714\n",
      "Epoch 2/30\n",
      "9547/9547 [==============================] - 45s 5ms/step - loss: 1.9174 - acc: 0.0727 - val_loss: 1.8519 - val_acc: 0.0866\n",
      "Epoch 3/30\n",
      "9547/9547 [==============================] - 45s 5ms/step - loss: 1.7779 - acc: 0.0951 - val_loss: 1.7342 - val_acc: 0.1304\n",
      "Epoch 4/30\n",
      "9547/9547 [==============================] - 45s 5ms/step - loss: 1.6510 - acc: 0.1386 - val_loss: 1.6294 - val_acc: 0.1430\n",
      "Epoch 5/30\n",
      "9547/9547 [==============================] - 45s 5ms/step - loss: 1.5544 - acc: 0.1480 - val_loss: 1.5590 - val_acc: 0.1534\n",
      "Epoch 6/30\n",
      "9547/9547 [==============================] - 45s 5ms/step - loss: 1.4850 - acc: 0.1576 - val_loss: 1.5081 - val_acc: 0.1634\n",
      "Epoch 7/30\n",
      "9547/9547 [==============================] - 45s 5ms/step - loss: 1.4296 - acc: 0.1679 - val_loss: 1.4635 - val_acc: 0.1734\n",
      "Epoch 8/30\n",
      "9547/9547 [==============================] - 45s 5ms/step - loss: 1.3811 - acc: 0.1772 - val_loss: 1.4268 - val_acc: 0.1795\n",
      "Epoch 9/30\n",
      "9547/9547 [==============================] - 45s 5ms/step - loss: 1.3383 - acc: 0.1817 - val_loss: 1.3932 - val_acc: 0.1832\n",
      "Epoch 10/30\n",
      "9547/9547 [==============================] - 46s 5ms/step - loss: 1.3016 - acc: 0.1849 - val_loss: 1.3651 - val_acc: 0.1874\n",
      "Epoch 11/30\n",
      "9547/9547 [==============================] - 45s 5ms/step - loss: 1.2691 - acc: 0.1881 - val_loss: 1.3413 - val_acc: 0.1899\n",
      "Epoch 12/30\n",
      "9547/9547 [==============================] - 46s 5ms/step - loss: 1.2396 - acc: 0.1912 - val_loss: 1.3228 - val_acc: 0.1923\n",
      "Epoch 13/30\n",
      "9547/9547 [==============================] - 46s 5ms/step - loss: 1.2130 - acc: 0.1940 - val_loss: 1.3013 - val_acc: 0.1933\n",
      "Epoch 14/30\n",
      "9547/9547 [==============================] - 45s 5ms/step - loss: 1.1885 - acc: 0.1966 - val_loss: 1.2844 - val_acc: 0.1958\n",
      "Epoch 15/30\n",
      "9547/9547 [==============================] - 45s 5ms/step - loss: 1.1660 - acc: 0.1996 - val_loss: 1.2678 - val_acc: 0.1992\n",
      "Epoch 16/30\n",
      "9547/9547 [==============================] - 45s 5ms/step - loss: 1.1448 - acc: 0.2024 - val_loss: 1.2507 - val_acc: 0.2026\n",
      "Epoch 17/30\n",
      "9547/9547 [==============================] - 45s 5ms/step - loss: 1.1249 - acc: 0.2049 - val_loss: 1.2398 - val_acc: 0.2032\n",
      "Epoch 18/30\n",
      "9547/9547 [==============================] - 45s 5ms/step - loss: 1.1063 - acc: 0.2069 - val_loss: 1.2313 - val_acc: 0.2059\n",
      "Epoch 19/30\n",
      "9547/9547 [==============================] - 45s 5ms/step - loss: 1.0885 - acc: 0.2091 - val_loss: 1.2166 - val_acc: 0.2062\n",
      "Epoch 20/30\n",
      "9547/9547 [==============================] - 45s 5ms/step - loss: 1.0718 - acc: 0.2106 - val_loss: 1.2041 - val_acc: 0.2102\n",
      "Epoch 21/30\n",
      "9547/9547 [==============================] - 45s 5ms/step - loss: 1.0562 - acc: 0.2121 - val_loss: 1.1967 - val_acc: 0.2100\n",
      "Epoch 22/30\n",
      "9547/9547 [==============================] - 45s 5ms/step - loss: 1.0407 - acc: 0.2139 - val_loss: 1.1854 - val_acc: 0.2116\n",
      "Epoch 23/30\n",
      "9547/9547 [==============================] - 46s 5ms/step - loss: 1.0257 - acc: 0.2163 - val_loss: 1.1760 - val_acc: 0.2140\n",
      "Epoch 24/30\n",
      "9547/9547 [==============================] - 45s 5ms/step - loss: 1.0112 - acc: 0.2179 - val_loss: 1.1713 - val_acc: 0.2147\n",
      "Epoch 25/30\n",
      "9547/9547 [==============================] - 45s 5ms/step - loss: 0.9975 - acc: 0.2192 - val_loss: 1.1612 - val_acc: 0.2168\n",
      "Epoch 26/30\n",
      "9547/9547 [==============================] - 45s 5ms/step - loss: 0.9834 - acc: 0.2208 - val_loss: 1.1590 - val_acc: 0.2163\n",
      "Epoch 27/30\n",
      "9547/9547 [==============================] - 45s 5ms/step - loss: 0.9700 - acc: 0.2222 - val_loss: 1.1483 - val_acc: 0.2188\n",
      "Epoch 28/30\n",
      "9547/9547 [==============================] - 45s 5ms/step - loss: 0.9570 - acc: 0.2236 - val_loss: 1.1396 - val_acc: 0.2191\n",
      "Epoch 29/30\n",
      "9547/9547 [==============================] - 45s 5ms/step - loss: 0.9447 - acc: 0.2246 - val_loss: 1.1322 - val_acc: 0.2194\n",
      "Epoch 30/30\n",
      "9547/9547 [==============================] - 45s 5ms/step - loss: 0.9321 - acc: 0.2264 - val_loss: 1.1302 - val_acc: 0.2201\n"
     ]
    },
    {
     "name": "stderr",
     "output_type": "stream",
     "text": [
      "/usr/local/lib/python3.6/dist-packages/keras/engine/network.py:877: UserWarning: Layer lstm_2 was passed non-serializable keyword arguments: {'initial_state': [<tf.Tensor 'lstm_1/while/Exit_2:0' shape=(?, 50) dtype=float32>, <tf.Tensor 'lstm_1/while/Exit_3:0' shape=(?, 50) dtype=float32>]}. They will not be included in the serialized model (and thus will be missing at deserialization time).\n",
      "  '. They will not be included '\n"
     ]
    }
   ],
   "source": [
    "if(os.path.isfile('./seq2seq_source_target.h5')):\n",
    "    model_seq.load_weights('seq2seq_source_target.h5')\n",
    "else:\n",
    "    model_seq.fit([encoder_input_data_train, decoder_input_data_train], decoder_target_data_train,\n",
    "          batch_size=128,\n",
    "          epochs=30,\n",
    "          validation_split=0.05)  \n",
    "    model_seq.save('seq2seq_source_target.h5')"
   ]
  },
  {
   "cell_type": "markdown",
   "metadata": {
    "colab_type": "text",
    "id": "0Sy_WCp31x79"
   },
   "source": [
    "# Section 3 Testing\n",
    "\n",
    "** Task 4 **\n",
    "\n",
    "*   Use the trained model to translate the text from source into target language. Use the test/evaluation set (see Section 1) and perform an automatic evaluation with the BLEU metric. use the NLTK library to calculate BLEU.\n"
   ]
  },
  {
   "cell_type": "markdown",
   "metadata": {
    "colab_type": "text",
    "id": "NC9SMbX4wzEd"
   },
   "source": [
    "Prepara Data for Test (Only the Source Data) same as training data -"
   ]
  },
  {
   "cell_type": "code",
   "execution_count": 0,
   "metadata": {
    "colab": {},
    "colab_type": "code",
    "id": "vmKG23DpoC_5"
   },
   "outputs": [],
   "source": [
    "encoder_input_data_test = np.zeros(\n",
    "    (len(input_texts_test), max_source_seq_length),\n",
    "    dtype='float32')\n"
   ]
  },
  {
   "cell_type": "code",
   "execution_count": 0,
   "metadata": {
    "colab": {},
    "colab_type": "code",
    "id": "8Srol4P4oGiN"
   },
   "outputs": [],
   "source": [
    "for i, (input_text, target_text) in enumerate(zip(input_texts_test, target_texts_test)):\n",
    "    for t, word in enumerate(nltk.word_tokenize(input_text)):\n",
    "        encoder_input_data_test[i, t] = input_token_index[word]\n"
   ]
  },
  {
   "cell_type": "code",
   "execution_count": 26,
   "metadata": {
    "colab": {
     "base_uri": "https://localhost:8080/",
     "height": 34
    },
    "colab_type": "code",
    "id": "2qIjQ4qtoKtv",
    "outputId": "43742d13-1c89-4765-9574-1fa6b17cf0ce"
   },
   "outputs": [
    {
     "name": "stdout",
     "output_type": "stream",
     "text": [
      "(4950, 7)\n"
     ]
    }
   ],
   "source": [
    "print(encoder_input_data_test.shape)\n"
   ]
  },
  {
   "cell_type": "markdown",
   "metadata": {
    "colab_type": "text",
    "id": "d3OxD5jl7v2w"
   },
   "source": [
    "Create a dictionary to get the word from their index -"
   ]
  },
  {
   "cell_type": "code",
   "execution_count": 0,
   "metadata": {
    "colab": {},
    "colab_type": "code",
    "id": "DNQ7TM-gKdes"
   },
   "outputs": [],
   "source": [
    "reverse_target_char_index = dict(\n",
    "    (i, char) for char, i in target_token_index.items())"
   ]
  },
  {
   "cell_type": "markdown",
   "metadata": {
    "colab_type": "text",
    "id": "wE1Loti077ys"
   },
   "source": [
    "To Predict we will create a model sames as training without the softmax layer:\n",
    "\n",
    "* This will behave as transfer learning\n",
    "* Will use the already trained embedding and the encoder and decoder states values"
   ]
  },
  {
   "cell_type": "code",
   "execution_count": 28,
   "metadata": {
    "colab": {
     "base_uri": "https://localhost:8080/",
     "height": 238
    },
    "colab_type": "code",
    "id": "ileAwn3_IJX_",
    "outputId": "09d01247-936e-4c07-d34b-4d4d94892397"
   },
   "outputs": [
    {
     "name": "stdout",
     "output_type": "stream",
     "text": [
      "_________________________________________________________________\n",
      "Layer (type)                 Output Shape              Param #   \n",
      "=================================================================\n",
      "input_1 (InputLayer)         (None, None)              0         \n",
      "_________________________________________________________________\n",
      "embedding_1 (Embedding)      (None, None, 50)          144150    \n",
      "_________________________________________________________________\n",
      "lstm_1 (LSTM)                [(None, 50), (None, 50),  20200     \n",
      "=================================================================\n",
      "Total params: 164,350\n",
      "Trainable params: 20,200\n",
      "Non-trainable params: 144,150\n",
      "_________________________________________________________________\n"
     ]
    }
   ],
   "source": [
    "# Encoder Model\n",
    "encoder_model = Model(encoder_inputs, encoder_states)\n",
    "encoder_model.summary()"
   ]
  },
  {
   "cell_type": "code",
   "execution_count": 0,
   "metadata": {
    "colab": {},
    "colab_type": "code",
    "id": "dH7HtYhoIYyn"
   },
   "outputs": [],
   "source": [
    "# Decoder Model\n",
    "# Decoder States\n",
    "decoder_state_input_h = Input(shape=(50,))\n",
    "decoder_state_input_c = Input(shape=(50,))\n",
    "decoder_states_inputs = [decoder_state_input_h, decoder_state_input_c]\n",
    "\n",
    "# Decoder Embedding with pre trained weights\n",
    "final_dex2= decoder_embedd(decoder_inputs)\n",
    "\n",
    "# Decoder LSTM with Pretrained weights\n",
    "decoder_outputs2, state_h2, state_c2 = decoder_lstm(final_dex2, initial_state=decoder_states_inputs)\n",
    "decoder_states2 = [state_h2, state_c2]\n",
    "# Decoder Dense with Pretrained Weights\n",
    "decoder_outputs2 = decoder_dense(decoder_outputs2)\n",
    "# Decoder Final Model\n",
    "decoder_model = Model(\n",
    "    [decoder_inputs] + decoder_states_inputs,\n",
    "    [decoder_outputs2] + decoder_states2)"
   ]
  },
  {
   "cell_type": "code",
   "execution_count": 0,
   "metadata": {
    "colab": {},
    "colab_type": "code",
    "id": "lXg4Nacd253k"
   },
   "outputs": [],
   "source": [
    "#Your code goes here\n",
    "\n",
    "def decode_sequence(input_seq):\n",
    "    # Encode the input as state vectors.\n",
    "    states_value = encoder_model.predict(input_seq)\n",
    "    # Generate empty target sequence of length 1.\n",
    "    target_seq = np.zeros((1,1))\n",
    "    # Populate the first character of target sequence with the start character.\n",
    "    target_seq[0, 0] = target_token_index['sos_']\n",
    "\n",
    "    # Sampling loop for a batch of sequences\n",
    "    # (to simplify, here we assume a batch of size 1).\n",
    "    stop_condition = False\n",
    "    decoded_sentence = ''\n",
    "    while not stop_condition:\n",
    "        output_tokens, h, c = decoder_model.predict(\n",
    "            [target_seq] + states_value)\n",
    "\n",
    "        # Sample a token\n",
    "        sampled_token_index = np.argmax(output_tokens[0, -1, :])\n",
    "        sampled_char = reverse_target_char_index[sampled_token_index]\n",
    "\n",
    "        # Exit condition: either hit max length\n",
    "        # or find stop character.\n",
    "        if (sampled_char == '_eos' or\n",
    "           len(decoded_sentence) > max_target_seq_length):\n",
    "            decoded_sentence = 'sos_ '+ decoded_sentence + ' _eos'\n",
    "            stop_condition = True\n",
    "        else:\n",
    "            decoded_sentence += ' '+sampled_char  \n",
    "\n",
    "        # Update the target sequence (of length 1).\n",
    "        target_seq = np.zeros((1,1))\n",
    "        target_seq[0, 0] = sampled_token_index\n",
    "\n",
    "        # Update states\n",
    "        states_value = [h, c]\n",
    "        \n",
    "        \n",
    "    return decoded_sentence"
   ]
  },
  {
   "cell_type": "markdown",
   "metadata": {
    "colab_type": "text",
    "id": "GID-RW93B_yY"
   },
   "source": [
    "Create list of Actual and predicted Target Values"
   ]
  },
  {
   "cell_type": "code",
   "execution_count": 0,
   "metadata": {
    "colab": {},
    "colab_type": "code",
    "id": "2S2BZNeiKNik"
   },
   "outputs": [],
   "source": [
    "actual_seq, predicted_seq = list(), list()\n",
    "for seq_index in range(len(encoder_input_data_test)):\n",
    "    input_seq = encoder_input_data_test[seq_index: seq_index + 1]\n",
    "    decoded_sent = decode_sequence(input_seq)\n",
    "    predicted_seq.append(nltk.word_tokenize(decoded_sent))\n",
    "    actual_seq.append([nltk.word_tokenize(target_texts_test[seq_index])])"
   ]
  },
  {
   "cell_type": "markdown",
   "metadata": {
    "colab_type": "text",
    "id": "ekwaGpL1CNE2"
   },
   "source": [
    "Calculate Cumulative BLEU Score :"
   ]
  },
  {
   "cell_type": "code",
   "execution_count": 32,
   "metadata": {
    "colab": {
     "base_uri": "https://localhost:8080/",
     "height": 102
    },
    "colab_type": "code",
    "id": "EsnF65zEKtB2",
    "outputId": "e0416c38-c8f6-43db-f9be-a12255381dae"
   },
   "outputs": [
    {
     "name": "stdout",
     "output_type": "stream",
     "text": [
      "BLEU Score on Test Set : \n",
      "BLEU-1: 0.493255\n",
      "BLEU-2: 0.308685\n",
      "BLEU-3: 0.217218\n",
      "BLEU-4: 0.105131\n"
     ]
    }
   ],
   "source": [
    "print(\"BLEU Score on Test Set : \")\n",
    "print('BLEU-1: %f' % corpus_bleu(actual_seq, predicted_seq, weights=(1.0, 0, 0, 0)))\n",
    "print('BLEU-2: %f' % corpus_bleu(actual_seq, predicted_seq, weights=(0.5, 0.5, 0, 0)))\n",
    "print('BLEU-3: %f' % corpus_bleu(actual_seq, predicted_seq, weights=(0.3, 0.3, 0.3, 0)))\n",
    "print('BLEU-4: %f' % corpus_bleu(actual_seq, predicted_seq, weights=(0.25, 0.25, 0.25, 0.25)))"
   ]
  },
  {
   "cell_type": "markdown",
   "metadata": {
    "colab_type": "text",
    "id": "wb4F1-a00Hw6"
   },
   "source": [
    "# Section 4 Attention\n",
    "\n",
    "---\n",
    "\n"
   ]
  },
  {
   "cell_type": "markdown",
   "metadata": {
    "colab_type": "text",
    "id": "6XTD-fCC1yUA"
   },
   "source": [
    "** Task 5 **sequence2sequence\n",
    "\n",
    "* Extend the existing Seq2Seq model with an attention mechanism\n",
    "* Create sequence2sequence model with attention\n",
    "* Train the model with the same data from Section 1\n",
    "* Translate the evaluation using the sequence2sequence attention model\n",
    "* Evaluate the translations made with the sequence2sequence attention model and compare it with the model without attention using BLEU"
   ]
  },
  {
   "cell_type": "markdown",
   "metadata": {
    "colab_type": "text",
    "id": "_WJ5yYwKJmy5"
   },
   "source": [
    "Make the sequence to sequence with attention model :\n",
    "\n",
    "* Here I am using global attention model proposed in Lonng et al’s paper"
   ]
  },
  {
   "cell_type": "code",
   "execution_count": 0,
   "metadata": {
    "colab": {},
    "colab_type": "code",
    "id": "_SxiKIAgTUoG"
   },
   "outputs": [],
   "source": [
    "# Import additional libraries\n",
    "from keras.layers import Activation, dot, concatenate\n",
    "from keras.layers import TimeDistributed"
   ]
  },
  {
   "cell_type": "code",
   "execution_count": 0,
   "metadata": {
    "colab": {},
    "colab_type": "code",
    "id": "cddDQ4923cPY"
   },
   "outputs": [],
   "source": [
    "# Define Encoder and Decoder Input\n",
    "encoder_input = Input(shape=(max_source_seq_length,))\n",
    "decoder_input = Input(shape=(max_target_seq_length,))"
   ]
  },
  {
   "cell_type": "code",
   "execution_count": 0,
   "metadata": {
    "colab": {},
    "colab_type": "code",
    "id": "8LtcGO4uShu8"
   },
   "outputs": [],
   "source": [
    "# Embedding (non-trainable) with Glove Embedding weight\n",
    "encoder = Embedding(num_source_tokens, embedding_size , weights=[embedding_matrix] , \n",
    "                    input_length=max_source_seq_length , mask_zero=True , trainable=False)(encoder_input) #\n",
    "# Encoder LSTM\n",
    "encoder = LSTM(embedding_size, return_sequences=True, unroll=True)(encoder)\n",
    "# Last word from encoder to fed to the decoder input\n",
    "encoder_last = encoder[:,-1,:]"
   ]
  },
  {
   "cell_type": "code",
   "execution_count": 0,
   "metadata": {
    "colab": {},
    "colab_type": "code",
    "id": "pwtqMEWTSizu"
   },
   "outputs": [],
   "source": [
    "# Decoder Embedding with Normal Keras Embedding (will be trained)\n",
    "decoder = Embedding(num_target_tokens, embedding_size, \n",
    "                    mask_zero=True, input_length=max_target_seq_length)(decoder_input) #, mask_zero=True\n",
    "# Decoder LSTM\n",
    "decoder = LSTM(embedding_size, return_sequences=True, unroll=True)(decoder, initial_state=[encoder_last, encoder_last])\n"
   ]
  },
  {
   "cell_type": "code",
   "execution_count": 0,
   "metadata": {
    "colab": {},
    "colab_type": "code",
    "id": "a56b_dfNSnM7"
   },
   "outputs": [],
   "source": [
    "# Attention dot product of the encoder and decoder weights\n",
    "attention = dot([decoder, encoder], axes=[2, 2])\n",
    "# Attention Softmax to get the optimum weight\n",
    "attention = Activation('softmax', name='attention')(attention)\n",
    "\n",
    "# Context dot product of pre attention weight with encoder\n",
    "context = dot([attention, encoder], axes=[2,1])"
   ]
  },
  {
   "cell_type": "code",
   "execution_count": 0,
   "metadata": {
    "colab": {},
    "colab_type": "code",
    "id": "GIIOrJVKSwpE"
   },
   "outputs": [],
   "source": [
    "# Decoder combined context \n",
    "decoder_combined_context = concatenate([context, decoder])\n",
    "\n",
    "# Time Distributed Layer with activation and softmax\n",
    "output = TimeDistributed(Dense(embedding_size, activation=\"tanh\"))(decoder_combined_context)\n",
    "output = TimeDistributed(Dense(num_target_tokens, activation=\"softmax\"))(output)\n"
   ]
  },
  {
   "cell_type": "markdown",
   "metadata": {
    "colab_type": "text",
    "id": "BASngNMHJvO0"
   },
   "source": [
    "Final Model"
   ]
  },
  {
   "cell_type": "code",
   "execution_count": 0,
   "metadata": {
    "colab": {},
    "colab_type": "code",
    "id": "-oCC9ceETBSH"
   },
   "outputs": [],
   "source": [
    "# Final Model\n",
    "model_attention = Model(inputs=[encoder_input, decoder_input], outputs=[output])\n",
    "model_attention.compile(optimizer='rmsprop', loss='categorical_crossentropy',metrics=['acc']) # 'adam'"
   ]
  },
  {
   "cell_type": "code",
   "execution_count": 40,
   "metadata": {
    "colab": {
     "base_uri": "https://localhost:8080/",
     "height": 595
    },
    "colab_type": "code",
    "id": "1KV2y0oHSn8Y",
    "outputId": "a93f0e3b-febf-4d6e-a0e7-b01af10bd7c6"
   },
   "outputs": [
    {
     "name": "stdout",
     "output_type": "stream",
     "text": [
      "__________________________________________________________________________________________________\n",
      "Layer (type)                    Output Shape         Param #     Connected to                     \n",
      "==================================================================================================\n",
      "input_6 (InputLayer)            (None, 14)           0                                            \n",
      "__________________________________________________________________________________________________\n",
      "input_5 (InputLayer)            (None, 7)            0                                            \n",
      "__________________________________________________________________________________________________\n",
      "embedding_4 (Embedding)         (None, 14, 50)       302800      input_6[0][0]                    \n",
      "__________________________________________________________________________________________________\n",
      "embedding_3 (Embedding)         (None, 7, 50)        144150      input_5[0][0]                    \n",
      "__________________________________________________________________________________________________\n",
      "lstm_4 (LSTM)                   (None, 14, 50)       20200       embedding_4[0][0]                \n",
      "__________________________________________________________________________________________________\n",
      "lstm_3 (LSTM)                   (None, 7, 50)        20200       embedding_3[0][0]                \n",
      "__________________________________________________________________________________________________\n",
      "dot_1 (Dot)                     (None, 14, 7)        0           lstm_4[0][0]                     \n",
      "                                                                 lstm_3[0][0]                     \n",
      "__________________________________________________________________________________________________\n",
      "attention (Activation)          (None, 14, 7)        0           dot_1[0][0]                      \n",
      "__________________________________________________________________________________________________\n",
      "dot_2 (Dot)                     (None, 14, 50)       0           attention[0][0]                  \n",
      "                                                                 lstm_3[0][0]                     \n",
      "__________________________________________________________________________________________________\n",
      "concatenate_1 (Concatenate)     (None, 14, 100)      0           dot_2[0][0]                      \n",
      "                                                                 lstm_4[0][0]                     \n",
      "__________________________________________________________________________________________________\n",
      "time_distributed_1 (TimeDistrib (None, 14, 50)       5050        concatenate_1[0][0]              \n",
      "__________________________________________________________________________________________________\n",
      "time_distributed_2 (TimeDistrib (None, 14, 6056)     308856      time_distributed_1[0][0]         \n",
      "==================================================================================================\n",
      "Total params: 801,256\n",
      "Trainable params: 657,106\n",
      "Non-trainable params: 144,150\n",
      "__________________________________________________________________________________________________\n"
     ]
    }
   ],
   "source": [
    "model_attention.summary()"
   ]
  },
  {
   "cell_type": "markdown",
   "metadata": {
    "colab_type": "text",
    "id": "2EOocbneJx5j"
   },
   "source": [
    "Train the Model"
   ]
  },
  {
   "cell_type": "code",
   "execution_count": 41,
   "metadata": {
    "colab": {
     "base_uri": "https://localhost:8080/",
     "height": 1788
    },
    "colab_type": "code",
    "id": "88RIp6RvSn2a",
    "outputId": "b0209533-558b-468d-c76b-c05f10d42c9d"
   },
   "outputs": [
    {
     "name": "stdout",
     "output_type": "stream",
     "text": [
      "Train on 9547 samples, validate on 503 samples\n",
      "Epoch 1/50\n",
      "9547/9547 [==============================] - 48s 5ms/step - loss: 5.2714 - acc: 0.1469 - val_loss: 4.3991 - val_acc: 0.1556\n",
      "Epoch 2/50\n",
      "9547/9547 [==============================] - 43s 4ms/step - loss: 4.2665 - acc: 0.1546 - val_loss: 4.1526 - val_acc: 0.1556\n",
      "Epoch 3/50\n",
      "9547/9547 [==============================] - 43s 4ms/step - loss: 3.9453 - acc: 0.2098 - val_loss: 3.8449 - val_acc: 0.2802\n",
      "Epoch 4/50\n",
      "9547/9547 [==============================] - 43s 4ms/step - loss: 3.5972 - acc: 0.3045 - val_loss: 3.5809 - val_acc: 0.3065\n",
      "Epoch 5/50\n",
      "9547/9547 [==============================] - 43s 5ms/step - loss: 3.3572 - acc: 0.3215 - val_loss: 3.4059 - val_acc: 0.3242\n",
      "Epoch 6/50\n",
      "9547/9547 [==============================] - 43s 4ms/step - loss: 3.1909 - acc: 0.3420 - val_loss: 3.2682 - val_acc: 0.3548\n",
      "Epoch 7/50\n",
      "9547/9547 [==============================] - 43s 4ms/step - loss: 3.0593 - acc: 0.3664 - val_loss: 3.1626 - val_acc: 0.3818\n",
      "Epoch 8/50\n",
      "9547/9547 [==============================] - 43s 4ms/step - loss: 2.9555 - acc: 0.3794 - val_loss: 3.0994 - val_acc: 0.3870\n",
      "Epoch 9/50\n",
      "9547/9547 [==============================] - 43s 4ms/step - loss: 2.8709 - acc: 0.3894 - val_loss: 3.0209 - val_acc: 0.3960\n",
      "Epoch 10/50\n",
      "9547/9547 [==============================] - 43s 4ms/step - loss: 2.7938 - acc: 0.4013 - val_loss: 2.9533 - val_acc: 0.4114\n",
      "Epoch 11/50\n",
      "9547/9547 [==============================] - 43s 4ms/step - loss: 2.7256 - acc: 0.4141 - val_loss: 2.9227 - val_acc: 0.4142\n",
      "Epoch 12/50\n",
      "9547/9547 [==============================] - 43s 4ms/step - loss: 2.6645 - acc: 0.4206 - val_loss: 2.8584 - val_acc: 0.4297\n",
      "Epoch 13/50\n",
      "9547/9547 [==============================] - 43s 4ms/step - loss: 2.6078 - acc: 0.4284 - val_loss: 2.8110 - val_acc: 0.4371\n",
      "Epoch 14/50\n",
      "9547/9547 [==============================] - 43s 5ms/step - loss: 2.5544 - acc: 0.4351 - val_loss: 2.7738 - val_acc: 0.4402\n",
      "Epoch 15/50\n",
      "9547/9547 [==============================] - 43s 4ms/step - loss: 2.5063 - acc: 0.4411 - val_loss: 2.7267 - val_acc: 0.4446\n",
      "Epoch 16/50\n",
      "9547/9547 [==============================] - 43s 4ms/step - loss: 2.4630 - acc: 0.4450 - val_loss: 2.6973 - val_acc: 0.4535\n",
      "Epoch 17/50\n",
      "9547/9547 [==============================] - 43s 4ms/step - loss: 2.4231 - acc: 0.4505 - val_loss: 2.6663 - val_acc: 0.4591\n",
      "Epoch 18/50\n",
      "9547/9547 [==============================] - 43s 4ms/step - loss: 2.3854 - acc: 0.4554 - val_loss: 2.6457 - val_acc: 0.4569\n",
      "Epoch 19/50\n",
      "9547/9547 [==============================] - 43s 4ms/step - loss: 2.3495 - acc: 0.4600 - val_loss: 2.6130 - val_acc: 0.4572\n",
      "Epoch 20/50\n",
      "9547/9547 [==============================] - 43s 4ms/step - loss: 2.3160 - acc: 0.4631 - val_loss: 2.5935 - val_acc: 0.4609\n",
      "Epoch 21/50\n",
      "9547/9547 [==============================] - 43s 5ms/step - loss: 2.2836 - acc: 0.4681 - val_loss: 2.5558 - val_acc: 0.4668\n",
      "Epoch 22/50\n",
      "9547/9547 [==============================] - 43s 5ms/step - loss: 2.2516 - acc: 0.4723 - val_loss: 2.5276 - val_acc: 0.4692\n",
      "Epoch 23/50\n",
      "9547/9547 [==============================] - 43s 5ms/step - loss: 2.2223 - acc: 0.4759 - val_loss: 2.5160 - val_acc: 0.4717\n",
      "Epoch 24/50\n",
      "9547/9547 [==============================] - 43s 5ms/step - loss: 2.1953 - acc: 0.4805 - val_loss: 2.5084 - val_acc: 0.4689\n",
      "Epoch 25/50\n",
      "9547/9547 [==============================] - 43s 5ms/step - loss: 2.1691 - acc: 0.4824 - val_loss: 2.4806 - val_acc: 0.4702\n",
      "Epoch 26/50\n",
      "9547/9547 [==============================] - 43s 5ms/step - loss: 2.1434 - acc: 0.4865 - val_loss: 2.4674 - val_acc: 0.4779\n",
      "Epoch 27/50\n",
      "9547/9547 [==============================] - 43s 4ms/step - loss: 2.1191 - acc: 0.4897 - val_loss: 2.4605 - val_acc: 0.4776\n",
      "Epoch 28/50\n",
      "9547/9547 [==============================] - 43s 5ms/step - loss: 2.0964 - acc: 0.4929 - val_loss: 2.4463 - val_acc: 0.4832\n",
      "Epoch 29/50\n",
      "9547/9547 [==============================] - 43s 5ms/step - loss: 2.0743 - acc: 0.4952 - val_loss: 2.4275 - val_acc: 0.4844\n",
      "Epoch 30/50\n",
      "9547/9547 [==============================] - 43s 5ms/step - loss: 2.0529 - acc: 0.4999 - val_loss: 2.4192 - val_acc: 0.4885\n",
      "Epoch 31/50\n",
      "9547/9547 [==============================] - 43s 5ms/step - loss: 2.0330 - acc: 0.5019 - val_loss: 2.4184 - val_acc: 0.4869\n",
      "Epoch 32/50\n",
      "9547/9547 [==============================] - 43s 4ms/step - loss: 2.0127 - acc: 0.5042 - val_loss: 2.4152 - val_acc: 0.4850\n",
      "Epoch 33/50\n",
      "9547/9547 [==============================] - 43s 5ms/step - loss: 1.9927 - acc: 0.5068 - val_loss: 2.4105 - val_acc: 0.4847\n",
      "Epoch 34/50\n",
      "9547/9547 [==============================] - 43s 4ms/step - loss: 1.9738 - acc: 0.5091 - val_loss: 2.4057 - val_acc: 0.4884\n",
      "Epoch 35/50\n",
      "9547/9547 [==============================] - 43s 4ms/step - loss: 1.9545 - acc: 0.5123 - val_loss: 2.3682 - val_acc: 0.4918\n",
      "Epoch 36/50\n",
      "9547/9547 [==============================] - 43s 5ms/step - loss: 1.9360 - acc: 0.5133 - val_loss: 2.3714 - val_acc: 0.4912\n",
      "Epoch 37/50\n",
      "9547/9547 [==============================] - 43s 4ms/step - loss: 1.9176 - acc: 0.5171 - val_loss: 2.3491 - val_acc: 0.4922\n",
      "Epoch 38/50\n",
      "9547/9547 [==============================] - 43s 4ms/step - loss: 1.9021 - acc: 0.5174 - val_loss: 2.3600 - val_acc: 0.4924\n",
      "Epoch 39/50\n",
      "9547/9547 [==============================] - 43s 5ms/step - loss: 1.8847 - acc: 0.5200 - val_loss: 2.3449 - val_acc: 0.4946\n",
      "Epoch 40/50\n",
      "9547/9547 [==============================] - 43s 5ms/step - loss: 1.8690 - acc: 0.5225 - val_loss: 2.3396 - val_acc: 0.4940\n",
      "Epoch 41/50\n",
      "9547/9547 [==============================] - 43s 4ms/step - loss: 1.8524 - acc: 0.5252 - val_loss: 2.3420 - val_acc: 0.4903\n",
      "Epoch 42/50\n",
      "9547/9547 [==============================] - 43s 4ms/step - loss: 1.8374 - acc: 0.5264 - val_loss: 2.3410 - val_acc: 0.4937\n",
      "Epoch 43/50\n",
      "9547/9547 [==============================] - 43s 5ms/step - loss: 1.8227 - acc: 0.5286 - val_loss: 2.3482 - val_acc: 0.4927\n",
      "Epoch 44/50\n",
      "9547/9547 [==============================] - 43s 4ms/step - loss: 1.8080 - acc: 0.5309 - val_loss: 2.3149 - val_acc: 0.4964\n",
      "Epoch 45/50\n",
      "9547/9547 [==============================] - 43s 4ms/step - loss: 1.7934 - acc: 0.5331 - val_loss: 2.3322 - val_acc: 0.4939\n",
      "Epoch 46/50\n",
      "9547/9547 [==============================] - 43s 4ms/step - loss: 1.7801 - acc: 0.5340 - val_loss: 2.3095 - val_acc: 0.4961\n",
      "Epoch 47/50\n",
      "9547/9547 [==============================] - 43s 4ms/step - loss: 1.7663 - acc: 0.5362 - val_loss: 2.3170 - val_acc: 0.4971\n",
      "Epoch 48/50\n",
      "9547/9547 [==============================] - 42s 4ms/step - loss: 1.7529 - acc: 0.5372 - val_loss: 2.3238 - val_acc: 0.4968\n",
      "Epoch 49/50\n",
      "9547/9547 [==============================] - 43s 4ms/step - loss: 1.7391 - acc: 0.5396 - val_loss: 2.3215 - val_acc: 0.4989\n",
      "Epoch 50/50\n",
      "9547/9547 [==============================] - 43s 5ms/step - loss: 1.7265 - acc: 0.5407 - val_loss: 2.3084 - val_acc: 0.4968\n"
     ]
    },
    {
     "name": "stderr",
     "output_type": "stream",
     "text": [
      "/usr/local/lib/python3.6/dist-packages/keras/engine/network.py:877: UserWarning: Layer lstm_4 was passed non-serializable keyword arguments: {'initial_state': [<tf.Tensor 'strided_slice:0' shape=(?, 50) dtype=float32>, <tf.Tensor 'strided_slice:0' shape=(?, 50) dtype=float32>]}. They will not be included in the serialized model (and thus will be missing at deserialization time).\n",
      "  '. They will not be included '\n"
     ]
    }
   ],
   "source": [
    "if(os.path.isfile('./seq2seq_attention_source_target.h5')):\n",
    "    model_attention.load_weights('seq2seq_attention_source_target.h5')\n",
    "else:\n",
    "    model_attention.fit([encoder_input_data_train, decoder_input_data_train], decoder_target_data_train,\n",
    "              batch_size=128,\n",
    "              epochs=50,\n",
    "              validation_split=0.05)\n",
    "    model_attention.save('seq2seq_attention_source_target.h5')"
   ]
  },
  {
   "cell_type": "markdown",
   "metadata": {
    "colab_type": "text",
    "id": "TXrUhhgfJ5uH"
   },
   "source": [
    "Function to predict from input :"
   ]
  },
  {
   "cell_type": "code",
   "execution_count": 0,
   "metadata": {
    "colab": {},
    "colab_type": "code",
    "id": "I9JJaTbqSnr-"
   },
   "outputs": [],
   "source": [
    "def decode_sequence_attention(input_seq):\n",
    "    decoded_sentence = ''\n",
    "    # encoder input\n",
    "    encoder_input = input_seq.reshape(1,max_source_seq_length)\n",
    "    # create blank matrix for decoder data\n",
    "    decoder_input = np.zeros(shape=(len(encoder_input), max_target_seq_length))\n",
    "    # update the first element with the start index\n",
    "    decoder_input[:,0] = target_token_index['sos_']\n",
    "    # loop through the max length\n",
    "    for i in range(1, max_target_seq_length):\n",
    "        # Predict the index of the next word\n",
    "        output = model_attention.predict([encoder_input, decoder_input]).argmax(axis=2)\n",
    "        decoder_input[:,i] = output[:,i]\n",
    "    # Reverse to get the sentence from the word index\n",
    "    for d in decoder_input[:,0:][0]:\n",
    "        if (reverse_target_char_index[d] == '_eos'):\n",
    "            decoded_sentence += ' '+reverse_target_char_index[d]\n",
    "            break\n",
    "        decoded_sentence += ' '+reverse_target_char_index[d]\n",
    "    return decoded_sentence.strip()"
   ]
  },
  {
   "cell_type": "code",
   "execution_count": 43,
   "metadata": {
    "colab": {
     "base_uri": "https://localhost:8080/",
     "height": 51
    },
    "colab_type": "code",
    "id": "wmT3q03ASnTc",
    "outputId": "3e0198ca-7fe7-44ba-98bc-bfdb40fbfac2"
   },
   "outputs": [
    {
     "name": "stdout",
     "output_type": "stream",
     "text": [
      "sos_ nous avons un plan. _eos\n",
      "sos_ nous avons un plan . _eos\n"
     ]
    }
   ],
   "source": [
    "print(target_texts_train[10])\n",
    "print(decode_sequence_attention(encoder_input_data_train[10]))"
   ]
  },
  {
   "cell_type": "code",
   "execution_count": 44,
   "metadata": {
    "colab": {
     "base_uri": "https://localhost:8080/",
     "height": 34
    },
    "colab_type": "code",
    "id": "yfaZlEVJ0tTJ",
    "outputId": "6fae9878-1299-418a-ff82-a5ac8cd7287c"
   },
   "outputs": [
    {
     "data": {
      "text/plain": [
       "4950"
      ]
     },
     "execution_count": 44,
     "metadata": {
      "tags": []
     },
     "output_type": "execute_result"
    }
   ],
   "source": [
    "len(encoder_input_data_test)"
   ]
  },
  {
   "cell_type": "markdown",
   "metadata": {
    "colab_type": "text",
    "id": "cX27nnj2JWr_"
   },
   "source": [
    "Create list of actual and predicted target"
   ]
  },
  {
   "cell_type": "code",
   "execution_count": 0,
   "metadata": {
    "colab": {},
    "colab_type": "code",
    "id": "u99i8MjXbZ7w"
   },
   "outputs": [],
   "source": [
    "actual_attention, predicted_attention = list(), list()\n",
    "for seq_index in range(len(encoder_input_data_test)):\n",
    "    input_seq = encoder_input_data_test[seq_index: seq_index + 1]\n",
    "    decoded_sent = decode_sequence_attention(input_seq)\n",
    "    predicted_attention.append(nltk.word_tokenize(decoded_sent))\n",
    "    actual_attention.append([nltk.word_tokenize(target_texts_test[seq_index])])"
   ]
  },
  {
   "cell_type": "markdown",
   "metadata": {
    "colab_type": "text",
    "id": "htv7zbwZJ_zo"
   },
   "source": [
    "Get the Cumulative BLEU Score"
   ]
  },
  {
   "cell_type": "code",
   "execution_count": 46,
   "metadata": {
    "colab": {
     "base_uri": "https://localhost:8080/",
     "height": 102
    },
    "colab_type": "code",
    "id": "sc2YOxlhcl3V",
    "outputId": "bf7a528c-b0d2-4a11-9309-59eca8442569"
   },
   "outputs": [
    {
     "name": "stdout",
     "output_type": "stream",
     "text": [
      "BLEU Score on 1000 records of Training Set : \n",
      "BLEU-1: 0.560153\n",
      "BLEU-2: 0.413235\n",
      "BLEU-3: 0.279184\n",
      "BLEU-4: 0.142912\n"
     ]
    }
   ],
   "source": [
    "print(\"BLEU Score on 1000 records of Training Set : \")\n",
    "print('BLEU-1: %f' % corpus_bleu(actual_attention, predicted_attention, weights=(1.0, 0, 0, 0)))\n",
    "print('BLEU-2: %f' % corpus_bleu(actual_attention, predicted_attention, weights=(0.5, 0.5, 0, 0)))\n",
    "print('BLEU-3: %f' % corpus_bleu(actual_attention, predicted_attention, weights=(0.3, 0.3, 0.3, 0)))\n",
    "print('BLEU-4: %f' % corpus_bleu(actual_attention, predicted_attention, weights=(0.25, 0.25, 0.25, 0.25)))"
   ]
  },
  {
   "cell_type": "markdown",
   "metadata": {
    "colab_type": "text",
    "id": "hcbdzZZLNLaQ"
   },
   "source": [
    "**Observation :**\n",
    "\n",
    "* We have found the BLEU Score has been improved after applying the attention model\n",
    "* This can further improved if we use local attention layer and train more epochs with more data"
   ]
  },
  {
   "cell_type": "markdown",
   "metadata": {
    "colab_type": "text",
    "id": "h1iOeZmPrYr3"
   },
   "source": [
    "**Reference : **\n",
    "\n",
    "1. Medium. (2019). Neural Machine Translation using word level seq2seq model. [online] Available at: https://medium.com/@dev.elect.iitd/neural-machine-translation-using-word-level-seq2seq-model-47538cba8cd7 [Accessed 18 Apr. 2019].\n",
    "2. Tanakitrungruang, W. (2019). Attention-based Sequence-to-Sequence in Keras. [online] WT. Available at: https://wanasit.github.io/attention-based-sequence-to-sequence-in-keras.html [Accessed 18 Apr. 2019].\n",
    "3. Brownlee, J. (2019). How to Use Word Embedding Layers for Deep Learning with Keras. [online] Machine Learning Mastery. Available at: https://machinelearningmastery.com/use-word-embedding-layers-deep-learning-keras/ [Accessed 18 Apr. 2019].\n",
    "4. Brownlee, J. (2019). A Gentle Introduction to Calculating the BLEU Score for Text in Python. [online] Machine Learning Mastery. Available at: https://machinelearningmastery.com/calculate-bleu-score-for-text-python/ [Accessed 18 Apr. 2019].\n",
    "5. Luong, M., Pham, H. and Manning, C. (2019). Effective Approaches to Attention-based Neural Machine Translation. [online] arXiv.org. Available at: https://arxiv.org/abs/1508.04025 [Accessed 18 Apr. 2019]."
   ]
  }
 ],
 "metadata": {
  "colab": {
   "collapsed_sections": [],
   "name": "Assignment2_18231026_Adv_NLP.ipynb",
   "provenance": [],
   "toc_visible": true,
   "version": "0.3.2"
  },
  "kernelspec": {
   "display_name": "Python 3",
   "language": "python",
   "name": "python3"
  },
  "language_info": {
   "codemirror_mode": {
    "name": "ipython",
    "version": 3
   },
   "file_extension": ".py",
   "mimetype": "text/x-python",
   "name": "python",
   "nbconvert_exporter": "python",
   "pygments_lexer": "ipython3",
   "version": "3.6.5"
  }
 },
 "nbformat": 4,
 "nbformat_minor": 1
}
